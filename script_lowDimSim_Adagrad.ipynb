{
 "cells": [
  {
   "cell_type": "markdown",
   "metadata": {},
   "source": [
    "# About\n",
    "\n",
    "Implement a machine learning algorithm with gradient descent on a neuronal population model with delays, in order to find an optimal matrix of delay distribution such that the objective function $L(r)$ is maximized. This script implements the learning algorithm on a 3-dimensional setting, with equidistant nodes and randomized initial delays / velocities. We check to see if the delays converge to the same value, in order to maximize coincidence."
   ]
  },
  {
   "cell_type": "code",
   "execution_count": 1,
   "metadata": {},
   "outputs": [],
   "source": [
    "from __future__ import division, print_function\n",
    "\n",
    "%matplotlib inline\n",
    "# Toggle on/off\n",
    "# %matplotlib notebook\n",
    "\n",
    "import os\n",
    "import numpy as np\n",
    "import scipy.io as sio\n",
    "from scipy import optimize\n",
    "import scipy.integrate as integrate\n",
    "from scipy import stats\n",
    "from scipy.spatial import distance\n",
    "import matplotlib.cm as cm\n",
    "import matplotlib.pyplot as plt\n",
    "import matplotlib.transforms as tsfm\n",
    "import matplotlib.colors as clr\n",
    "import pandas as pd\n",
    "from tqdm.notebook import tqdm\n",
    "import math\n",
    "from math import pi\n",
    "\n",
    "\n",
    "from lib import *\n",
    "\n",
    "from IPython.display import clear_output"
   ]
  },
  {
   "cell_type": "markdown",
   "metadata": {},
   "source": [
    "# Dummy data"
   ]
  },
  {
   "cell_type": "code",
   "execution_count": 17,
   "metadata": {},
   "outputs": [],
   "source": [
    "# Dummy values\n",
    "N = 8\n",
    "r0 = 100*np.ones(N) # Baseline firing rate (in mHz)\n",
    "\n",
    "# Connectivity matrix (positive normal)\n",
    "W = np.random.uniform(low=0, high=1, size=(N,N))\n",
    "uppT_inds = np.triu_indices(N)\n",
    "W[uppT_inds[1], uppT_inds[0]] = W[uppT_inds[0], uppT_inds[1]] # Make W symmetric\n",
    "np.fill_diagonal(W, 0) # No feedback\n",
    "\n",
    "W_norm = FunLib.normalizeW(W)\n",
    "\n",
    "# Axonal lengths and initial delays\n",
    "radius = 110\n",
    "pos = radius * np.exp(2*pi*1j*np.arange(N)/N)\n",
    "pos2D = np.array([[pos[k].real, pos[k].imag] for k in range(pos.shape[0])])\n",
    "dist = distance.cdist(pos2D,pos2D,'euclidean')\n",
    "dist = dist / 1000 # Convert to meters\n",
    "vel0 = np.random.uniform(low=0.5, high=2.0, size=(N,N)) # Initial velocity\n",
    "tau0 = dist / vel0 # Initial delays"
   ]
  },
  {
   "cell_type": "markdown",
   "metadata": {},
   "source": [
    "# Parameters"
   ]
  },
  {
   "cell_type": "code",
   "execution_count": 18,
   "metadata": {},
   "outputs": [],
   "source": [
    "eta = 0.001\n",
    "numIters = 5000\n",
    "kappa = (2.5 / 1000)**2 # ms delay window\n",
    "# kappa = 1 / kappa"
   ]
  },
  {
   "cell_type": "markdown",
   "metadata": {},
   "source": [
    "# Employ learning model"
   ]
  },
  {
   "cell_type": "code",
   "execution_count": 4,
   "metadata": {},
   "outputs": [
    {
     "data": {
      "application/vnd.jupyter.widget-view+json": {
       "model_id": "48fbd34fd9ae41a99a977ea372553169",
       "version_major": 2,
       "version_minor": 0
      },
      "text/plain": [
       "  0%|          | 0/5000 [00:00<?, ?it/s]"
      ]
     },
     "metadata": {},
     "output_type": "display_data"
    }
   ],
   "source": [
    "time = range(numIters)\n",
    "\n",
    "# Set up arrays\n",
    "obj_arr = np.zeros(numIters)\n",
    "stab_arr = np.zeros(numIters)\n",
    "tau_arr = np.zeros((numIters, N**2))\n",
    "vel_arr = np.zeros((numIters, N**2))\n",
    "grad_arr = np.zeros((numIters, N**2))\n",
    "slope_arr = np.zeros((numIters, N**2))\n",
    "rate_arr = np.zeros((numIters, N))\n",
    "\n",
    "# Initialize (starts after first iteration, not at initial condition)\n",
    "r_i = r0\n",
    "tau = tau0\n",
    "vel = vel0\n",
    "\n",
    "# Non-zero connections\n",
    "W_inds = np.where(W != 0)\n",
    "\n",
    "# ADAGRAD\n",
    "adagrad = np.zeros((N,N)) # Ongoing sum of squares of gradients\n",
    "epsilon = 1e-8\n",
    "avg_fac = 0.9 # Lower means more squared weight of added gradient. 0.9 is typical.\n",
    "\n",
    "# ADAM\n",
    "adam_mi = np.zeros((N,N))\n",
    "adam_vi = np.zeros((N,N))\n",
    "beta1 = 0.9\n",
    "beta2 = 0.999\n",
    "\n",
    "tech = 'adagrad'\n",
    "\n",
    "# MAIN LOOP\n",
    "for i in tqdm(time):\n",
    "    \n",
    "    gamma = FunLib.coincidenceFactor(kappa, W_norm, tau)\n",
    "    # gamma = FunLib.coincidenceFactorOrig(kappa, W, tau)\n",
    "    \n",
    "    # Determine the equilibrium solution using current delays\n",
    "    r_i = np.linalg.solve(np.identity(N) - W*gamma/N, r0)\n",
    "    \n",
    "    # Stability\n",
    "    eigs = np.linalg.eig(W*gamma/N - np.eye(N))\n",
    "    \n",
    "    # Obtain gradient:\n",
    "    gradL = np.zeros((N,N))\n",
    "    for k in range(W_inds[0].size):\n",
    "        ind = (W_inds[0][k], W_inds[1][k])\n",
    "        gradL[ind[0], ind[1]] = FunLib.derivObjectiveTau(W, W_norm, tau, kappa, gamma, r_i, ind)\n",
    "        # gradL[ind[0], ind[1]] = FunLib.derivObjectiveTauOrig(W, tau, kappa, gamma, r_i, ind)\n",
    "    \n",
    "    # Apply gradient onto velocities:\n",
    "    gradL_vel = gradL * (-dist / vel**2)\n",
    "    \n",
    "    # BASIC NORMAL\n",
    "    if tech == 'normal':\n",
    "        slope = gradL_vel / ( 1 + np.linalg.norm(gradL_vel))\n",
    "    \n",
    "    elif tech == 'adagrad':\n",
    "        adagrad = avg_fac * adagrad + (1 - avg_fac) * gradL_vel**2\n",
    "        slope = gradL_vel / (np.sqrt(adagrad + epsilon))\n",
    "    \n",
    "    elif tech == 'adam':\n",
    "        adam_mi = beta1 * adam_mi + (1 - beta1) * gradL\n",
    "        adam_vi = beta2 * adam_vi + (1 - beta2) * gradL**2\n",
    "        adamHat_mi = adam_mi / (1 - beta1)\n",
    "        adamHat_vi = adam_vi / (1 - beta2)\n",
    "        slope = adamHat_mi / (np.sqrt(adamHat_vi + epsilon))\n",
    "      \n",
    "    # UPDATE:\n",
    "    vel = vel + eta * slope\n",
    "    tau = dist / vel\n",
    "    \n",
    "    # Store functions\n",
    "    obj_arr[i] = FunLib.objectiveFun(r_i)\n",
    "    vel_arr[i] = np.reshape(vel, -1)\n",
    "    tau_arr[i] = np.reshape(tau, -1)\n",
    "    grad_arr[i] = np.reshape(gradL_vel, -1)\n",
    "    slope_arr[i] = np.reshape(slope, -1)\n",
    "    stab_arr[i] = np.max(np.real(eigs[0]))\n",
    "    rate_arr[i] = r_i"
   ]
  },
  {
   "cell_type": "markdown",
   "metadata": {},
   "source": [
    "# Figures"
   ]
  },
  {
   "cell_type": "markdown",
   "metadata": {},
   "source": [
    "## Objective over iterations"
   ]
  },
  {
   "cell_type": "code",
   "execution_count": 19,
   "metadata": {},
   "outputs": [
    {
     "data": {
      "text/plain": [
       "<matplotlib.lines.Line2D at 0x2a4de393630>"
      ]
     },
     "execution_count": 19,
     "metadata": {},
     "output_type": "execute_result"
    },
    {
     "data": {
      "image/png": "[encoded data removed]",
      "text/plain": [
       "<Figure size 960x320 with 2 Axes>"
      ]
     },
     "metadata": {},
     "output_type": "display_data"
    }
   ],
   "source": [
    "# Maximal objective:\n",
    "r_iMax = np.linalg.solve(np.identity(N) - W*np.ones(W.shape)/N, r0)\n",
    "objMax = FunLib.objectiveFun(r_iMax)\n",
    "fac = 1000\n",
    "\n",
    "fig, ax = plt.subplots(1,2, figsize=(12,4), dpi=80)\n",
    "iters = np.arange(numIters)\n",
    "ax[0].plot(iters, obj_arr / fac)\n",
    "ax[1].plot(iters, obj_arr/ fac)\n",
    "ax[1].axhline(objMax / fac, color='black')\n",
    "# ax[1].set_xlim(left=-10, right=numIters)"
   ]
  },
  {
   "cell_type": "markdown",
   "metadata": {},
   "source": [
    "## Delays, velocities over time"
   ]
  },
  {
   "cell_type": "code",
   "execution_count": 6,
   "metadata": {},
   "outputs": [
    {
     "data": {
      "image/png": "[encoded data removed]",
      "text/plain": [
       "<Figure size 1080x720 with 2 Axes>"
      ]
     },
     "metadata": {},
     "output_type": "display_data"
    }
   ],
   "source": [
    "# Options\n",
    "lw1 = 0.8\n",
    "alp1 = 0.5\n",
    "\n",
    "fig, axs = plt.subplots(2, figsize=(15,10))\n",
    "axs[0].plot(iters, tau_arr, linewidth=lw1, alpha=alp1, color='blue')\n",
    "axs[1].plot(iters, vel_arr, linewidth=lw1, alpha=alp1, color='green')\n",
    "\n",
    "for i in range(len(axs)):\n",
    "    axs[i].set_xlim(left=-10, right=numIters)"
   ]
  },
  {
   "cell_type": "markdown",
   "metadata": {},
   "source": [
    "## Gradient over time"
   ]
  },
  {
   "cell_type": "code",
   "execution_count": 7,
   "metadata": {},
   "outputs": [
    {
     "data": {
      "text/plain": [
       "<matplotlib.lines.Line2D at 0x2a4dbad3400>"
      ]
     },
     "execution_count": 7,
     "metadata": {},
     "output_type": "execute_result"
    },
    {
     "data": {
      "image/png": "[encoded data removed]",
      "text/plain": [
       "<Figure size 960x320 with 1 Axes>"
      ]
     },
     "metadata": {},
     "output_type": "display_data"
    }
   ],
   "source": [
    "fig, ax = plt.subplots(1, figsize=(12,4), dpi=80)\n",
    "iters = np.arange(numIters)\n",
    "# ax.plot(iters, grad_arr * np.reshape(W != 0, -1), linewidth=lw1, alpha=alp1, color='purple', zorder=0)\n",
    "ax.plot(iters, slope_arr * np.reshape(W != 0, -1), linewidth=lw1, alpha=alp1, color='blue', zorder=1)\n",
    "ax.set_xlim(left=0, right=numIters)\n",
    "ax.axhline(y=0, color='black', linewidth=2.0, zorder=1)"
   ]
  },
  {
   "cell_type": "markdown",
   "metadata": {},
   "source": [
    "## Rates over time"
   ]
  },
  {
   "cell_type": "code",
   "execution_count": 8,
   "metadata": {},
   "outputs": [
    {
     "data": {
      "text/plain": [
       "<matplotlib.lines.Line2D at 0x2a4de151748>"
      ]
     },
     "execution_count": 8,
     "metadata": {},
     "output_type": "execute_result"
    },
    {
     "data": {
      "image/png": "[encoded data removed]",
      "text/plain": [
       "<Figure size 960x320 with 1 Axes>"
      ]
     },
     "metadata": {},
     "output_type": "display_data"
    }
   ],
   "source": [
    "fig, ax = plt.subplots(1, figsize=(12,4), dpi=80)\n",
    "iters = np.arange(numIters)\n",
    "ax.plot(iters, rate_arr, linewidth=lw1, alpha=alp1, color='purple')\n",
    "ax.set_xlim(left=-10, right=numIters+10)\n",
    "ax.axhline(y=0, color='black', linewidth=2.0, zorder=1)"
   ]
  },
  {
   "cell_type": "markdown",
   "metadata": {},
   "source": [
    "## Connections"
   ]
  },
  {
   "cell_type": "code",
   "execution_count": 9,
   "metadata": {},
   "outputs": [
    {
     "data": {
      "text/plain": [
       "<matplotlib.collections.PathCollection at 0x2a4dcabcb00>"
      ]
     },
     "execution_count": 9,
     "metadata": {},
     "output_type": "execute_result"
    },
    {
     "data": {
      "image/png": "[encoded data removed]",
      "text/plain": [
       "<Figure size 432x288 with 1 Axes>"
      ]
     },
     "metadata": {},
     "output_type": "display_data"
    }
   ],
   "source": [
    "fig, ax = plt.subplots()\n",
    "ax.scatter(pos2D[:,0], pos2D[:,1])"
   ]
  },
  {
   "cell_type": "code",
   "execution_count": 10,
   "metadata": {},
   "outputs": [
    {
     "data": {
      "text/plain": [
       "<matplotlib.colorbar.Colorbar at 0x2a4dcba2550>"
      ]
     },
     "execution_count": 10,
     "metadata": {},
     "output_type": "execute_result"
    },
    {
     "data": {
      "image/png": "[encoded data removed]",
      "text/plain": [
       "<Figure size 1120x480 with 4 Axes>"
      ]
     },
     "metadata": {},
     "output_type": "display_data"
    }
   ],
   "source": [
    "# Positions [left, bottom, width, height] \n",
    "bbox0 = [0.05, 0.1, 0.35, 0.80]\n",
    "bbox1 = [0.43, 0.1, 0.03, 0.80]\n",
    "bbox2 = [0.55, 0.1, 0.35, 0.80]\n",
    "bbox3 = [0.93, 0.1, 0.03, 0.80]\n",
    "\n",
    "fig, ax = plt.subplots(4, figsize=(14,6), dpi=80)\n",
    "\n",
    "ax[0].set_position(bbox0)\n",
    "ax[1].set_position(bbox1)\n",
    "ax[2].set_position(bbox2)\n",
    "ax[3].set_position(bbox3)\n",
    "\n",
    "cs1 = ax[0].imshow(W, cmap='Blues')\n",
    "cs2 = ax[2].imshow(tau0, cmap='Reds')\n",
    "\n",
    "# Colour bars\n",
    "ticks1 = np.arange(0, np.max(W), 0.5) # Connectivity strength\n",
    "ticks2 = np.arange(0, np.max(tau0), 0.5) # Delays\n",
    "\n",
    "fig.colorbar(cs1, cax=ax[1], ticks=ticks1)\n",
    "fig.colorbar(cs2, cax=ax[3], ticks=ticks2)"
   ]
  },
  {
   "cell_type": "markdown",
   "metadata": {},
   "source": [
    "# Statistics"
   ]
  },
  {
   "cell_type": "markdown",
   "metadata": {},
   "source": [
    "## Parameters"
   ]
  },
  {
   "cell_type": "code",
   "execution_count": 11,
   "metadata": {},
   "outputs": [
    {
     "data": {
      "text/html": [
       "<style  type=\"text/css\" >\n",
       "</style>  \n",
       "<table id=\"T_5fac9966_05ce_11ec_a065_001a7dda7115\" > \n",
       "<thead>    <tr> \n",
       "        <th class=\"blank level0\" ></th> \n",
       "        <th class=\"col_heading level0 col0\" >Variable</th> \n",
       "        <th class=\"col_heading level0 col1\" >Value</th> \n",
       "    </tr></thead> \n",
       "<tbody>    <tr> \n",
       "        <th id=\"T_5fac9966_05ce_11ec_a065_001a7dda7115level0_row0\" class=\"row_heading level0 row0\" >0</th> \n",
       "        <td id=\"T_5fac9966_05ce_11ec_a065_001a7dda7115row0_col0\" class=\"data row0 col0\" >N</td> \n",
       "        <td id=\"T_5fac9966_05ce_11ec_a065_001a7dda7115row0_col1\" class=\"data row0 col1\" >3</td> \n",
       "    </tr>    <tr> \n",
       "        <th id=\"T_5fac9966_05ce_11ec_a065_001a7dda7115level0_row1\" class=\"row_heading level0 row1\" >1</th> \n",
       "        <td id=\"T_5fac9966_05ce_11ec_a065_001a7dda7115row1_col0\" class=\"data row1 col0\" >Scaling factor $\\kappa$</td> \n",
       "        <td id=\"T_5fac9966_05ce_11ec_a065_001a7dda7115row1_col1\" class=\"data row1 col1\" >6.25e-06</td> \n",
       "    </tr>    <tr> \n",
       "        <th id=\"T_5fac9966_05ce_11ec_a065_001a7dda7115level0_row2\" class=\"row_heading level0 row2\" >2</th> \n",
       "        <td id=\"T_5fac9966_05ce_11ec_a065_001a7dda7115row2_col0\" class=\"data row2 col0\" >Myelination rate $\\eta$</td> \n",
       "        <td id=\"T_5fac9966_05ce_11ec_a065_001a7dda7115row2_col1\" class=\"data row2 col1\" >0.001</td> \n",
       "    </tr>    <tr> \n",
       "        <th id=\"T_5fac9966_05ce_11ec_a065_001a7dda7115level0_row3\" class=\"row_heading level0 row3\" >3</th> \n",
       "        <td id=\"T_5fac9966_05ce_11ec_a065_001a7dda7115row3_col0\" class=\"data row3 col0\" >Baseline firing rate $r_i^0$</td> \n",
       "        <td id=\"T_5fac9966_05ce_11ec_a065_001a7dda7115row3_col1\" class=\"data row3 col1\" >100</td> \n",
       "    </tr>    <tr> \n",
       "        <th id=\"T_5fac9966_05ce_11ec_a065_001a7dda7115level0_row4\" class=\"row_heading level0 row4\" >4</th> \n",
       "        <td id=\"T_5fac9966_05ce_11ec_a065_001a7dda7115row4_col0\" class=\"data row4 col0\" >Distance $\\ell$</td> \n",
       "        <td id=\"T_5fac9966_05ce_11ec_a065_001a7dda7115row4_col1\" class=\"data row4 col1\" >0.11</td> \n",
       "    </tr></tbody> \n",
       "</table> "
      ],
      "text/plain": [
       "<pandas.io.formats.style.Styler at 0x2a4dde75cc0>"
      ]
     },
     "execution_count": 11,
     "metadata": {},
     "output_type": "execute_result"
    }
   ],
   "source": [
    "var_name1 = ['N', \n",
    "            r'Scaling factor $\\kappa$', \n",
    "            r'Myelination rate $\\eta$', \n",
    "            r'Baseline firing rate $r_i^0$',\n",
    "            r'Distance $\\ell$'\n",
    "            ]\n",
    "\n",
    "var_value1 = [3, kappa, eta, r0[0], radius/1000]\n",
    "\n",
    "var_name1 = np.array(var_name1)\n",
    "var_value1 = np.array(var_value1)\n",
    "\n",
    "table1 = pd.DataFrame({'Variable' : var_name1, 'Value': var_value1})\n",
    "\n",
    "# Display\n",
    "table1.style"
   ]
  },
  {
   "cell_type": "markdown",
   "metadata": {},
   "source": [
    "## Processed data"
   ]
  },
  {
   "cell_type": "code",
   "execution_count": 12,
   "metadata": {},
   "outputs": [
    {
     "data": {
      "text/plain": [
       "array([[1.15327459e-068, 1.73186129e-001, 2.15211054e-001,\n",
       "        1.13590187e-001, 3.79813801e-002, 1.37481923e-001,\n",
       "        1.75575006e-001, 1.46974321e-001],\n",
       "       [2.23261959e-001, 0.00000000e+000, 2.01399387e-001,\n",
       "        1.64611617e-001, 2.12917454e-001, 2.18185256e-001,\n",
       "        7.69466137e-003, 1.86713397e-001],\n",
       "       [2.76626466e-001, 3.09730411e-001, 3.56218503e-078,\n",
       "        3.07112947e-001, 6.99308193e-002, 1.09595136e-001,\n",
       "        1.63003230e-001, 6.76970385e-002],\n",
       "       [1.48171257e-001, 1.66564301e-001, 1.15185137e-001,\n",
       "        9.07189650e-258, 3.37216042e-001, 3.16856467e-001,\n",
       "        1.38139397e-001, 1.72802390e-001],\n",
       "       [5.90246145e-002, 1.03323231e-001, 1.07373842e-001,\n",
       "        2.82831994e-001, 0.00000000e+000, 4.12833764e-001,\n",
       "        1.25226940e-001, 4.22662390e-001],\n",
       "       [1.59061746e-001, 1.77541889e-001, 9.98486780e-002,\n",
       "        1.06222321e-001, 5.40208867e-002, 8.18937385e-113,\n",
       "        2.59489353e-001, 1.74256383e-001],\n",
       "       [2.17205952e-001, 6.37214764e-003, 1.35386764e-001,\n",
       "        5.99381798e-002, 1.50884092e-001, 2.41837022e-001,\n",
       "        3.68155137e-083, 2.83000146e-001],\n",
       "       [1.32415607e-001, 1.29584136e-001, 4.74516123e-002,\n",
       "        9.56427769e-002, 2.21151783e-001, 1.34925859e-001,\n",
       "        2.38828624e-001, 7.74547982e-104]])"
      ]
     },
     "execution_count": 12,
     "metadata": {},
     "output_type": "execute_result"
    }
   ],
   "source": [
    "gamma0 = FunLib.coincidenceFactor(kappa, W_norm, tau0)\n",
    "gamma0"
   ]
  },
  {
   "cell_type": "markdown",
   "metadata": {},
   "source": [
    "## Connection weights"
   ]
  },
  {
   "cell_type": "code",
   "execution_count": 13,
   "metadata": {},
   "outputs": [
    {
     "data": {
      "text/html": [
       "<div>\n",
       "<style scoped>\n",
       "    .dataframe tbody tr th:only-of-type {\n",
       "        vertical-align: middle;\n",
       "    }\n",
       "\n",
       "    .dataframe tbody tr th {\n",
       "        vertical-align: top;\n",
       "    }\n",
       "\n",
       "    .dataframe thead th {\n",
       "        text-align: right;\n",
       "    }\n",
       "</style>\n",
       "<table border=\"1\" class=\"dataframe\">\n",
       "  <thead>\n",
       "    <tr style=\"text-align: right;\">\n",
       "      <th></th>\n",
       "      <th>0</th>\n",
       "      <th>1</th>\n",
       "      <th>2</th>\n",
       "      <th>3</th>\n",
       "      <th>4</th>\n",
       "      <th>5</th>\n",
       "      <th>6</th>\n",
       "      <th>7</th>\n",
       "    </tr>\n",
       "  </thead>\n",
       "  <tbody>\n",
       "    <tr>\n",
       "      <th>0</th>\n",
       "      <td>0.000000</td>\n",
       "      <td>0.585693</td>\n",
       "      <td>0.727816</td>\n",
       "      <td>0.384148</td>\n",
       "      <td>0.128448</td>\n",
       "      <td>0.464946</td>\n",
       "      <td>0.593772</td>\n",
       "      <td>0.497048</td>\n",
       "    </tr>\n",
       "    <tr>\n",
       "      <th>1</th>\n",
       "      <td>0.585693</td>\n",
       "      <td>0.000000</td>\n",
       "      <td>0.525380</td>\n",
       "      <td>0.431833</td>\n",
       "      <td>0.053262</td>\n",
       "      <td>0.520571</td>\n",
       "      <td>0.020186</td>\n",
       "      <td>0.486421</td>\n",
       "    </tr>\n",
       "    <tr>\n",
       "      <th>2</th>\n",
       "      <td>0.727816</td>\n",
       "      <td>0.525380</td>\n",
       "      <td>0.000000</td>\n",
       "      <td>0.298628</td>\n",
       "      <td>0.183994</td>\n",
       "      <td>0.288304</td>\n",
       "      <td>0.428880</td>\n",
       "      <td>0.178119</td>\n",
       "    </tr>\n",
       "    <tr>\n",
       "      <th>3</th>\n",
       "      <td>0.384148</td>\n",
       "      <td>0.431833</td>\n",
       "      <td>0.298628</td>\n",
       "      <td>0.000000</td>\n",
       "      <td>0.615493</td>\n",
       "      <td>0.313602</td>\n",
       "      <td>0.189873</td>\n",
       "      <td>0.359015</td>\n",
       "    </tr>\n",
       "    <tr>\n",
       "      <th>4</th>\n",
       "      <td>0.128448</td>\n",
       "      <td>0.053262</td>\n",
       "      <td>0.183994</td>\n",
       "      <td>0.615493</td>\n",
       "      <td>0.000000</td>\n",
       "      <td>0.092327</td>\n",
       "      <td>0.272516</td>\n",
       "      <td>0.830139</td>\n",
       "    </tr>\n",
       "    <tr>\n",
       "      <th>5</th>\n",
       "      <td>0.464946</td>\n",
       "      <td>0.520571</td>\n",
       "      <td>0.288304</td>\n",
       "      <td>0.313602</td>\n",
       "      <td>0.092327</td>\n",
       "      <td>0.000000</td>\n",
       "      <td>0.766095</td>\n",
       "      <td>0.506472</td>\n",
       "    </tr>\n",
       "    <tr>\n",
       "      <th>6</th>\n",
       "      <td>0.593772</td>\n",
       "      <td>0.020186</td>\n",
       "      <td>0.428880</td>\n",
       "      <td>0.189873</td>\n",
       "      <td>0.272516</td>\n",
       "      <td>0.766095</td>\n",
       "      <td>0.000000</td>\n",
       "      <td>0.896492</td>\n",
       "    </tr>\n",
       "    <tr>\n",
       "      <th>7</th>\n",
       "      <td>0.497048</td>\n",
       "      <td>0.486421</td>\n",
       "      <td>0.178119</td>\n",
       "      <td>0.359015</td>\n",
       "      <td>0.830139</td>\n",
       "      <td>0.506472</td>\n",
       "      <td>0.896492</td>\n",
       "      <td>0.000000</td>\n",
       "    </tr>\n",
       "  </tbody>\n",
       "</table>\n",
       "</div>"
      ],
      "text/plain": [
       "          0         1         2         3         4         5         6  \\\n",
       "0  0.000000  0.585693  0.727816  0.384148  0.128448  0.464946  0.593772   \n",
       "1  0.585693  0.000000  0.525380  0.431833  0.053262  0.520571  0.020186   \n",
       "2  0.727816  0.525380  0.000000  0.298628  0.183994  0.288304  0.428880   \n",
       "3  0.384148  0.431833  0.298628  0.000000  0.615493  0.313602  0.189873   \n",
       "4  0.128448  0.053262  0.183994  0.615493  0.000000  0.092327  0.272516   \n",
       "5  0.464946  0.520571  0.288304  0.313602  0.092327  0.000000  0.766095   \n",
       "6  0.593772  0.020186  0.428880  0.189873  0.272516  0.766095  0.000000   \n",
       "7  0.497048  0.486421  0.178119  0.359015  0.830139  0.506472  0.896492   \n",
       "\n",
       "          7  \n",
       "0  0.497048  \n",
       "1  0.486421  \n",
       "2  0.178119  \n",
       "3  0.359015  \n",
       "4  0.830139  \n",
       "5  0.506472  \n",
       "6  0.896492  \n",
       "7  0.000000  "
      ]
     },
     "execution_count": 13,
     "metadata": {},
     "output_type": "execute_result"
    }
   ],
   "source": [
    "pd.DataFrame(W,dtype='float64')"
   ]
  },
  {
   "cell_type": "markdown",
   "metadata": {},
   "source": [
    "## Initial delays"
   ]
  },
  {
   "cell_type": "code",
   "execution_count": 14,
   "metadata": {},
   "outputs": [
    {
     "data": {
      "text/html": [
       "<div>\n",
       "<style scoped>\n",
       "    .dataframe tbody tr th:only-of-type {\n",
       "        vertical-align: middle;\n",
       "    }\n",
       "\n",
       "    .dataframe tbody tr th {\n",
       "        vertical-align: top;\n",
       "    }\n",
       "\n",
       "    .dataframe thead th {\n",
       "        text-align: right;\n",
       "    }\n",
       "</style>\n",
       "<table border=\"1\" class=\"dataframe\">\n",
       "  <thead>\n",
       "    <tr style=\"text-align: right;\">\n",
       "      <th></th>\n",
       "      <th>0</th>\n",
       "      <th>1</th>\n",
       "      <th>2</th>\n",
       "      <th>3</th>\n",
       "      <th>4</th>\n",
       "      <th>5</th>\n",
       "      <th>6</th>\n",
       "      <th>7</th>\n",
       "    </tr>\n",
       "  </thead>\n",
       "  <tbody>\n",
       "    <tr>\n",
       "      <th>0</th>\n",
       "      <td>0.000000</td>\n",
       "      <td>0.043972</td>\n",
       "      <td>0.087196</td>\n",
       "      <td>0.323465</td>\n",
       "      <td>0.144488</td>\n",
       "      <td>0.356092</td>\n",
       "      <td>0.229925</td>\n",
       "      <td>0.163779</td>\n",
       "    </tr>\n",
       "    <tr>\n",
       "      <th>1</th>\n",
       "      <td>0.104697</td>\n",
       "      <td>0.000000</td>\n",
       "      <td>0.144998</td>\n",
       "      <td>0.163990</td>\n",
       "      <td>0.127553</td>\n",
       "      <td>0.126936</td>\n",
       "      <td>0.181184</td>\n",
       "      <td>0.137012</td>\n",
       "    </tr>\n",
       "    <tr>\n",
       "      <th>2</th>\n",
       "      <td>0.129534</td>\n",
       "      <td>0.047548</td>\n",
       "      <td>0.000000</td>\n",
       "      <td>0.046927</td>\n",
       "      <td>0.154149</td>\n",
       "      <td>0.118633</td>\n",
       "      <td>0.166374</td>\n",
       "      <td>0.226371</td>\n",
       "    </tr>\n",
       "    <tr>\n",
       "      <th>3</th>\n",
       "      <td>0.110550</td>\n",
       "      <td>0.302619</td>\n",
       "      <td>0.085856</td>\n",
       "      <td>0.000000</td>\n",
       "      <td>0.125962</td>\n",
       "      <td>0.124412</td>\n",
       "      <td>0.153006</td>\n",
       "      <td>0.149928</td>\n",
       "    </tr>\n",
       "    <tr>\n",
       "      <th>4</th>\n",
       "      <td>0.140920</td>\n",
       "      <td>0.242957</td>\n",
       "      <td>0.243891</td>\n",
       "      <td>0.167424</td>\n",
       "      <td>0.000000</td>\n",
       "      <td>0.102708</td>\n",
       "      <td>0.122591</td>\n",
       "      <td>0.103315</td>\n",
       "    </tr>\n",
       "    <tr>\n",
       "      <th>5</th>\n",
       "      <td>0.117226</td>\n",
       "      <td>0.174627</td>\n",
       "      <td>0.167223</td>\n",
       "      <td>0.142930</td>\n",
       "      <td>0.111113</td>\n",
       "      <td>0.000000</td>\n",
       "      <td>0.056650</td>\n",
       "      <td>0.105581</td>\n",
       "    </tr>\n",
       "    <tr>\n",
       "      <th>6</th>\n",
       "      <td>0.117611</td>\n",
       "      <td>0.132307</td>\n",
       "      <td>0.157707</td>\n",
       "      <td>0.194135</td>\n",
       "      <td>0.113969</td>\n",
       "      <td>0.075892</td>\n",
       "      <td>0.000000</td>\n",
       "      <td>0.048548</td>\n",
       "    </tr>\n",
       "    <tr>\n",
       "      <th>7</th>\n",
       "      <td>0.067539</td>\n",
       "      <td>0.233996</td>\n",
       "      <td>0.135362</td>\n",
       "      <td>0.356354</td>\n",
       "      <td>0.384534</td>\n",
       "      <td>0.121874</td>\n",
       "      <td>0.054313</td>\n",
       "      <td>0.000000</td>\n",
       "    </tr>\n",
       "  </tbody>\n",
       "</table>\n",
       "</div>"
      ],
      "text/plain": [
       "          0         1         2         3         4         5         6  \\\n",
       "0  0.000000  0.043972  0.087196  0.323465  0.144488  0.356092  0.229925   \n",
       "1  0.104697  0.000000  0.144998  0.163990  0.127553  0.126936  0.181184   \n",
       "2  0.129534  0.047548  0.000000  0.046927  0.154149  0.118633  0.166374   \n",
       "3  0.110550  0.302619  0.085856  0.000000  0.125962  0.124412  0.153006   \n",
       "4  0.140920  0.242957  0.243891  0.167424  0.000000  0.102708  0.122591   \n",
       "5  0.117226  0.174627  0.167223  0.142930  0.111113  0.000000  0.056650   \n",
       "6  0.117611  0.132307  0.157707  0.194135  0.113969  0.075892  0.000000   \n",
       "7  0.067539  0.233996  0.135362  0.356354  0.384534  0.121874  0.054313   \n",
       "\n",
       "          7  \n",
       "0  0.163779  \n",
       "1  0.137012  \n",
       "2  0.226371  \n",
       "3  0.149928  \n",
       "4  0.103315  \n",
       "5  0.105581  \n",
       "6  0.048548  \n",
       "7  0.000000  "
      ]
     },
     "execution_count": 14,
     "metadata": {},
     "output_type": "execute_result"
    }
   ],
   "source": [
    "pd.DataFrame(tau0,dtype='float64')"
   ]
  },
  {
   "cell_type": "markdown",
   "metadata": {},
   "source": [
    "## Delay changes"
   ]
  },
  {
   "cell_type": "code",
   "execution_count": 15,
   "metadata": {},
   "outputs": [
    {
     "data": {
      "text/html": [
       "<div>\n",
       "<style scoped>\n",
       "    .dataframe tbody tr th:only-of-type {\n",
       "        vertical-align: middle;\n",
       "    }\n",
       "\n",
       "    .dataframe tbody tr th {\n",
       "        vertical-align: top;\n",
       "    }\n",
       "\n",
       "    .dataframe thead th {\n",
       "        text-align: right;\n",
       "    }\n",
       "</style>\n",
       "<table border=\"1\" class=\"dataframe\">\n",
       "  <thead>\n",
       "    <tr style=\"text-align: right;\">\n",
       "      <th></th>\n",
       "      <th>0</th>\n",
       "      <th>1</th>\n",
       "      <th>2</th>\n",
       "      <th>3</th>\n",
       "      <th>4</th>\n",
       "      <th>5</th>\n",
       "      <th>6</th>\n",
       "      <th>7</th>\n",
       "    </tr>\n",
       "  </thead>\n",
       "  <tbody>\n",
       "    <tr>\n",
       "      <th>0</th>\n",
       "      <td>0.000000</td>\n",
       "      <td>0.043972</td>\n",
       "      <td>0.087196</td>\n",
       "      <td>0.323465</td>\n",
       "      <td>0.144501</td>\n",
       "      <td>0.356092</td>\n",
       "      <td>0.229925</td>\n",
       "      <td>0.163627</td>\n",
       "    </tr>\n",
       "    <tr>\n",
       "      <th>1</th>\n",
       "      <td>0.104697</td>\n",
       "      <td>0.000000</td>\n",
       "      <td>0.134015</td>\n",
       "      <td>0.173386</td>\n",
       "      <td>0.134167</td>\n",
       "      <td>0.134163</td>\n",
       "      <td>0.173386</td>\n",
       "      <td>0.134180</td>\n",
       "    </tr>\n",
       "    <tr>\n",
       "      <th>2</th>\n",
       "      <td>0.122922</td>\n",
       "      <td>0.047236</td>\n",
       "      <td>0.000000</td>\n",
       "      <td>0.047236</td>\n",
       "      <td>0.160615</td>\n",
       "      <td>0.122836</td>\n",
       "      <td>0.160474</td>\n",
       "      <td>0.226371</td>\n",
       "    </tr>\n",
       "    <tr>\n",
       "      <th>3</th>\n",
       "      <td>0.119613</td>\n",
       "      <td>0.302619</td>\n",
       "      <td>0.085856</td>\n",
       "      <td>0.000000</td>\n",
       "      <td>0.119733</td>\n",
       "      <td>0.119602</td>\n",
       "      <td>0.151094</td>\n",
       "      <td>0.150986</td>\n",
       "    </tr>\n",
       "    <tr>\n",
       "      <th>4</th>\n",
       "      <td>0.140669</td>\n",
       "      <td>0.241087</td>\n",
       "      <td>0.241417</td>\n",
       "      <td>0.167424</td>\n",
       "      <td>0.000000</td>\n",
       "      <td>0.102899</td>\n",
       "      <td>0.122859</td>\n",
       "      <td>0.102810</td>\n",
       "    </tr>\n",
       "    <tr>\n",
       "      <th>5</th>\n",
       "      <td>0.111296</td>\n",
       "      <td>0.170551</td>\n",
       "      <td>0.170414</td>\n",
       "      <td>0.142930</td>\n",
       "      <td>0.111253</td>\n",
       "      <td>0.000000</td>\n",
       "      <td>0.056650</td>\n",
       "      <td>0.111366</td>\n",
       "    </tr>\n",
       "    <tr>\n",
       "      <th>6</th>\n",
       "      <td>0.117798</td>\n",
       "      <td>0.117877</td>\n",
       "      <td>0.157707</td>\n",
       "      <td>0.194135</td>\n",
       "      <td>0.117888</td>\n",
       "      <td>0.075892</td>\n",
       "      <td>0.000000</td>\n",
       "      <td>0.048548</td>\n",
       "    </tr>\n",
       "    <tr>\n",
       "      <th>7</th>\n",
       "      <td>0.060248</td>\n",
       "      <td>0.233996</td>\n",
       "      <td>0.128910</td>\n",
       "      <td>0.356354</td>\n",
       "      <td>0.384534</td>\n",
       "      <td>0.128816</td>\n",
       "      <td>0.060248</td>\n",
       "      <td>0.000000</td>\n",
       "    </tr>\n",
       "  </tbody>\n",
       "</table>\n",
       "</div>"
      ],
      "text/plain": [
       "          0         1         2         3         4         5         6  \\\n",
       "0  0.000000  0.043972  0.087196  0.323465  0.144501  0.356092  0.229925   \n",
       "1  0.104697  0.000000  0.134015  0.173386  0.134167  0.134163  0.173386   \n",
       "2  0.122922  0.047236  0.000000  0.047236  0.160615  0.122836  0.160474   \n",
       "3  0.119613  0.302619  0.085856  0.000000  0.119733  0.119602  0.151094   \n",
       "4  0.140669  0.241087  0.241417  0.167424  0.000000  0.102899  0.122859   \n",
       "5  0.111296  0.170551  0.170414  0.142930  0.111253  0.000000  0.056650   \n",
       "6  0.117798  0.117877  0.157707  0.194135  0.117888  0.075892  0.000000   \n",
       "7  0.060248  0.233996  0.128910  0.356354  0.384534  0.128816  0.060248   \n",
       "\n",
       "          7  \n",
       "0  0.163627  \n",
       "1  0.134180  \n",
       "2  0.226371  \n",
       "3  0.150986  \n",
       "4  0.102810  \n",
       "5  0.111366  \n",
       "6  0.048548  \n",
       "7  0.000000  "
      ]
     },
     "execution_count": 15,
     "metadata": {},
     "output_type": "execute_result"
    }
   ],
   "source": [
    "pd.DataFrame(tau,dtype='float64')"
   ]
  },
  {
   "cell_type": "markdown",
   "metadata": {},
   "source": [
    "## Final velocities"
   ]
  },
  {
   "cell_type": "code",
   "execution_count": 16,
   "metadata": {},
   "outputs": [
    {
     "data": {
      "text/html": [
       "<div>\n",
       "<style scoped>\n",
       "    .dataframe tbody tr th:only-of-type {\n",
       "        vertical-align: middle;\n",
       "    }\n",
       "\n",
       "    .dataframe tbody tr th {\n",
       "        vertical-align: top;\n",
       "    }\n",
       "\n",
       "    .dataframe thead th {\n",
       "        text-align: right;\n",
       "    }\n",
       "</style>\n",
       "<table border=\"1\" class=\"dataframe\">\n",
       "  <thead>\n",
       "    <tr style=\"text-align: right;\">\n",
       "      <th></th>\n",
       "      <th>0</th>\n",
       "      <th>1</th>\n",
       "      <th>2</th>\n",
       "      <th>3</th>\n",
       "      <th>4</th>\n",
       "      <th>5</th>\n",
       "      <th>6</th>\n",
       "      <th>7</th>\n",
       "    </tr>\n",
       "  </thead>\n",
       "  <tbody>\n",
       "    <tr>\n",
       "      <th>0</th>\n",
       "      <td>1.071958</td>\n",
       "      <td>1.914655</td>\n",
       "      <td>1.784071</td>\n",
       "      <td>0.628363</td>\n",
       "      <td>1.522480</td>\n",
       "      <td>0.570789</td>\n",
       "      <td>0.676584</td>\n",
       "      <td>0.514527</td>\n",
       "    </tr>\n",
       "    <tr>\n",
       "      <th>1</th>\n",
       "      <td>0.804131</td>\n",
       "      <td>1.569754</td>\n",
       "      <td>0.628214</td>\n",
       "      <td>0.897211</td>\n",
       "      <td>1.514933</td>\n",
       "      <td>1.639793</td>\n",
       "      <td>1.172262</td>\n",
       "      <td>1.159363</td>\n",
       "    </tr>\n",
       "    <tr>\n",
       "      <th>2</th>\n",
       "      <td>1.265550</td>\n",
       "      <td>1.782316</td>\n",
       "      <td>1.094343</td>\n",
       "      <td>1.782316</td>\n",
       "      <td>0.968549</td>\n",
       "      <td>1.654674</td>\n",
       "      <td>1.370941</td>\n",
       "      <td>0.897879</td>\n",
       "    </tr>\n",
       "    <tr>\n",
       "      <th>3</th>\n",
       "      <td>1.699266</td>\n",
       "      <td>0.514057</td>\n",
       "      <td>0.980599</td>\n",
       "      <td>1.671229</td>\n",
       "      <td>0.703153</td>\n",
       "      <td>1.300680</td>\n",
       "      <td>1.345214</td>\n",
       "      <td>1.457090</td>\n",
       "    </tr>\n",
       "    <tr>\n",
       "      <th>4</th>\n",
       "      <td>1.563957</td>\n",
       "      <td>0.843071</td>\n",
       "      <td>0.644376</td>\n",
       "      <td>0.502857</td>\n",
       "      <td>0.505993</td>\n",
       "      <td>0.818186</td>\n",
       "      <td>1.266192</td>\n",
       "      <td>1.976981</td>\n",
       "    </tr>\n",
       "    <tr>\n",
       "      <th>5</th>\n",
       "      <td>1.826244</td>\n",
       "      <td>1.289936</td>\n",
       "      <td>1.192707</td>\n",
       "      <td>1.088390</td>\n",
       "      <td>0.756749</td>\n",
       "      <td>1.532994</td>\n",
       "      <td>1.486142</td>\n",
       "      <td>1.396864</td>\n",
       "    </tr>\n",
       "    <tr>\n",
       "      <th>6</th>\n",
       "      <td>1.320590</td>\n",
       "      <td>1.724281</td>\n",
       "      <td>1.394991</td>\n",
       "      <td>1.046968</td>\n",
       "      <td>1.319590</td>\n",
       "      <td>1.109351</td>\n",
       "      <td>1.519150</td>\n",
       "      <td>1.734185</td>\n",
       "    </tr>\n",
       "    <tr>\n",
       "      <th>7</th>\n",
       "      <td>1.397402</td>\n",
       "      <td>0.664812</td>\n",
       "      <td>1.576707</td>\n",
       "      <td>0.617364</td>\n",
       "      <td>0.528572</td>\n",
       "      <td>1.207643</td>\n",
       "      <td>1.397402</td>\n",
       "      <td>1.858420</td>\n",
       "    </tr>\n",
       "  </tbody>\n",
       "</table>\n",
       "</div>"
      ],
      "text/plain": [
       "          0         1         2         3         4         5         6  \\\n",
       "0  1.071958  1.914655  1.784071  0.628363  1.522480  0.570789  0.676584   \n",
       "1  0.804131  1.569754  0.628214  0.897211  1.514933  1.639793  1.172262   \n",
       "2  1.265550  1.782316  1.094343  1.782316  0.968549  1.654674  1.370941   \n",
       "3  1.699266  0.514057  0.980599  1.671229  0.703153  1.300680  1.345214   \n",
       "4  1.563957  0.843071  0.644376  0.502857  0.505993  0.818186  1.266192   \n",
       "5  1.826244  1.289936  1.192707  1.088390  0.756749  1.532994  1.486142   \n",
       "6  1.320590  1.724281  1.394991  1.046968  1.319590  1.109351  1.519150   \n",
       "7  1.397402  0.664812  1.576707  0.617364  0.528572  1.207643  1.397402   \n",
       "\n",
       "          7  \n",
       "0  0.514527  \n",
       "1  1.159363  \n",
       "2  0.897879  \n",
       "3  1.457090  \n",
       "4  1.976981  \n",
       "5  1.396864  \n",
       "6  1.734185  \n",
       "7  1.858420  "
      ]
     },
     "execution_count": 16,
     "metadata": {},
     "output_type": "execute_result"
    }
   ],
   "source": [
    "pd.DataFrame(vel,dtype='float64')"
   ]
  },
  {
   "cell_type": "code",
   "execution_count": null,
   "metadata": {},
   "outputs": [],
   "source": []
  }
 ],
 "metadata": {
  "kernelspec": {
   "display_name": "Python 3",
   "language": "python",
   "name": "python3"
  },
  "language_info": {
   "codemirror_mode": {
    "name": "ipython",
    "version": 3
   },
   "file_extension": ".py",
   "mimetype": "text/x-python",
   "name": "python",
   "nbconvert_exporter": "python",
   "pygments_lexer": "ipython3",
   "version": "3.6.5"
  }
 },
 "nbformat": 4,
 "nbformat_minor": 2
}
