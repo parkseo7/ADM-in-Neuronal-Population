{
 "cells": [
  {
   "cell_type": "markdown",
   "metadata": {},
   "source": [
    "# About\n",
    "\n",
    "Implement a machine learning algorithm with gradient descent on a neuronal population model with delays, in order to find an optimal matrix of delay distribution such that the objective function $L(r)$ is maximized. This script implements the learning algorithm on the actual setting."
   ]
  },
  {
   "cell_type": "code",
   "execution_count": 1,
   "metadata": {},
   "outputs": [],
   "source": [
    "from __future__ import division, print_function\n",
    "\n",
    "%matplotlib inline\n",
    "# Toggle on/off\n",
    "# %matplotlib notebook\n",
    "\n",
    "import os\n",
    "import numpy as np\n",
    "import scipy.io as sio\n",
    "from scipy import optimize\n",
    "import scipy.integrate as integrate\n",
    "from scipy import stats\n",
    "from scipy.spatial import distance\n",
    "import matplotlib.cm as cm\n",
    "import matplotlib.pyplot as plt\n",
    "import matplotlib.transforms as tsfm\n",
    "import matplotlib.colors as clr\n",
    "import pandas as pd\n",
    "from tqdm.notebook import tqdm\n",
    "import math\n",
    "from math import pi\n",
    "\n",
    "\n",
    "from lib import *\n",
    "\n",
    "from IPython.display import clear_output"
   ]
  },
  {
   "cell_type": "markdown",
   "metadata": {},
   "source": [
    "# Directories"
   ]
  },
  {
   "cell_type": "code",
   "execution_count": 2,
   "metadata": {},
   "outputs": [],
   "source": [
    "# Determine export folder name here:\n",
    "foldername = os.path.join(os.getcwd(), 'data', 'matrices', 'ICBM')\n",
    "filename_names = os.path.join(foldername, 'freesurfer_regions_68_sort_full.txt')\n",
    "filename_pos = os.path.join(foldername, 'fs_region_centers_68_sort.txt')\n",
    "filename_conn = os.path.join(foldername, 'icbm_fiber_mat.txt')"
   ]
  },
  {
   "cell_type": "markdown",
   "metadata": {},
   "source": [
    "# Import data"
   ]
  },
  {
   "cell_type": "code",
   "execution_count": 3,
   "metadata": {},
   "outputs": [],
   "source": [
    "# Data import\n",
    "W_raw = np.loadtxt(fname = filename_conn) # Connections\n",
    "pos = np.loadtxt(fname = filename_pos) # Positions of nodes\n",
    "\n",
    "# Process imports\n",
    "dist = distance.cdist(pos,pos,'euclidean')\n",
    "# dist = dist / 1000 # Convert from millimeters to meters (length of brain is 15cm, max dist is 160)\n",
    "W = W_raw / np.max(W_raw)\n",
    "N = W.shape[0]\n",
    "\n",
    "# Normalized weights\n",
    "W_sum = np.sum(W, 0)\n",
    "W_norm = W / W_sum[:,np.newaxis]\n",
    "\n",
    "# Initial delays and velocities\n",
    "# vel0 = 1.1*np.ones((N,N)) # Initial, non-random velocities\n",
    "vel0 = np.random.uniform(low=0.5, high=2.0, size=(N,N)) # Initial (unmyelinated) velocities\n",
    "tau0 = dist / vel0\n",
    "r0 = 100*np.ones(N) # Baseline firing rate"
   ]
  },
  {
   "cell_type": "markdown",
   "metadata": {},
   "source": [
    "# Parameters"
   ]
  },
  {
   "cell_type": "code",
   "execution_count": 4,
   "metadata": {},
   "outputs": [],
   "source": [
    "eta = 2.0\n",
    "numIters = 100\n",
    "kappa = 3**2 "
   ]
  },
  {
   "cell_type": "markdown",
   "metadata": {},
   "source": [
    "# Employ learning model"
   ]
  },
  {
   "cell_type": "code",
   "execution_count": 7,
   "metadata": {},
   "outputs": [
    {
     "data": {
      "application/vnd.jupyter.widget-view+json": {
       "model_id": "a7b50cd0fe2a429ebba69d9fc7884cc3",
       "version_major": 2,
       "version_minor": 0
      },
      "text/plain": [
       "  0%|          | 0/100 [00:00<?, ?it/s]"
      ]
     },
     "metadata": {},
     "output_type": "display_data"
    }
   ],
   "source": [
    "time = range(numIters)\n",
    "\n",
    "# Set up arrays\n",
    "obj_arr = np.zeros(numIters+1)\n",
    "stab_arr = np.zeros(numIters+1)\n",
    "tau_arr = np.zeros((numIters+1, N**2))\n",
    "vel_arr = np.zeros((numIters+1, N**2))\n",
    "grad_arr = np.zeros((numIters, N**2))\n",
    "\n",
    "# Initialize\n",
    "r_i = r0\n",
    "tau = tau0\n",
    "vel = vel0\n",
    "\n",
    "tau_arr[0] = np.reshape(tau0, -1)\n",
    "vel_arr[0] = np.reshape(vel0, -1)\n",
    "obj_arr[0] = FunLib.objectiveFun(r0)\n",
    "\n",
    "# Non-zero connections\n",
    "W_inds = np.where(W != 0)\n",
    "\n",
    "# MAIN LOOP\n",
    "for i in tqdm(time):\n",
    "    \n",
    "    gamma = FunLib.coincidenceFactor(kappa, W_norm, tau)\n",
    "    \n",
    "    # Determine the equilibrium solution using current delays\n",
    "    r_i = np.linalg.solve(np.identity(N) - W*gamma/N, r0)\n",
    "    \n",
    "    # Stability\n",
    "    eigs = np.linalg.eig(W*gamma/N - np.eye(N))\n",
    "    \n",
    "    # Obtain gradient:\n",
    "    gradL = np.zeros((N,N))\n",
    "    for k in range(W_inds[0].size):\n",
    "        ind = (W_inds[0][k], W_inds[1][k])\n",
    "        gradL[ind[0], ind[1]] = FunLib.derivObjectiveTau(W, W_norm, tau, kappa, gamma, r_i, ind)\n",
    "    \n",
    "    # Apply gradient onto velocities:\n",
    "    gradL_vel = gradL * (-dist / vel**2)\n",
    "    vel = vel + eta * gradL_vel\n",
    "    tau = dist / vel\n",
    "    \n",
    "    # Store functions\n",
    "    obj_arr[i+1] = FunLib.objectiveFun(r_i)\n",
    "    vel_arr[i+1] = np.reshape(vel, -1)\n",
    "    tau_arr[i+1] = np.reshape(tau, -1)\n",
    "    grad_arr[i] = np.reshape(gradL_vel, -1)\n",
    "    stab_arr[i] = np.max(np.real(eigs[0]))"
   ]
  },
  {
   "cell_type": "markdown",
   "metadata": {},
   "source": [
    "# Figures"
   ]
  },
  {
   "cell_type": "markdown",
   "metadata": {},
   "source": [
    "## Objective over iterations"
   ]
  },
  {
   "cell_type": "code",
   "execution_count": 8,
   "metadata": {},
   "outputs": [
    {
     "data": {
      "text/plain": [
       "(0, 100)"
      ]
     },
     "execution_count": 8,
     "metadata": {},
     "output_type": "execute_result"
    },
    {
     "data": {
      "image/png": "[encoded data removed]",
      "text/plain": [
       "<Figure size 960x320 with 1 Axes>"
      ]
     },
     "metadata": {},
     "output_type": "display_data"
    }
   ],
   "source": [
    "# Maximal objective:\n",
    "r_iMax = np.linalg.solve(np.identity(N) - W*np.ones(W.shape)/N, r0)\n",
    "objMax = FunLib.objectiveFun(r_iMax)\n",
    "\n",
    "fig, ax = plt.subplots(1, figsize=(12,4), dpi=80)\n",
    "iters = np.arange(numIters+1)\n",
    "ax.plot(iters, obj_arr)\n",
    "ax.axhline(objMax, color='black')\n",
    "ax.set_xlim(left=0, right=numIters)"
   ]
  },
  {
   "cell_type": "markdown",
   "metadata": {},
   "source": [
    "## Delays, velocities over time"
   ]
  },
  {
   "cell_type": "code",
   "execution_count": null,
   "metadata": {},
   "outputs": [],
   "source": [
    "# Options\n",
    "lw1 = 0.8\n",
    "alp1 = 0.5\n",
    "iters = np.arange(numIters+1)\n",
    "fig, axs = plt.subplots(2, figsize=(15,10))\n",
    "axs[0].plot(iters, tau_arr[:,:103], linewidth=lw1, alpha=alp1, color='blue')\n",
    "axs[1].plot(iters, vel_arr[:,:103], linewidth=lw1, alpha=alp1, color='green')\n",
    "\n",
    "for i in range(len(axs)):\n",
    "    axs[i].set_xlim(left=0, right=numIters)"
   ]
  },
  {
   "cell_type": "markdown",
   "metadata": {},
   "source": [
    "## Gradient over time"
   ]
  },
  {
   "cell_type": "code",
   "execution_count": null,
   "metadata": {},
   "outputs": [],
   "source": [
    "fig, ax = plt.subplots(1, figsize=(12,4), dpi=80)\n",
    "iters = np.arange(numIters)\n",
    "ax.plot(iters, grad_arr * np.reshape(W != 0, -1), linewidth=lw1, alpha=alp1, color='purple')\n",
    "ax.set_xlim(left=0, right=numIters)\n",
    "ax.axhline(y=0, color='black', linewidth=2.0, zorder=1)"
   ]
  },
  {
   "cell_type": "markdown",
   "metadata": {},
   "source": [
    "## Connections"
   ]
  },
  {
   "cell_type": "code",
   "execution_count": null,
   "metadata": {},
   "outputs": [],
   "source": [
    "# Positions [left, bottom, width, height] \n",
    "bbox0 = [0.05, 0.1, 0.35, 0.80]\n",
    "bbox1 = [0.43, 0.1, 0.03, 0.80]\n",
    "bbox2 = [0.55, 0.1, 0.35, 0.80]\n",
    "bbox3 = [0.93, 0.1, 0.03, 0.80]\n",
    "\n",
    "fig, ax = plt.subplots(4, figsize=(14,6), dpi=80)\n",
    "\n",
    "ax[0].set_position(bbox0)\n",
    "ax[1].set_position(bbox1)\n",
    "ax[2].set_position(bbox2)\n",
    "ax[3].set_position(bbox3)\n",
    "\n",
    "cs1 = ax[0].imshow(W, cmap='Blues')\n",
    "cs2 = ax[2].imshow(tau0, cmap='Reds')\n",
    "\n",
    "# Colour bars\n",
    "ticks1 = np.arange(0, np.max(W), 0.5) # Connectivity strength\n",
    "ticks2 = np.arange(0, np.max(tau0), 0.5) # Delays\n",
    "\n",
    "fig.colorbar(cs1, cax=ax[1], ticks=ticks1)\n",
    "fig.colorbar(cs2, cax=ax[3], ticks=ticks2)"
   ]
  },
  {
   "cell_type": "markdown",
   "metadata": {},
   "source": [
    "# Statistics"
   ]
  },
  {
   "cell_type": "markdown",
   "metadata": {},
   "source": [
    "## Parameters"
   ]
  },
  {
   "cell_type": "code",
   "execution_count": null,
   "metadata": {},
   "outputs": [],
   "source": [
    "var_name1 = ['N', \n",
    "            r'Scaling factor $\\kappa$', \n",
    "            r'Myelination rate $\\eta$', \n",
    "            r'Baseline firing rate $r_i^0$',\n",
    "            r'Distance $\\ell$'\n",
    "            ]\n",
    "\n",
    "var_value1 = [N, kappa, eta, r0[0], np.mean(dist)]\n",
    "\n",
    "var_name1 = np.array(var_name1)\n",
    "var_value1 = np.array(var_value1)\n",
    "\n",
    "table1 = pd.DataFrame({'Variable' : var_name1, 'Value': var_value1})\n",
    "\n",
    "# Display\n",
    "table1.style"
   ]
  },
  {
   "cell_type": "markdown",
   "metadata": {},
   "source": [
    "## Processed data"
   ]
  },
  {
   "cell_type": "code",
   "execution_count": null,
   "metadata": {},
   "outputs": [],
   "source": [
    "vel_arr[:,:100].shape"
   ]
  },
  {
   "cell_type": "code",
   "execution_count": null,
   "metadata": {},
   "outputs": [],
   "source": []
  }
 ],
 "metadata": {
  "kernelspec": {
   "display_name": "Python 3",
   "language": "python",
   "name": "python3"
  },
  "language_info": {
   "codemirror_mode": {
    "name": "ipython",
    "version": 3
   },
   "file_extension": ".py",
   "mimetype": "text/x-python",
   "name": "python",
   "nbconvert_exporter": "python",
   "pygments_lexer": "ipython3",
   "version": "3.6.5"
  }
 },
 "nbformat": 4,
 "nbformat_minor": 2
}
