{
 "cells": [
  {
   "cell_type": "markdown",
   "metadata": {},
   "source": [
    "# About\n",
    "\n",
    "Implement a machine learning algorithm with gradient descent on a neuronal population model with delays, in order to find an optimal matrix of delay distribution such that the objective function $L(r)$ is maximized. This script implements the learning algorithm on the actual setting."
   ]
  },
  {
   "cell_type": "code",
   "execution_count": 1,
   "metadata": {},
   "outputs": [],
   "source": [
    "from __future__ import division, print_function\n",
    "\n",
    "%matplotlib inline\n",
    "# Toggle on/off\n",
    "# %matplotlib notebook\n",
    "\n",
    "import os\n",
    "import numpy as np\n",
    "import scipy.io as sio\n",
    "from scipy import optimize\n",
    "import scipy.integrate as integrate\n",
    "from scipy import stats\n",
    "from scipy.spatial import distance\n",
    "import matplotlib.cm as cm\n",
    "import matplotlib.pyplot as plt\n",
    "import matplotlib.transforms as tsfm\n",
    "import matplotlib.colors as clr\n",
    "import pandas as pd\n",
    "from tqdm.notebook import tqdm\n",
    "import math\n",
    "from math import pi\n",
    "\n",
    "\n",
    "from lib import *\n",
    "\n",
    "from IPython.display import clear_output"
   ]
  },
  {
   "cell_type": "markdown",
   "metadata": {},
   "source": [
    "# Directories"
   ]
  },
  {
   "cell_type": "code",
   "execution_count": 2,
   "metadata": {},
   "outputs": [],
   "source": [
    "# Determine export folder name here:\n",
    "foldername = os.path.join(os.getcwd(), 'data', 'matrices', 'ICBM')\n",
    "filename_names = os.path.join(foldername, 'freesurfer_regions_68_sort_full.txt')\n",
    "filename_pos = os.path.join(foldername, 'fs_region_centers_68_sort.txt')\n",
    "filename_conn = os.path.join(foldername, 'icbm_fiber_mat.txt')"
   ]
  },
  {
   "cell_type": "markdown",
   "metadata": {},
   "source": [
    "# Import data"
   ]
  },
  {
   "cell_type": "code",
   "execution_count": 3,
   "metadata": {},
   "outputs": [],
   "source": [
    "# Data import\n",
    "W_raw = np.loadtxt(fname = filename_conn) # Connections\n",
    "pos = np.loadtxt(fname = filename_pos) # Positions of nodes\n",
    "\n",
    "# Process imports\n",
    "dist = distance.cdist(pos,pos,'euclidean')\n",
    "dist = dist / 1000 # Convert from millimeters to meters (length of brain is 15cm, max dist is 160)\n",
    "W = W_raw / np.max(W_raw)\n",
    "N = W.shape[0]\n",
    "\n",
    "# Normalized weights\n",
    "W_sum = np.sum(W, 0)\n",
    "W_norm = W / W_sum[:,np.newaxis]\n",
    "\n",
    "# Initial delays and velocities\n",
    "vel0 = 1.1*np.ones((N,N)) # Initial, non-random velocities\n",
    "# vel0 = np.random.uniform(low=0.5, high=2.0, size=(N,N)) # Initial (unmyelinated) velocities\n",
    "tau0 = dist / vel0\n",
    "r0 = 0.1*np.ones(N) # Baseline firing rate"
   ]
  },
  {
   "cell_type": "markdown",
   "metadata": {},
   "source": [
    "# Parameters"
   ]
  },
  {
   "cell_type": "code",
   "execution_count": 4,
   "metadata": {},
   "outputs": [],
   "source": [
    "eta = 0.000005\n",
    "numIters = 100\n",
    "kappa = 0.01**2"
   ]
  },
  {
   "cell_type": "markdown",
   "metadata": {},
   "source": [
    "# Employ learning model"
   ]
  },
  {
   "cell_type": "code",
   "execution_count": 5,
   "metadata": {},
   "outputs": [
    {
     "data": {
      "application/vnd.jupyter.widget-view+json": {
       "model_id": "017f394730ad410b8bfca92cb69690d6",
       "version_major": 2,
       "version_minor": 0
      },
      "text/plain": [
       "  0%|          | 0/100 [00:00<?, ?it/s]"
      ]
     },
     "metadata": {},
     "output_type": "display_data"
    }
   ],
   "source": [
    "time = range(numIters)\n",
    "\n",
    "# Set up arrays\n",
    "obj_arr = np.zeros(numIters+1)\n",
    "stab_arr = np.zeros(numIters+1)\n",
    "tau_arr = np.zeros((numIters+1, N**2))\n",
    "vel_arr = np.zeros((numIters+1, N**2))\n",
    "grad_arr = np.zeros((numIters, N**2))\n",
    "\n",
    "# Initialize\n",
    "r_i = r0\n",
    "tau = tau0\n",
    "vel = vel0\n",
    "\n",
    "tau_arr[0] = np.reshape(tau0, -1)\n",
    "vel_arr[0] = np.reshape(vel0, -1)\n",
    "obj_arr[0] = FunLib.objectiveFun(r0)\n",
    "\n",
    "# Non-zero connections\n",
    "W_inds = np.where(W != 0)\n",
    "\n",
    "# MAIN LOOP\n",
    "for i in tqdm(time):\n",
    "    \n",
    "    gamma = FunLib.coincidenceFactorND(kappa, W_norm, tau)\n",
    "    \n",
    "    # Determine the equilibrium solution using current delays\n",
    "    r_i = np.linalg.solve(np.identity(N) - W*gamma/N, r0)\n",
    "    \n",
    "    # Stability\n",
    "    eigs = np.linalg.eig(W*gamma/N - np.eye(N))\n",
    "    \n",
    "    # Obtain gradient:\n",
    "    gradL = np.zeros((N,N))\n",
    "    for k in range(W_inds[0].size):\n",
    "        ind = (W_inds[0][k], W_inds[1][k])\n",
    "        gradL[ind[0], ind[1]] = FunLib.derivObjectiveTauND(W, W_norm, tau, kappa, gamma, r_i, ind)\n",
    "    \n",
    "    # Apply gradient onto velocities:\n",
    "    gradL_vel = gradL * (-dist / vel**2)\n",
    "    vel = vel + eta * gradL_vel\n",
    "    tau = dist / vel\n",
    "    \n",
    "    # Store functions\n",
    "    obj_arr[i+1] = FunLib.objectiveFun(r_i)\n",
    "    vel_arr[i+1] = np.reshape(vel, -1)\n",
    "    tau_arr[i+1] = np.reshape(tau, -1)\n",
    "    grad_arr[i] = np.reshape(gradL_vel, -1)\n",
    "    stab_arr[i] = np.max(np.real(eigs[0]))"
   ]
  },
  {
   "cell_type": "markdown",
   "metadata": {},
   "source": [
    "# Figures"
   ]
  },
  {
   "cell_type": "markdown",
   "metadata": {},
   "source": [
    "## Objective over iterations"
   ]
  },
  {
   "cell_type": "code",
   "execution_count": 6,
   "metadata": {},
   "outputs": [
    {
     "data": {
      "text/plain": [
       "(0, 100)"
      ]
     },
     "execution_count": 6,
     "metadata": {},
     "output_type": "execute_result"
    },
    {
     "data": {
      "image/png": "[encoded data removed]",
      "text/plain": [
       "<Figure size 960x320 with 1 Axes>"
      ]
     },
     "metadata": {},
     "output_type": "display_data"
    }
   ],
   "source": [
    "# Maximal objective:\n",
    "r_iMax = np.linalg.solve(np.identity(N) - W*np.ones(W.shape)/N, r0)\n",
    "objMax = FunLib.objectiveFun(r_iMax)\n",
    "\n",
    "fig, ax = plt.subplots(1, figsize=(12,4), dpi=80)\n",
    "iters = np.arange(numIters+1)\n",
    "ax.plot(iters, obj_arr)\n",
    "ax.axhline(objMax, color='black')\n",
    "ax.set_xlim(left=0, right=numIters)"
   ]
  },
  {
   "cell_type": "markdown",
   "metadata": {},
   "source": [
    "## Delays, velocities over time"
   ]
  },
  {
   "cell_type": "code",
   "execution_count": 7,
   "metadata": {},
   "outputs": [
    {
     "data": {
      "image/png": "[encoded data removed]",
      "text/plain": [
       "<Figure size 1080x720 with 2 Axes>"
      ]
     },
     "metadata": {},
     "output_type": "display_data"
    }
   ],
   "source": [
    "# Options\n",
    "lw1 = 0.8\n",
    "alp1 = 0.5\n",
    "iters = np.arange(numIters+1)\n",
    "fig, axs = plt.subplots(2, figsize=(15,10))\n",
    "axs[0].plot(iters, tau_arr[:,:101], linewidth=lw1, alpha=alp1, color='blue')\n",
    "axs[1].plot(iters, vel_arr[:,:101], linewidth=lw1, alpha=alp1, color='green')\n",
    "\n",
    "for i in range(len(axs)):\n",
    "    axs[i].set_xlim(left=0, right=numIters)"
   ]
  },
  {
   "cell_type": "markdown",
   "metadata": {},
   "source": [
    "## Gradient over time"
   ]
  },
  {
   "cell_type": "code",
   "execution_count": 8,
   "metadata": {},
   "outputs": [
    {
     "data": {
      "text/plain": [
       "<matplotlib.lines.Line2D at 0x19e0bba2f60>"
      ]
     },
     "execution_count": 8,
     "metadata": {},
     "output_type": "execute_result"
    },
    {
     "data": {
      "image/png": "[encoded data removed]",
      "text/plain": [
       "<Figure size 960x320 with 1 Axes>"
      ]
     },
     "metadata": {},
     "output_type": "display_data"
    }
   ],
   "source": [
    "fig, ax = plt.subplots(1, figsize=(12,4), dpi=80)\n",
    "iters = np.arange(numIters)\n",
    "ax.plot(iters, grad_arr * np.reshape(W != 0, -1), linewidth=lw1, alpha=alp1, color='purple')\n",
    "ax.set_xlim(left=0, right=numIters)\n",
    "ax.axhline(y=0, color='black', linewidth=2.0, zorder=1)"
   ]
  },
  {
   "cell_type": "markdown",
   "metadata": {},
   "source": [
    "## Connections"
   ]
  },
  {
   "cell_type": "code",
   "execution_count": 9,
   "metadata": {},
   "outputs": [
    {
     "data": {
      "text/plain": [
       "<matplotlib.colorbar.Colorbar at 0x19e0bbf7ef0>"
      ]
     },
     "execution_count": 9,
     "metadata": {},
     "output_type": "execute_result"
    },
    {
     "data": {
      "image/png": "[encoded data removed]",
      "text/plain": [
       "<Figure size 1120x480 with 4 Axes>"
      ]
     },
     "metadata": {},
     "output_type": "display_data"
    }
   ],
   "source": [
    "# Positions [left, bottom, width, height] \n",
    "bbox0 = [0.05, 0.1, 0.35, 0.80]\n",
    "bbox1 = [0.43, 0.1, 0.03, 0.80]\n",
    "bbox2 = [0.55, 0.1, 0.35, 0.80]\n",
    "bbox3 = [0.93, 0.1, 0.03, 0.80]\n",
    "\n",
    "fig, ax = plt.subplots(4, figsize=(14,6), dpi=80)\n",
    "\n",
    "ax[0].set_position(bbox0)\n",
    "ax[1].set_position(bbox1)\n",
    "ax[2].set_position(bbox2)\n",
    "ax[3].set_position(bbox3)\n",
    "\n",
    "cs1 = ax[0].imshow(W, cmap='Blues')\n",
    "cs2 = ax[2].imshow(tau0, cmap='Reds')\n",
    "\n",
    "# Colour bars\n",
    "ticks1 = np.arange(0, np.max(W), 0.5) # Connectivity strength\n",
    "ticks2 = np.arange(0, np.max(tau0), 0.5) # Delays\n",
    "\n",
    "fig.colorbar(cs1, cax=ax[1], ticks=ticks1)\n",
    "fig.colorbar(cs2, cax=ax[3], ticks=ticks2)"
   ]
  },
  {
   "cell_type": "markdown",
   "metadata": {},
   "source": [
    "# Statistics"
   ]
  },
  {
   "cell_type": "markdown",
   "metadata": {},
   "source": [
    "## Parameters"
   ]
  },
  {
   "cell_type": "code",
   "execution_count": 12,
   "metadata": {},
   "outputs": [
    {
     "data": {
      "text/html": [
       "<style  type=\"text/css\" >\n",
       "</style>  \n",
       "<table id=\"T_8147dfd8_0167_11ec_9ea7_001a7dda7115\" > \n",
       "<thead>    <tr> \n",
       "        <th class=\"blank level0\" ></th> \n",
       "        <th class=\"col_heading level0 col0\" >Variable</th> \n",
       "        <th class=\"col_heading level0 col1\" >Value</th> \n",
       "    </tr></thead> \n",
       "<tbody>    <tr> \n",
       "        <th id=\"T_8147dfd8_0167_11ec_9ea7_001a7dda7115level0_row0\" class=\"row_heading level0 row0\" >0</th> \n",
       "        <td id=\"T_8147dfd8_0167_11ec_9ea7_001a7dda7115row0_col0\" class=\"data row0 col0\" >N</td> \n",
       "        <td id=\"T_8147dfd8_0167_11ec_9ea7_001a7dda7115row0_col1\" class=\"data row0 col1\" >68</td> \n",
       "    </tr>    <tr> \n",
       "        <th id=\"T_8147dfd8_0167_11ec_9ea7_001a7dda7115level0_row1\" class=\"row_heading level0 row1\" >1</th> \n",
       "        <td id=\"T_8147dfd8_0167_11ec_9ea7_001a7dda7115row1_col0\" class=\"data row1 col0\" >Scaling factor $\\kappa$</td> \n",
       "        <td id=\"T_8147dfd8_0167_11ec_9ea7_001a7dda7115row1_col1\" class=\"data row1 col1\" >0.0001</td> \n",
       "    </tr>    <tr> \n",
       "        <th id=\"T_8147dfd8_0167_11ec_9ea7_001a7dda7115level0_row2\" class=\"row_heading level0 row2\" >2</th> \n",
       "        <td id=\"T_8147dfd8_0167_11ec_9ea7_001a7dda7115row2_col0\" class=\"data row2 col0\" >Myelination rate $\\eta$</td> \n",
       "        <td id=\"T_8147dfd8_0167_11ec_9ea7_001a7dda7115row2_col1\" class=\"data row2 col1\" >5e-06</td> \n",
       "    </tr>    <tr> \n",
       "        <th id=\"T_8147dfd8_0167_11ec_9ea7_001a7dda7115level0_row3\" class=\"row_heading level0 row3\" >3</th> \n",
       "        <td id=\"T_8147dfd8_0167_11ec_9ea7_001a7dda7115row3_col0\" class=\"data row3 col0\" >Baseline firing rate $r_i^0$</td> \n",
       "        <td id=\"T_8147dfd8_0167_11ec_9ea7_001a7dda7115row3_col1\" class=\"data row3 col1\" >0.1</td> \n",
       "    </tr>    <tr> \n",
       "        <th id=\"T_8147dfd8_0167_11ec_9ea7_001a7dda7115level0_row4\" class=\"row_heading level0 row4\" >4</th> \n",
       "        <td id=\"T_8147dfd8_0167_11ec_9ea7_001a7dda7115row4_col0\" class=\"data row4 col0\" >Distance $\\ell$</td> \n",
       "        <td id=\"T_8147dfd8_0167_11ec_9ea7_001a7dda7115row4_col1\" class=\"data row4 col1\" >0.0780494</td> \n",
       "    </tr></tbody> \n",
       "</table> "
      ],
      "text/plain": [
       "<pandas.io.formats.style.Styler at 0x19e0d84a358>"
      ]
     },
     "execution_count": 12,
     "metadata": {},
     "output_type": "execute_result"
    }
   ],
   "source": [
    "var_name1 = ['N', \n",
    "            r'Scaling factor $\\kappa$', \n",
    "            r'Myelination rate $\\eta$', \n",
    "            r'Baseline firing rate $r_i^0$',\n",
    "            r'Distance $\\ell$'\n",
    "            ]\n",
    "\n",
    "var_value1 = [N, kappa, eta, r0[0], np.mean(dist)]\n",
    "\n",
    "var_name1 = np.array(var_name1)\n",
    "var_value1 = np.array(var_value1)\n",
    "\n",
    "table1 = pd.DataFrame({'Variable' : var_name1, 'Value': var_value1})\n",
    "\n",
    "# Display\n",
    "table1.style"
   ]
  },
  {
   "cell_type": "markdown",
   "metadata": {},
   "source": [
    "## Processed data"
   ]
  },
  {
   "cell_type": "code",
   "execution_count": 11,
   "metadata": {},
   "outputs": [
    {
     "data": {
      "text/plain": [
       "(101, 100)"
      ]
     },
     "execution_count": 11,
     "metadata": {},
     "output_type": "execute_result"
    }
   ],
   "source": [
    "vel_arr[:,:100].shape"
   ]
  },
  {
   "cell_type": "code",
   "execution_count": null,
   "metadata": {},
   "outputs": [],
   "source": []
  }
 ],
 "metadata": {
  "kernelspec": {
   "display_name": "Python 3",
   "language": "python",
   "name": "python3"
  },
  "language_info": {
   "codemirror_mode": {
    "name": "ipython",
    "version": 3
   },
   "file_extension": ".py",
   "mimetype": "text/x-python",
   "name": "python",
   "nbconvert_exporter": "python",
   "pygments_lexer": "ipython3",
   "version": "3.6.5"
  }
 },
 "nbformat": 4,
 "nbformat_minor": 2
}
