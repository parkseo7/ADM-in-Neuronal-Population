{
 "cells": [
  {
   "cell_type": "markdown",
   "metadata": {},
   "source": [
    "# About\n",
    "\n",
    "Use the simulated and processed data arrays to create the plots for the manuscript, using data imported from MATLAB."
   ]
  },
  {
   "cell_type": "markdown",
   "metadata": {},
   "source": [
    "# Library"
   ]
  },
  {
   "cell_type": "code",
   "execution_count": 1,
   "metadata": {},
   "outputs": [],
   "source": [
    "from __future__ import division, print_function\n",
    "\n",
    "%matplotlib inline\n",
    "# Toggle on/off\n",
    "# %matplotlib notebook\n",
    "\n",
    "import os\n",
    "import numpy as np\n",
    "import pandas as pd\n",
    "import scipy.io as sio\n",
    "from scipy import optimize\n",
    "import scipy.integrate as integrate\n",
    "from scipy import stats\n",
    "from scipy import special\n",
    "from scipy.spatial import distance\n",
    "import matplotlib.cm as cm\n",
    "import matplotlib.pyplot as plt\n",
    "import matplotlib.transforms as tsfm\n",
    "import matplotlib.colors as clr\n",
    "from tqdm.notebook import tqdm\n",
    "import math\n",
    "from math import pi\n",
    "\n",
    "\n",
    "from lib import *\n",
    "\n",
    "from IPython.display import clear_output"
   ]
  },
  {
   "cell_type": "markdown",
   "metadata": {},
   "source": [
    "# Directories"
   ]
  },
  {
   "cell_type": "code",
   "execution_count": 2,
   "metadata": {},
   "outputs": [],
   "source": [
    "foldername = os.path.join(os.getcwd(), 'data', 'arrays', 'ICBM_Matlab', 'trial1')\n",
    "filename_params = os.path.join(foldername, 'params.mat') # All parameters and raw data\n",
    "filename_arrays = os.path.join(foldername, 'results.mat') # All plottable arrays"
   ]
  },
  {
   "cell_type": "markdown",
   "metadata": {},
   "source": [
    "# Import data"
   ]
  },
  {
   "cell_type": "markdown",
   "metadata": {},
   "source": [
    "### Parameters"
   ]
  },
  {
   "cell_type": "code",
   "execution_count": 3,
   "metadata": {},
   "outputs": [],
   "source": [
    "dictPar = sio.loadmat(filename_params)\n",
    "\n",
    "# Raw data\n",
    "W_raw = dictPar['W_raw']\n",
    "dist = dictPar['dist']\n",
    "W = dictPar['W']\n",
    "\n",
    "# Parameters\n",
    "N = dictPar['N'][0,0]\n",
    "vel0 = dictPar['v0']\n",
    "r0 = np.reshape(dictPar['r0'], -1)\n",
    "kappa = dictPar['kappa'][0,0]\n",
    "# gamma0 = dictPar['gamma0'][0,0]\n",
    "eta = dictPar['eta'][0,0]\n",
    "numIters = dictPar['numIters'][0,0]\n",
    "\n",
    "# Injury parameters\n",
    "vLow = dictPar['vLow'][0,0]\n",
    "vHigh = dictPar['vHigh'][0,0]\n",
    "\n",
    "# Other\n",
    "tau0 = dist / vel0\n",
    "iters = np.arange(numIters)"
   ]
  },
  {
   "cell_type": "markdown",
   "metadata": {},
   "source": [
    "### Processed arrays"
   ]
  },
  {
   "cell_type": "code",
   "execution_count": 4,
   "metadata": {},
   "outputs": [],
   "source": [
    "dictArr = sio.loadmat(filename_arrays)\n",
    "\n",
    "alpha1 = dictArr['alpha1'][0,0]\n",
    "alpha2 = dictArr['alpha2'][0,0]\n",
    "\n",
    "# Stability\n",
    "eigs = dictArr['eigs']\n",
    "stab = np.min(eigs.real, axis=0)\n",
    "\n",
    "# ODE solved rates arrays?\n",
    "\n",
    "# Objective\n",
    "objective = np.reshape(dictArr['obj_arr'], -1) # Objective over iters\n",
    "objMax = dictArr['objMax'][0,0]\n",
    "\n",
    "# Histograms\n",
    "gamma0 = dictArr['gamma0']\n",
    "gammaf = dictArr['gammaf']\n",
    "tauf = dictArr['tauf']\n",
    "velf = dictArr['velf']\n",
    "\n",
    "histtau0 = np.reshape(tau0[W != 0], -1)\n",
    "histtauf = np.reshape(tauf[W != 0], -1)\n",
    "\n",
    "histvel0 = np.reshape(vel0[W != 0], -1)\n",
    "histvelf = np.reshape(velf[W != 0], -1)\n",
    "\n",
    "# Slopes\n",
    "slope = dictArr['slope'].T\n",
    "\n",
    "# Computation time\n",
    "comp_time = dictArr['comp_time'][0,0]\n",
    "mode = dictArr['mode']"
   ]
  },
  {
   "cell_type": "markdown",
   "metadata": {},
   "source": [
    "# Parameters and statistics"
   ]
  },
  {
   "cell_type": "markdown",
   "metadata": {},
   "source": [
    "## Parameters"
   ]
  },
  {
   "cell_type": "code",
   "execution_count": 6,
   "metadata": {},
   "outputs": [
    {
     "ename": "NameError",
     "evalue": "name 'alpha1' is not defined",
     "output_type": "error",
     "traceback": [
      "\u001b[1;31m---------------------------------------------------------------------------\u001b[0m",
      "\u001b[1;31mNameError\u001b[0m                                 Traceback (most recent call last)",
      "\u001b[1;32m<ipython-input-6-495389c856cf>\u001b[0m in \u001b[0;36m<module>\u001b[1;34m()\u001b[0m\n\u001b[0;32m      7\u001b[0m             ]\n\u001b[0;32m      8\u001b[0m \u001b[1;33m\u001b[0m\u001b[0m\n\u001b[1;32m----> 9\u001b[1;33m \u001b[0mvar_value1\u001b[0m \u001b[1;33m=\u001b[0m \u001b[1;33m[\u001b[0m\u001b[0mN\u001b[0m\u001b[1;33m,\u001b[0m \u001b[1;33m[\u001b[0m\u001b[0mvLow\u001b[0m\u001b[1;33m,\u001b[0m \u001b[0mvHigh\u001b[0m\u001b[1;33m]\u001b[0m\u001b[1;33m,\u001b[0m \u001b[0mkappa\u001b[0m\u001b[1;33m,\u001b[0m \u001b[0meta\u001b[0m\u001b[1;33m,\u001b[0m \u001b[0mr0\u001b[0m\u001b[1;33m[\u001b[0m\u001b[1;36m0\u001b[0m\u001b[1;33m]\u001b[0m\u001b[1;33m,\u001b[0m \u001b[0malpha1\u001b[0m\u001b[1;33m,\u001b[0m \u001b[0malpha2\u001b[0m\u001b[1;33m]\u001b[0m\u001b[1;33m\u001b[0m\u001b[0m\n\u001b[0m\u001b[0;32m     10\u001b[0m \u001b[1;33m\u001b[0m\u001b[0m\n\u001b[0;32m     11\u001b[0m \u001b[0mtable1\u001b[0m \u001b[1;33m=\u001b[0m \u001b[0mpd\u001b[0m\u001b[1;33m.\u001b[0m\u001b[0mDataFrame\u001b[0m\u001b[1;33m(\u001b[0m\u001b[1;33m{\u001b[0m\u001b[1;34m'Variable'\u001b[0m \u001b[1;33m:\u001b[0m \u001b[0mvar_name1\u001b[0m\u001b[1;33m,\u001b[0m \u001b[1;34m'Value'\u001b[0m\u001b[1;33m:\u001b[0m \u001b[0mvar_value1\u001b[0m\u001b[1;33m}\u001b[0m\u001b[1;33m)\u001b[0m\u001b[1;33m\u001b[0m\u001b[0m\n",
      "\u001b[1;31mNameError\u001b[0m: name 'alpha1' is not defined"
     ]
    }
   ],
   "source": [
    "var_name1 = ['N', r'Initial velocity range $v_0$ (m/s)', \n",
    "            r'Scaling factor $\\kappa$', \n",
    "            r'Myelination rate $\\eta$', \n",
    "            r'Baseline firing rate $r_i^0$ (Hz)',\n",
    "            r'Cost function coefficient',\n",
    "            r'Cost function exponential coefficient'\n",
    "            ]\n",
    "\n",
    "var_value1 = [N, [vLow, vHigh], kappa, eta, r0[0], alpha1, alpha2]\n",
    "\n",
    "table1 = pd.DataFrame({'Variable' : var_name1, 'Value': var_value1})\n",
    "\n",
    "# Display\n",
    "table1.style"
   ]
  },
  {
   "cell_type": "markdown",
   "metadata": {},
   "source": [
    "## Statistics"
   ]
  },
  {
   "cell_type": "code",
   "execution_count": null,
   "metadata": {},
   "outputs": [],
   "source": [
    "var_name3 = [r'Number of connections',\n",
    "             r'Total number of connections',\n",
    "             r'Mean active connectivity weight',\n",
    "             r'Initial objective',\n",
    "             r'Maximum objective reached',\n",
    "             r'Maximum objective possible',\n",
    "             r'Total computation time (min)',\n",
    "             r'Number of iterations', \n",
    "             r'Gradient used'\n",
    "            ]\n",
    "var_value3 = [np.count_nonzero(W != 0.0), \n",
    "              W.size, np.mean(W[W != 0]), \n",
    "              objective[0]/1000,\n",
    "              np.max(objective)/1000,\n",
    "              objMax/1000,\n",
    "              comp_time/60,\n",
    "              numIters,\n",
    "              mode\n",
    "             ]\n",
    "\n",
    "\n",
    "table3 = pd.DataFrame({'Stat' : var_name3, 'Value': var_value3})\n",
    "\n",
    "# Display\n",
    "table3.style"
   ]
  },
  {
   "cell_type": "markdown",
   "metadata": {},
   "source": [
    "# Figures"
   ]
  },
  {
   "cell_type": "markdown",
   "metadata": {},
   "source": [
    "## Objective function"
   ]
  },
  {
   "cell_type": "code",
   "execution_count": null,
   "metadata": {},
   "outputs": [],
   "source": [
    "fig, ax = plt.subplots(1, figsize=(12,4), dpi=80)\n",
    "iters = np.arange(1,numIters+1)\n",
    "ax.plot(iters, objective/1000)\n",
    "# ax.axvline(injTime * numIters, color='red', zorder=0)\n",
    "ax.axhline(y=objMax/1000, color='green', zorder=1)\n",
    "ax.set_xlim(left=0, right=numIters)"
   ]
  },
  {
   "cell_type": "markdown",
   "metadata": {},
   "source": [
    "## Connectivity and initial matrices\n",
    "\n",
    "Left (blue) heatmap of connectivity weights (processed), and right (red) heatmap of initial connection delays."
   ]
  },
  {
   "cell_type": "code",
   "execution_count": null,
   "metadata": {},
   "outputs": [],
   "source": [
    "# Positions [left, bottom, width, height] \n",
    "bbox0 = [0.05, 0.1, 0.35, 0.80]\n",
    "bbox1 = [0.43, 0.1, 0.03, 0.80]\n",
    "bbox2 = [0.55, 0.1, 0.35, 0.80]\n",
    "bbox3 = [0.93, 0.1, 0.03, 0.80]\n",
    "\n",
    "tau_matrix =np.ma.masked_where((W == 0), tau0)\n",
    "\n",
    "fig, ax = plt.subplots(4, figsize=(14,6), dpi=80)\n",
    "\n",
    "ax[0].set_position(bbox0)\n",
    "ax[1].set_position(bbox1)\n",
    "ax[2].set_position(bbox2)\n",
    "ax[3].set_position(bbox3)\n",
    "\n",
    "cs1 = ax[0].imshow(W, cmap='Blues')\n",
    "ax[2].set_facecolor('black')\n",
    "cs2 = ax[2].imshow(tau_matrix, cmap='spring',zorder=1)\n",
    "\n",
    "# Colour bars\n",
    "numticks1 = 11\n",
    "numticks2 = 11\n",
    "ticks1 = np.arange(0, np.max(W), np.round(np.max(W) / numticks1, decimals=1)) # Connectivity strength\n",
    "ticks2 = np.arange(0, np.max(tau0), np.round(np.max(tau0) / numticks2, decimals=4)) # Delays\n",
    "\n",
    "fig.colorbar(cs1, cax=ax[1], ticks=ticks1)\n",
    "fig.colorbar(cs2, cax=ax[3], ticks=ticks2)"
   ]
  },
  {
   "cell_type": "markdown",
   "metadata": {},
   "source": [
    "## Coincidences over time\n",
    "\n",
    "Heatmap of coincidence factors at specified timestamps, initially at time = 0s (left), before injury (middle), and post-injury (right)."
   ]
  },
  {
   "cell_type": "code",
   "execution_count": null,
   "metadata": {},
   "outputs": [],
   "source": [
    "# Positions [left, bottom, width, height] \n",
    "bbox0 = [0.05, 0.1, 0.35, 0.80]\n",
    "bbox1 = [0.43, 0.1, 0.03, 0.80]\n",
    "bbox2 = [0.55, 0.1, 0.35, 0.80]\n",
    "bbox3 = [0.93, 0.1, 0.03, 0.80]\n",
    "\n",
    "fig, ax = plt.subplots(4, figsize=(14,6), dpi=80)\n",
    "\n",
    "ax[0].set_position(bbox0)\n",
    "ax[1].set_position(bbox1)\n",
    "ax[2].set_position(bbox2)\n",
    "ax[3].set_position(bbox3)\n",
    "\n",
    "cs1 = ax[0].imshow(gamma0, cmap='Blues')\n",
    "cs2 = ax[2].imshow(gammaf-gamma0, cmap='Blues')\n",
    "\n",
    "# Colour bars\n",
    "numticks1 = 11\n",
    "numticks2 = 11\n",
    "ticks1 = np.linspace(0, 1, numticks1)\n",
    "ticks2 = np.linspace(0, 1, numticks2)\n",
    "\n",
    "fig.colorbar(cs1, cax=ax[1], ticks=ticks1)\n",
    "fig.colorbar(cs2, cax=ax[3], ticks=ticks2)"
   ]
  },
  {
   "cell_type": "markdown",
   "metadata": {},
   "source": [
    "## Histograms of delays, velocities over time\n",
    "\n",
    "Histograms of delays, velocities at specfied timestamps, colourcoded."
   ]
  },
  {
   "cell_type": "code",
   "execution_count": null,
   "metadata": {},
   "outputs": [],
   "source": [
    "# SETUP\n",
    "num_bins = 200\n",
    "\n",
    "# GENERATE FIGURE\n",
    "fig, axs = plt.subplots(1, 2, figsize=(12,4))\n",
    "\n",
    "axs[0].hist(histvel0, bins=num_bins, alpha=0.9, zorder=1)\n",
    "axs[0].hist(histvelf, bins=num_bins, alpha=0.9, zorder=0)\n",
    "\n",
    "axs[1].hist(histtau0, bins=num_bins, alpha=0.9, zorder=2)\n",
    "axs[1].hist(histtauf, bins=num_bins, alpha=0.9, zorder=0)\n",
    "\n",
    "axs[0].set_title('velocities')\n",
    "axs[1].set_title('delays')\n",
    "\n",
    "axs[0].set_xlabel('velocity (m/s)')\n",
    "axs[1].set_xlabel('time delay (s)')\n",
    "\n",
    "axs[0].set_ylabel('frequencies')\n",
    "\n",
    "axs[0].legend(['starting velocity ', 'updated velocities'])\n",
    "axs[1].legend(['starting delays ', 'updated delays'])"
   ]
  },
  {
   "cell_type": "markdown",
   "metadata": {},
   "source": [
    "## Dependence of updated velocities vs. tract lengths"
   ]
  },
  {
   "cell_type": "code",
   "execution_count": null,
   "metadata": {},
   "outputs": [],
   "source": [
    "# GENERATE FIGURE\n",
    "fig, axs = plt.subplots(1, 2, figsize=(12,4))\n",
    "\n",
    "axs[0].scatter(dist, vel0, s=4, color='blue')\n",
    "axs[1].scatter(dist[W != 0], velf[W != 0], s=4, color='red')"
   ]
  },
  {
   "cell_type": "markdown",
   "metadata": {},
   "source": [
    "## Sampled slopes"
   ]
  },
  {
   "cell_type": "code",
   "execution_count": null,
   "metadata": {},
   "outputs": [],
   "source": [
    "# Options\n",
    "lw1 = 0.8\n",
    "alp1 = 0.5\n",
    "\n",
    "iters = np.arange(1,numIters+1)\n",
    "\n",
    "inds_sam = np.random.choice(slope.shape[1], size=(3,3), replace=False)\n",
    "fig, axs = plt.subplots(3,3, figsize=(15,10))\n",
    "for i in range(len(axs)):\n",
    "    for j in range(len(axs[0])):\n",
    "        axs[i][j].plot(iters, slope[:,inds_sam[i][j]], linewidth=lw1, alpha=alp1, color='blue')\n",
    "        axs[i][j].set_xlim(left=0, right=numIters)\n",
    "        axs[i][j].axhline(y=0, color='red', zorder=0)\n",
    "        # axs[i][j].axvline(injTime * numIters, color='red', zorder=0)"
   ]
  },
  {
   "cell_type": "markdown",
   "metadata": {},
   "source": [
    "## Stability analysis\n",
    "\n",
    "We assess the stability around the equilibrium rates at each iteration, and use an ODE solver to show that the rates converge to their equilibrium following the ODE."
   ]
  },
  {
   "cell_type": "code",
   "execution_count": null,
   "metadata": {},
   "outputs": [],
   "source": [
    "fig, ax = plt.subplots(1, figsize=(12,4), dpi=80)\n",
    "iters = np.arange(1,numIters+1)\n",
    "ax.plot(iters, stab)\n",
    "# ax.axvline(injTime * numIters, color='red', zorder=0)\n",
    "ax.axhline(y=0, color='orange', zorder=1)\n",
    "ax.set_xlim(left=0, right=numIters)"
   ]
  },
  {
   "cell_type": "markdown",
   "metadata": {},
   "source": [
    "### Table 3: Processed statistics"
   ]
  },
  {
   "cell_type": "code",
   "execution_count": null,
   "metadata": {},
   "outputs": [],
   "source": [
    "var_name3 = [r'Number of connections',\n",
    "             r'Total number of connections',\n",
    "             r'Mean active connectivity weight',\n",
    "             r'Maximum objective',\n",
    "             r'Mean final delay',\n",
    "             r'Mean final velocity']\n",
    "var_value3 = [np.count_nonzero(W != 0.0), \n",
    "              W.size, np.mean(W[W != 0]), \n",
    "              np.max(objective), \n",
    "              np.mean(histvel0), \n",
    "              np.mean(histvelf)]\n",
    "\n",
    "table3 = pd.DataFrame({'Stat' : var_name3, 'Value': var_value3})\n",
    "\n",
    "# Display\n",
    "table3.style"
   ]
  },
  {
   "cell_type": "markdown",
   "metadata": {},
   "source": []
  }
 ],
 "metadata": {
  "kernelspec": {
   "display_name": "Python 3",
   "language": "python",
   "name": "python3"
  },
  "language_info": {
   "codemirror_mode": {
    "name": "ipython",
    "version": 3
   },
   "file_extension": ".py",
   "mimetype": "text/x-python",
   "name": "python",
   "nbconvert_exporter": "python",
   "pygments_lexer": "ipython3",
   "version": "3.6.5"
  }
 },
 "nbformat": 4,
 "nbformat_minor": 2
}
