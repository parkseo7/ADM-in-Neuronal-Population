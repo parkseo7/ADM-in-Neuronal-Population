{
 "cells": [
  {
   "cell_type": "markdown",
   "metadata": {},
   "source": [
    "# About\n",
    "\n",
    "Implement gradient descent algorithms to process the data directly. The results should align with MATLAB given the parameters are the same. For publishing, the MATLAB script and implementation should be primarily cited."
   ]
  },
  {
   "cell_type": "markdown",
   "metadata": {},
   "source": [
    "# Library"
   ]
  },
  {
   "cell_type": "code",
   "execution_count": 1,
   "metadata": {},
   "outputs": [],
   "source": [
    "from __future__ import division, print_function\n",
    "\n",
    "%matplotlib inline\n",
    "# Toggle on/off\n",
    "# %matplotlib notebook\n",
    "\n",
    "import os\n",
    "import numpy as np\n",
    "import pandas as pd\n",
    "import scipy.io as sio\n",
    "from scipy import optimize\n",
    "import scipy.integrate as integrate\n",
    "from scipy import stats\n",
    "from scipy import special\n",
    "from scipy.spatial import distance\n",
    "import matplotlib.cm as cm\n",
    "import matplotlib.pyplot as plt\n",
    "import matplotlib.transforms as tsfm\n",
    "import matplotlib.colors as clr\n",
    "from tqdm.notebook import tqdm\n",
    "import math\n",
    "from math import pi\n",
    "import time\n",
    "\n",
    "\n",
    "from lib import *\n",
    "\n",
    "from IPython.display import clear_output"
   ]
  },
  {
   "cell_type": "markdown",
   "metadata": {},
   "source": [
    "# Directories"
   ]
  },
  {
   "cell_type": "code",
   "execution_count": 2,
   "metadata": {},
   "outputs": [],
   "source": [
    "# Determine export folder name here:\n",
    "exportName = 'trial3'\n",
    "foldername = os.path.join(os.getcwd(), 'data', 'matrices', 'ICBM')\n",
    "filename_names = os.path.join(foldername, 'freesurfer_regions_68_sort_full.txt')\n",
    "filename_pos = os.path.join(foldername, 'fs_region_centers_68_sort.txt')\n",
    "filename_conn = os.path.join(foldername, 'icbm_fiber_mat.txt')"
   ]
  },
  {
   "cell_type": "markdown",
   "metadata": {},
   "source": [
    "# Parameters"
   ]
  },
  {
   "cell_type": "code",
   "execution_count": 3,
   "metadata": {},
   "outputs": [],
   "source": [
    "# Data import\n",
    "W_raw = np.loadtxt(fname = filename_conn) # Connections\n",
    "pos = np.loadtxt(fname = filename_pos) # Positions of nodes\n",
    "\n",
    "# Process imports\n",
    "dist = distance.cdist(pos,pos,'euclidean')\n",
    "dist = dist / 1000 # Convert from millimeters to meters (length of brain is 15cm, max dist is 160)\n",
    "W = W_raw / np.max(W_raw)\n",
    "# W = np.minimum(100 * W / np.max(W), np.ones(W.shape)) # Normalize connectivity\n",
    "# W = (W != 0).astype(float)\n",
    "# W = special.erf(1000* W)\n",
    "N = W.shape[0]\n",
    "\n",
    "# Set parameters\n",
    "vel0 = 1.0 # Initial velocity\n",
    "tau0 = dist / vel0\n",
    "r0 = 0.1*np.ones(N) # Baseline firing rate\n",
    "kappa = 30**2 # How punishing non-coincident delays are (lower = more punishing). Note delays have std approx 30 (60?)\n",
    "gamma0 = 1.0 # Normalization constant for coincidences"
   ]
  },
  {
   "cell_type": "markdown",
   "metadata": {},
   "source": [
    "# Employ learning model"
   ]
  },
  {
   "cell_type": "markdown",
   "metadata": {},
   "source": [
    "## Adaptive learning with gradual injury"
   ]
  },
  {
   "cell_type": "markdown",
   "metadata": {},
   "source": [
    "### Set-up"
   ]
  },
  {
   "cell_type": "code",
   "execution_count": 4,
   "metadata": {},
   "outputs": [],
   "source": [
    "# Learning parameters\n",
    "eta = 200\n",
    "numIters = 300\n",
    "\n",
    "# Outputs\n",
    "Time = range(numIters)\n",
    "objective = np.zeros(numIters)\n",
    "\n",
    "# Objective function\n",
    "objFun = FunLib.objectiveFun\n",
    "\n",
    "# Stability:\n",
    "stab = np.zeros(numIters)\n",
    "\n",
    "# Injury parameters (w.r.t time/iters)\n",
    "vel_range = [0.5, 2.0]\n",
    "velInj = np.random.uniform(low=vel_range[0], high=vel_range[1], size=tau0.shape) # Conduction velocity across unmyelinated axons\n",
    "beta = 0.05 # Rate of injury (Higher = faster exponential rate). May make this randomly sampled\n",
    "injIndex = 0.1 # Percentage of injured axons (random). Perhaps make this regional? Set to 0 for no injury\n",
    "injTime = 0.6 # When injury begins getting implemented as a fraction of total time (numIters)\n",
    "\n",
    "isInj = (np.random.uniform(size=tau0.shape) < injIndex).astype('float64')"
   ]
  },
  {
   "cell_type": "markdown",
   "metadata": {},
   "source": [
    "## Display parameters"
   ]
  },
  {
   "cell_type": "code",
   "execution_count": 5,
   "metadata": {},
   "outputs": [],
   "source": [
    "# Table 1: Main parameters\n",
    "var_name1 = ['N', r'Initial velocity $v_0$', \n",
    "            r'Scaling factor $\\kappa$', \n",
    "            r'Myelination rate $\\eta$', \n",
    "            r'Baseline firing rate $r_i^0$',\n",
    "            r'Coincidence normalizer $\\gamma$']\n",
    "\n",
    "var_value1 = [N, vel0, kappa, eta, r0[0], gamma0]\n",
    "\n",
    "var_name1 = np.array(var_name1)\n",
    "var_value1 = np.array(var_value1)\n",
    "\n",
    "table1 = pd.DataFrame({'Variable' : var_name1, 'Value': var_value1})\n",
    "\n",
    "# Table 2: Injury parameters\n",
    "var_name2 = [r'Total iterations',\n",
    "             r'$v_0$ uniform sample range',\n",
    "             r'Rate of injury $\\beta$',\n",
    "             r'Injury index',\n",
    "             r'Injury time']\n",
    "var_value2 = [numIters, vel_range, beta, injIndex, injTime*numIters]\n",
    "\n",
    "table2 = pd.DataFrame({'Variable' : var_name2, 'Value': var_value2})"
   ]
  },
  {
   "cell_type": "markdown",
   "metadata": {},
   "source": [
    "### Table 1"
   ]
  },
  {
   "cell_type": "code",
   "execution_count": 6,
   "metadata": {},
   "outputs": [
    {
     "data": {
      "text/html": [
       "<style  type=\"text/css\" >\n",
       "</style>  \n",
       "<table id=\"T_5b944f2c_0053_11ec_a3b4_001a7dda7115\" > \n",
       "<thead>    <tr> \n",
       "        <th class=\"blank level0\" ></th> \n",
       "        <th class=\"col_heading level0 col0\" >Variable</th> \n",
       "        <th class=\"col_heading level0 col1\" >Value</th> \n",
       "    </tr></thead> \n",
       "<tbody>    <tr> \n",
       "        <th id=\"T_5b944f2c_0053_11ec_a3b4_001a7dda7115level0_row0\" class=\"row_heading level0 row0\" >0</th> \n",
       "        <td id=\"T_5b944f2c_0053_11ec_a3b4_001a7dda7115row0_col0\" class=\"data row0 col0\" >N</td> \n",
       "        <td id=\"T_5b944f2c_0053_11ec_a3b4_001a7dda7115row0_col1\" class=\"data row0 col1\" >68</td> \n",
       "    </tr>    <tr> \n",
       "        <th id=\"T_5b944f2c_0053_11ec_a3b4_001a7dda7115level0_row1\" class=\"row_heading level0 row1\" >1</th> \n",
       "        <td id=\"T_5b944f2c_0053_11ec_a3b4_001a7dda7115row1_col0\" class=\"data row1 col0\" >Initial velocity $v_0$</td> \n",
       "        <td id=\"T_5b944f2c_0053_11ec_a3b4_001a7dda7115row1_col1\" class=\"data row1 col1\" >1</td> \n",
       "    </tr>    <tr> \n",
       "        <th id=\"T_5b944f2c_0053_11ec_a3b4_001a7dda7115level0_row2\" class=\"row_heading level0 row2\" >2</th> \n",
       "        <td id=\"T_5b944f2c_0053_11ec_a3b4_001a7dda7115row2_col0\" class=\"data row2 col0\" >Scaling factor $\\kappa$</td> \n",
       "        <td id=\"T_5b944f2c_0053_11ec_a3b4_001a7dda7115row2_col1\" class=\"data row2 col1\" >900</td> \n",
       "    </tr>    <tr> \n",
       "        <th id=\"T_5b944f2c_0053_11ec_a3b4_001a7dda7115level0_row3\" class=\"row_heading level0 row3\" >3</th> \n",
       "        <td id=\"T_5b944f2c_0053_11ec_a3b4_001a7dda7115row3_col0\" class=\"data row3 col0\" >Myelination rate $\\eta$</td> \n",
       "        <td id=\"T_5b944f2c_0053_11ec_a3b4_001a7dda7115row3_col1\" class=\"data row3 col1\" >200</td> \n",
       "    </tr>    <tr> \n",
       "        <th id=\"T_5b944f2c_0053_11ec_a3b4_001a7dda7115level0_row4\" class=\"row_heading level0 row4\" >4</th> \n",
       "        <td id=\"T_5b944f2c_0053_11ec_a3b4_001a7dda7115row4_col0\" class=\"data row4 col0\" >Baseline firing rate $r_i^0$</td> \n",
       "        <td id=\"T_5b944f2c_0053_11ec_a3b4_001a7dda7115row4_col1\" class=\"data row4 col1\" >0.1</td> \n",
       "    </tr>    <tr> \n",
       "        <th id=\"T_5b944f2c_0053_11ec_a3b4_001a7dda7115level0_row5\" class=\"row_heading level0 row5\" >5</th> \n",
       "        <td id=\"T_5b944f2c_0053_11ec_a3b4_001a7dda7115row5_col0\" class=\"data row5 col0\" >Coincidence normalizer $\\gamma$</td> \n",
       "        <td id=\"T_5b944f2c_0053_11ec_a3b4_001a7dda7115row5_col1\" class=\"data row5 col1\" >1</td> \n",
       "    </tr></tbody> \n",
       "</table> "
      ],
      "text/plain": [
       "<pandas.io.formats.style.Styler at 0x2b3c595a710>"
      ]
     },
     "execution_count": 6,
     "metadata": {},
     "output_type": "execute_result"
    }
   ],
   "source": [
    "table1.style"
   ]
  },
  {
   "cell_type": "code",
   "execution_count": 7,
   "metadata": {},
   "outputs": [
    {
     "data": {
      "text/html": [
       "<style  type=\"text/css\" >\n",
       "</style>  \n",
       "<table id=\"T_5b96709e_0053_11ec_8abd_001a7dda7115\" > \n",
       "<thead>    <tr> \n",
       "        <th class=\"blank level0\" ></th> \n",
       "        <th class=\"col_heading level0 col0\" >Variable</th> \n",
       "        <th class=\"col_heading level0 col1\" >Value</th> \n",
       "    </tr></thead> \n",
       "<tbody>    <tr> \n",
       "        <th id=\"T_5b96709e_0053_11ec_8abd_001a7dda7115level0_row0\" class=\"row_heading level0 row0\" >0</th> \n",
       "        <td id=\"T_5b96709e_0053_11ec_8abd_001a7dda7115row0_col0\" class=\"data row0 col0\" >Total iterations</td> \n",
       "        <td id=\"T_5b96709e_0053_11ec_8abd_001a7dda7115row0_col1\" class=\"data row0 col1\" >300</td> \n",
       "    </tr>    <tr> \n",
       "        <th id=\"T_5b96709e_0053_11ec_8abd_001a7dda7115level0_row1\" class=\"row_heading level0 row1\" >1</th> \n",
       "        <td id=\"T_5b96709e_0053_11ec_8abd_001a7dda7115row1_col0\" class=\"data row1 col0\" >$v_0$ uniform sample range</td> \n",
       "        <td id=\"T_5b96709e_0053_11ec_8abd_001a7dda7115row1_col1\" class=\"data row1 col1\" >[0.5, 2.0]</td> \n",
       "    </tr>    <tr> \n",
       "        <th id=\"T_5b96709e_0053_11ec_8abd_001a7dda7115level0_row2\" class=\"row_heading level0 row2\" >2</th> \n",
       "        <td id=\"T_5b96709e_0053_11ec_8abd_001a7dda7115row2_col0\" class=\"data row2 col0\" >Rate of injury $\\beta$</td> \n",
       "        <td id=\"T_5b96709e_0053_11ec_8abd_001a7dda7115row2_col1\" class=\"data row2 col1\" >0.05</td> \n",
       "    </tr>    <tr> \n",
       "        <th id=\"T_5b96709e_0053_11ec_8abd_001a7dda7115level0_row3\" class=\"row_heading level0 row3\" >3</th> \n",
       "        <td id=\"T_5b96709e_0053_11ec_8abd_001a7dda7115row3_col0\" class=\"data row3 col0\" >Injury index</td> \n",
       "        <td id=\"T_5b96709e_0053_11ec_8abd_001a7dda7115row3_col1\" class=\"data row3 col1\" >0.1</td> \n",
       "    </tr>    <tr> \n",
       "        <th id=\"T_5b96709e_0053_11ec_8abd_001a7dda7115level0_row4\" class=\"row_heading level0 row4\" >4</th> \n",
       "        <td id=\"T_5b96709e_0053_11ec_8abd_001a7dda7115row4_col0\" class=\"data row4 col0\" >Injury time</td> \n",
       "        <td id=\"T_5b96709e_0053_11ec_8abd_001a7dda7115row4_col1\" class=\"data row4 col1\" >180</td> \n",
       "    </tr></tbody> \n",
       "</table> "
      ],
      "text/plain": [
       "<pandas.io.formats.style.Styler at 0x2b3c5d81390>"
      ]
     },
     "execution_count": 7,
     "metadata": {},
     "output_type": "execute_result"
    }
   ],
   "source": [
    "table2.style"
   ]
  },
  {
   "cell_type": "markdown",
   "metadata": {},
   "source": [
    "### Set up arrays to plot"
   ]
  },
  {
   "cell_type": "code",
   "execution_count": 8,
   "metadata": {},
   "outputs": [],
   "source": [
    "# Sample sizes\n",
    "numTauInj = min(100, int(injIndex * N**2))\n",
    "numTauNonInj = min(100, int((1-injIndex) * N**2))\n",
    "\n",
    "# Sample indices to be plotted\n",
    "injInds = np.where((isInj == 1) * (W != 0))\n",
    "nonInjInds = np.where((isInj == 0) * (W != 0))\n",
    "\n",
    "injSample = np.random.choice(injInds[0].size, numTauInj)\n",
    "nonInjSample = np.random.choice(nonInjInds[0].size, numTauNonInj)\n",
    "\n",
    "injInds_i = injInds[0][injSample]\n",
    "injInds_j = injInds[1][injSample]\n",
    "nonInjInds_i = nonInjInds[0][nonInjSample]\n",
    "nonInjInds_j = nonInjInds[1][nonInjSample]"
   ]
  },
  {
   "cell_type": "markdown",
   "metadata": {},
   "source": [
    "### Implement learning rule over time"
   ]
  },
  {
   "cell_type": "code",
   "execution_count": 9,
   "metadata": {},
   "outputs": [
    {
     "data": {
      "application/vnd.jupyter.widget-view+json": {
       "model_id": "155a444da6784e7bbba9653f2ef617f3",
       "version_major": 2,
       "version_minor": 0
      },
      "text/plain": [
       "  0%|          | 0/300 [00:00<?, ?it/s]"
      ]
     },
     "metadata": {},
     "output_type": "display_data"
    }
   ],
   "source": [
    "# Initialize\n",
    "r_i = r0\n",
    "tau = tau0\n",
    "tauInj = dist / velInj\n",
    "\n",
    "tauInj_arr = np.zeros((numIters, numTauInj),dtype='float64')\n",
    "tauNonInj_arr = np.zeros((numIters, numTauInj),dtype='float64')\n",
    "velInj_arr = np.zeros((numIters, numTauInj),dtype='float64')\n",
    "velNonInj_arr = np.zeros((numIters, numTauInj),dtype='float64')\n",
    "\n",
    "dist_inj = np.reshape(dist[injInds_i, injInds_j], -1)\n",
    "dist_nonInj = np.reshape(dist[nonInjInds_i, injInds_j], -1)\n",
    "\n",
    "# Gamma records\n",
    "gamma_mat1 = np.zeros(tau0.shape)\n",
    "gamma_mat2 = np.zeros(tau0.shape)\n",
    "gamma_mat3 = np.zeros(tau0.shape)\n",
    "\n",
    "tau_mat1 = np.zeros(tau0.shape)\n",
    "tau_mat2 = np.zeros(tau0.shape)\n",
    "tau_mat3 = np.zeros(tau0.shape)\n",
    "\n",
    "# Gradient over time\n",
    "gradMean = np.zeros(numIters)\n",
    "gradMax = np.zeros(numIters)\n",
    "\n",
    "# Computation time:\n",
    "start_time = time.time()\n",
    "\n",
    "# MAIN LOOP\n",
    "for i in tqdm(Time):\n",
    "    \n",
    "    # Determine the equilibrium solution using current delays\n",
    "    gamma = gamma0 * FunLib.coincidenceFactorGauss(kappa, W, tau)\n",
    "    r_i = np.linalg.solve(np.identity(N) - W*gamma/N, r0) # Use instead of inversion\n",
    "    \n",
    "    # Store objective function\n",
    "    objective[i] = objFun(r_i)\n",
    "    \n",
    "    # Stability\n",
    "    eigs = np.linalg.eig(W*gamma/N - np.eye(N))\n",
    "    stab[i] = np.max(np.real(eigs[0]))\n",
    "    \n",
    "    # Gradient (USE MATLAB'S PARALLEL COMPUTING TO SPEED THIS UP)\n",
    "    gradObj = np.zeros(tau.shape)\n",
    "    for j in range(gradObj.shape[0]):\n",
    "        for k in range(gradObj.shape[1]):\n",
    "            if W[j,k] != 0:\n",
    "                gradObj_jk = FunLib.derivLearningRateSlow(W, tau, kappa, gamma0, gamma, r_i, (j,k))\n",
    "                gradObj[j,k] = gradObj_jk\n",
    "    \n",
    "    # Store gradient:\n",
    "    gradMean[i] = np.mean(gradObj)\n",
    "    gradMax[i] = np.max(gradObj)\n",
    "    \n",
    "    # Modify delays\n",
    "    if i < injTime * numIters:\n",
    "        tau = tau + eta * gradObj\n",
    "        tau = tau * (tau > 0) # Ensure tau is non-negative\n",
    "    \n",
    "    else:\n",
    "        # tau = tau - (1-isInj)*eta*kappa*r_i[:,np.newaxis]*r_i*W*gamma*FunLib.sumDiffs(W, tau)/N - isInj*beta*(tau - tauInj)\n",
    "        tau = tau + eta * (1-isInj) * gradObj - isInj*beta*(tau - tauInj)\n",
    "        tau = tau * (tau > 0) # Ensure tau is non-negative\n",
    "         \n",
    "    # Record sampled delays over time\n",
    "    tauInj_arr[i,:] = np.reshape(tau[injInds_i, injInds_j], -1)\n",
    "    tauNonInj_arr[i,:] = np.reshape(tau[nonInjInds_i, nonInjInds_j], -1)\n",
    "    velInj_arr[i,:] = dist_inj / tauInj_arr[i,:]\n",
    "    velNonInj_arr[i,:] = dist_nonInj / tauNonInj_arr[i,:]\n",
    "    \n",
    "    # Record gamma matrices:\n",
    "    if i == 0:\n",
    "        gamma_mat1 = gamma \n",
    "        tau_mat1 = tau\n",
    "    elif i == int(injTime * numIters)-1:\n",
    "        gamma_mat2 = gamma\n",
    "        tau_mat2 = tau\n",
    "    elif i == numIters-1:\n",
    "        gamma_mat3 = gamma\n",
    "        tau_mat3 = tau\n",
    "\n",
    "end_time = time.time()"
   ]
  },
  {
   "cell_type": "markdown",
   "metadata": {},
   "source": [
    "## Post-process"
   ]
  },
  {
   "cell_type": "code",
   "execution_count": 16,
   "metadata": {},
   "outputs": [
    {
     "data": {
      "text/plain": [
       "0.368528865119709"
      ]
     },
     "execution_count": 16,
     "metadata": {},
     "output_type": "execute_result"
    }
   ],
   "source": [
    "# Maximum objective and rates, given all coincidences are gamma0 (i.e. tau = 0 for all tau, or perfectly coincide)\n",
    "r_iMax = np.linalg.solve(np.identity(N) - W*gamma0*np.ones(W.shape)/N, r0) # Use instead of inversion\n",
    "objectiveMax = objFun(r_iMax)"
   ]
  },
  {
   "cell_type": "markdown",
   "metadata": {},
   "source": [
    "# Export\n",
    "\n",
    "Export the arrays to be plotted."
   ]
  },
  {
   "cell_type": "markdown",
   "metadata": {},
   "source": [
    "## Directories"
   ]
  },
  {
   "cell_type": "code",
   "execution_count": 10,
   "metadata": {},
   "outputs": [],
   "source": [
    "foldernameEX = os.path.join(os.getcwd(), 'data', 'arrays', exportName)\n",
    "\n",
    "# Create folder if it doesn't exist\n",
    "if not os.path.exists(foldernameEX):\n",
    "    os.mkdir(foldernameEX)\n",
    "filename_paramsEX = os.path.join(foldernameEX, 'parameters.mat') # All parameters and raw data\n",
    "filename_arraysEX = os.path.join(foldernameEX, 'arrays.mat') # All plottable arrays"
   ]
  },
  {
   "cell_type": "markdown",
   "metadata": {},
   "source": [
    "## Parameters"
   ]
  },
  {
   "cell_type": "code",
   "execution_count": 11,
   "metadata": {},
   "outputs": [],
   "source": [
    "dictPar = {'W_raw': W_raw,\n",
    "           'pos': pos, \n",
    "           'dist': dist,\n",
    "           'W': W,\n",
    "           'N': N,\n",
    "           'vel0': vel0,\n",
    "           'r0': r0,\n",
    "           'kappa': kappa,\n",
    "           'gamma0': gamma0,\n",
    "           'eta': eta,\n",
    "           'numIters': numIters,\n",
    "           'vel_range': vel_range,\n",
    "           'velInj': velInj,\n",
    "           'beta': beta,\n",
    "           'injIndex': injIndex,\n",
    "           'injTime': injTime\n",
    "           }\n",
    "\n",
    "# Export\n",
    "sio.savemat(filename_paramsEX, dictPar)"
   ]
  },
  {
   "cell_type": "markdown",
   "metadata": {},
   "source": [
    "## Processed arrays"
   ]
  },
  {
   "cell_type": "code",
   "execution_count": 18,
   "metadata": {},
   "outputs": [],
   "source": [
    "dictMat = {'stab': stab,\n",
    "           'objective': objective,\n",
    "           'gradMean': gradMean,\n",
    "           'gradMax': gradMax,\n",
    "           'objMax': objectiveMax,\n",
    "           'Computation time': end_time - start_time,\n",
    "           'tau1': tau_mat1, # Initial delay\n",
    "           'tau2': tau_mat2, # Pre-injury delay\n",
    "           'tau3': tau_mat3, # Final delay\n",
    "           'gamma1': gamma_mat1, # Initial coincidences\n",
    "           'gamma2': gamma_mat2, # Pre-injury coincidences\n",
    "           'gamma3': gamma_mat3 # Final coincidences\n",
    "           }\n",
    "\n",
    "# Export\n",
    "sio.savemat(filename_arraysEX, dictMat)"
   ]
  },
  {
   "cell_type": "code",
   "execution_count": 13,
   "metadata": {},
   "outputs": [
    {
     "data": {
      "text/plain": [
       "0.0019566670768723406"
      ]
     },
     "execution_count": 13,
     "metadata": {},
     "output_type": "execute_result"
    }
   ],
   "source": [
    "np.max(gradObj)"
   ]
  }
 ],
 "metadata": {
  "kernelspec": {
   "display_name": "Python 3",
   "language": "python",
   "name": "python3"
  },
  "language_info": {
   "codemirror_mode": {
    "name": "ipython",
    "version": 3
   },
   "file_extension": ".py",
   "mimetype": "text/x-python",
   "name": "python",
   "nbconvert_exporter": "python",
   "pygments_lexer": "ipython3",
   "version": "3.6.5"
  }
 },
 "nbformat": 4,
 "nbformat_minor": 2
}
