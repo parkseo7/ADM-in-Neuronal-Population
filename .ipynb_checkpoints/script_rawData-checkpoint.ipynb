{
 "cells": [
  {
   "cell_type": "markdown",
   "metadata": {},
   "source": [
    "# About\n",
    "\n",
    "Implement gradient descent algorithms to process the data directly. The results should align with MATLAB given the parameters are the same. For publishing, the MATLAB script and implementation should be primarily cited."
   ]
  },
  {
   "cell_type": "markdown",
   "metadata": {},
   "source": [
    "# Library"
   ]
  },
  {
   "cell_type": "code",
   "execution_count": 1,
   "metadata": {},
   "outputs": [],
   "source": [
    "from __future__ import division, print_function\n",
    "\n",
    "%matplotlib inline\n",
    "# Toggle on/off\n",
    "# %matplotlib notebook\n",
    "\n",
    "import os\n",
    "import numpy as np\n",
    "import scipy.io as sio\n",
    "from scipy import optimize\n",
    "import scipy.integrate as integrate\n",
    "from scipy import stats\n",
    "from scipy.spatial import distance\n",
    "import matplotlib.cm as cm\n",
    "import matplotlib.pyplot as plt\n",
    "import matplotlib.transforms as tsfm\n",
    "import matplotlib.colors as clr\n",
    "from tqdm.notebook import tqdm\n",
    "import math\n",
    "from math import pi\n",
    "\n",
    "\n",
    "from lib import *\n",
    "\n",
    "from IPython.display import clear_output"
   ]
  },
  {
   "cell_type": "markdown",
   "metadata": {},
   "source": [
    "# Directories"
   ]
  },
  {
   "cell_type": "code",
   "execution_count": 2,
   "metadata": {},
   "outputs": [],
   "source": [
    "foldername = os.path.join(os.getcwd(), 'data', 'matrices', 'ICBM')\n",
    "filename_names = os.path.join(foldername, 'freesurfer_regions_68_sort_full.txt')\n",
    "filename_pos = os.path.join(foldername, 'fs_region_centers_68_sort.txt')\n",
    "filename_conn = os.path.join(foldername, 'icbm_fiber_mat.txt')"
   ]
  },
  {
   "cell_type": "markdown",
   "metadata": {},
   "source": [
    "# Parameters"
   ]
  },
  {
   "cell_type": "code",
   "execution_count": 3,
   "metadata": {},
   "outputs": [],
   "source": [
    "# Data import\n",
    "W = np.loadtxt(fname = filename_conn) # Connections\n",
    "pos = np.loadtxt(fname = filename_pos) # Positions of nodes\n",
    "\n",
    "# Process imports\n",
    "dist = distance.cdist(pos,pos,'euclidean')\n",
    "W = W / np.max(W) # Normalize connectivity\n",
    "N = W.shape[0]\n",
    "\n",
    "# Set parameters\n",
    "vel0 = 3.0 # Initial velocity\n",
    "tau0 = dist / vel0\n",
    "r0 = np.ones(N) # Baseline firing rate\n",
    "kappa = 0.0005"
   ]
  },
  {
   "cell_type": "markdown",
   "metadata": {},
   "source": [
    "# Employ learning model"
   ]
  },
  {
   "cell_type": "code",
   "execution_count": 7,
   "metadata": {},
   "outputs": [],
   "source": [
    "# Toggle which learning algorithms to run\n",
    "is_regular = False\n",
    "is_injury = True"
   ]
  },
  {
   "cell_type": "markdown",
   "metadata": {},
   "source": [
    "## Regular learning"
   ]
  },
  {
   "cell_type": "code",
   "execution_count": 8,
   "metadata": {},
   "outputs": [
    {
     "data": {
      "application/vnd.jupyter.widget-view+json": {
       "model_id": "5b2155a1ed844d2fbfd019232155715e",
       "version_major": 2,
       "version_minor": 0
      },
      "text/plain": [
       "  0%|          | 0/1000 [00:00<?, ?it/s]"
      ]
     },
     "metadata": {},
     "output_type": "display_data"
    }
   ],
   "source": [
    "# Learning parameters\n",
    "eta = 200\n",
    "numIters = 1000\n",
    "\n",
    "# Outputs\n",
    "time = range(numIters)\n",
    "objective = np.zeros(numIters)\n",
    "\n",
    "# Objective function\n",
    "objFun = FunLib.objectiveFun\n",
    "\n",
    "# Initialize\n",
    "r_i = r0\n",
    "tau = tau0\n",
    "gamma0 = FunLib.coincidenceFactor(kappa, W, tau0)\n",
    "\n",
    "# MAIN LOOP\n",
    "for i in tqdm(time):\n",
    "    \n",
    "    if not is_regular:\n",
    "        break\n",
    "    \n",
    "    # Determine the equilibrium solution using current delays\n",
    "    gamma = FunLib.coincidenceFactor(kappa, W, tau)\n",
    "    T = np.linalg.inv(np.identity(N) - W*gamma/N) # Not safe\n",
    "    r_i = np.matmul(T,r0)\n",
    "    \n",
    "    # Store objective function\n",
    "    objective[i] = objFun(r_i)\n",
    "    \n",
    "    # Modify delays\n",
    "    tau = tau - eta*kappa*r_i[:,np.newaxis]*r_i*W*gamma*FunLib.sumDiffs(W, tau)/N"
   ]
  },
  {
   "cell_type": "markdown",
   "metadata": {},
   "source": [
    "## Adaptive learning with gradual injury"
   ]
  },
  {
   "cell_type": "code",
   "execution_count": 6,
   "metadata": {},
   "outputs": [
    {
     "data": {
      "application/vnd.jupyter.widget-view+json": {
       "model_id": "6c06f1d0720248ffaacb5cef8d67d49d",
       "version_major": 2,
       "version_minor": 0
      },
      "text/plain": [
       "  0%|          | 0/1000 [00:00<?, ?it/s]"
      ]
     },
     "metadata": {},
     "output_type": "display_data"
    }
   ],
   "source": [
    "# Learning parameters\n",
    "eta = 200\n",
    "numIters = 1000\n",
    "\n",
    "# Outputs\n",
    "time = range(numIters)\n",
    "objective = np.zeros(numIters)\n",
    "\n",
    "# Objective function\n",
    "objFun = FunLib.objectiveFun\n",
    "\n",
    "# Injury function (w.r.t time/iters)\n",
    "velMin = 0.1 # Velocity across unmyelinated or severely injured axons\n",
    "injFun = lambda t: \n",
    "\n",
    "# Initialize\n",
    "r_i = r0\n",
    "tau = tau0\n",
    "gamma0 = FunLib.coincidenceFactor(kappa, W, tau0)\n",
    "\n",
    "# MAIN LOOP\n",
    "for i in tqdm(time):\n",
    "    \n",
    "    if not is_injury:\n",
    "        break\n",
    "    \n",
    "    # Determine the equilibrium solution using current delays\n",
    "    gamma = FunLib.coincidenceFactor(kappa, W, tau)\n",
    "    T = np.linalg.inv(np.identity(N) - W*gamma/N) # Not safe\n",
    "    r_i = np.matmul(T,r0)\n",
    "    \n",
    "    # Store objective function\n",
    "    objective[i] = objFun(r_i)\n",
    "    \n",
    "    # Modify delays\n",
    "    tau = tau - eta*kappa*r_i[:,np.newaxis]*r_i*W*gamma*FunLib.sumDiffs(W, tau)/N"
   ]
  },
  {
   "cell_type": "markdown",
   "metadata": {},
   "source": [
    "# Figures"
   ]
  },
  {
   "cell_type": "code",
   "execution_count": null,
   "metadata": {},
   "outputs": [],
   "source": []
  }
 ],
 "metadata": {
  "kernelspec": {
   "display_name": "Python 3",
   "language": "python",
   "name": "python3"
  },
  "language_info": {
   "codemirror_mode": {
    "name": "ipython",
    "version": 3
   },
   "file_extension": ".py",
   "mimetype": "text/x-python",
   "name": "python",
   "nbconvert_exporter": "python",
   "pygments_lexer": "ipython3",
   "version": "3.6.5"
  }
 },
 "nbformat": 4,
 "nbformat_minor": 2
}
