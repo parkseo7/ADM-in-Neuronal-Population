{
 "cells": [
  {
   "cell_type": "markdown",
   "metadata": {},
   "source": [
    "# About\n",
    "\n",
    "Implement gradient descent algorithms to process the data directly. The results should align with MATLAB given the parameters are the same. For publishing, the MATLAB script and implementation should be primarily cited."
   ]
  },
  {
   "cell_type": "markdown",
   "metadata": {},
   "source": [
    "# Library"
   ]
  },
  {
   "cell_type": "code",
   "execution_count": 1,
   "metadata": {},
   "outputs": [],
   "source": [
    "from __future__ import division, print_function\n",
    "\n",
    "%matplotlib inline\n",
    "# Toggle on/off\n",
    "# %matplotlib notebook\n",
    "\n",
    "import os\n",
    "import numpy as np\n",
    "import pandas as pd\n",
    "import scipy.io as sio\n",
    "from scipy import optimize\n",
    "import scipy.integrate as integrate\n",
    "from scipy import stats\n",
    "from scipy import special\n",
    "from scipy.spatial import distance\n",
    "import matplotlib.cm as cm\n",
    "import matplotlib.pyplot as plt\n",
    "import matplotlib.transforms as tsfm\n",
    "import matplotlib.colors as clr\n",
    "from tqdm.notebook import tqdm\n",
    "import math\n",
    "from math import pi\n",
    "\n",
    "\n",
    "from lib import *\n",
    "\n",
    "from IPython.display import clear_output"
   ]
  },
  {
   "cell_type": "markdown",
   "metadata": {},
   "source": [
    "# Directories"
   ]
  },
  {
   "cell_type": "code",
   "execution_count": 2,
   "metadata": {},
   "outputs": [],
   "source": [
    "foldername = os.path.join(os.getcwd(), 'data', 'arrays', 'results1')\n",
    "filename_params = os.path.join(foldername, 'parameters.mat') # All parameters and raw data\n",
    "filename_arrays = os.path.join(foldername, 'arrays.mat') # All plottable arrays"
   ]
  },
  {
   "cell_type": "markdown",
   "metadata": {},
   "source": [
    "# Import data"
   ]
  },
  {
   "cell_type": "markdown",
   "metadata": {},
   "source": [
    "### Parameters"
   ]
  },
  {
   "cell_type": "code",
   "execution_count": 3,
   "metadata": {},
   "outputs": [],
   "source": [
    "dictPar = sio.loadmat(filename_params)\n",
    "\n",
    "# Raw data\n",
    "W_raw = dictPar['W_raw']\n",
    "dist = dictPar['dist']\n",
    "W = dictPar['W']\n",
    "\n",
    "# Parameters\n",
    "N = dictPar['N'][0,0]\n",
    "vel0 = dictPar['vel0'][0,0]\n",
    "r0 = np.reshape(dictPar['r0'], -1)\n",
    "kappa = dictPar['kappa'][0,0]\n",
    "gamma0 = dictPar['gamma0'][0,0]\n",
    "eta = dictPar['eta'][0,0]\n",
    "numIters = dictPar['numIters'][0,0]\n",
    "\n",
    "# Injury parameters\n",
    "vel_range = dictPar['vel_range']\n",
    "velInj = dictPar['velInj']\n",
    "beta = dictPar['beta'][0,0]\n",
    "injIndex = dictPar['injIndex'][0,0]\n",
    "injTime = dictPar['injTime'][0,0]\n",
    "\n",
    "# Other\n",
    "tau0 = dist / vel0\n",
    "iters = np.arange(numIters)"
   ]
  },
  {
   "cell_type": "markdown",
   "metadata": {},
   "source": [
    "### Processed arrays"
   ]
  },
  {
   "cell_type": "code",
   "execution_count": null,
   "metadata": {},
   "outputs": [],
   "source": [
    "dictArr = sio.loadmat(filename_arrays)\n",
    "\n",
    "# Stability\n",
    "stab = np.reshape(dictArr['stab'], -1) # Stability (lowerst real eig part) over iters\n",
    "# ODE solved rates arrays?\n",
    "\n",
    "# Objective\n",
    "objective = np.reshape(dictArr['objective'], -1) # Objective over iters\n",
    "\n",
    "# Heatmaps of gammas\n",
    "\n",
    "# Histograms of delays, velocities"
   ]
  },
  {
   "cell_type": "markdown",
   "metadata": {},
   "source": [
    "# Figures"
   ]
  },
  {
   "cell_type": "markdown",
   "metadata": {},
   "source": [
    "## Objective function"
   ]
  },
  {
   "cell_type": "code",
   "execution_count": null,
   "metadata": {},
   "outputs": [],
   "source": [
    "fig, ax = plt.subplots(1, figsize=(12,4), dpi=80)\n",
    "iters = np.arange(1,numIters+1)\n",
    "ax.plot(iters, objective)\n",
    "ax.axvline(injTime * numIters, color='red', zorder=0)\n",
    "ax.set_xlim(left=0, right=numIters)"
   ]
  },
  {
   "cell_type": "markdown",
   "metadata": {},
   "source": [
    "## Connectivity and initial matrices\n",
    "\n",
    "Left (blue) heatmap of connectivity weights (processed), and right (red) heatmap of connection delays"
   ]
  },
  {
   "cell_type": "code",
   "execution_count": null,
   "metadata": {},
   "outputs": [],
   "source": [
    "# Positions [left, bottom, width, height] \n",
    "bbox0 = [0.05, 0.1, 0.35, 0.80]\n",
    "bbox1 = [0.43, 0.1, 0.03, 0.80]\n",
    "bbox2 = [0.55, 0.1, 0.35, 0.80]\n",
    "bbox3 = [0.93, 0.1, 0.03, 0.80]\n",
    "\n",
    "fig, ax = plt.subplots(4, figsize=(14,6), dpi=80)\n",
    "\n",
    "ax[0].set_position(bbox0)\n",
    "ax[1].set_position(bbox1)\n",
    "ax[2].set_position(bbox2)\n",
    "ax[3].set_position(bbox3)\n",
    "\n",
    "cs1 = ax[0].imshow(W, cmap='Blues')\n",
    "cs2 = ax[2].imshow(tau0, cmap='Reds')\n",
    "\n",
    "# Colour bars\n",
    "numticks1 = 10\n",
    "numticks2 = 10\n",
    "ticks1 = np.arange(0, np.max(W), np.round(np.max(W) / numticks1, decimals=1)) # Connectivity strength\n",
    "ticks2 = np.arange(0, np.max(tau0), np.round(np.max(tau0) / numticks2, decimals=0)) # Delays\n",
    "\n",
    "fig.colorbar(cs1, cax=ax[1], ticks=ticks1)\n",
    "fig.colorbar(cs2, cax=ax[3], ticks=ticks2)"
   ]
  },
  {
   "cell_type": "markdown",
   "metadata": {},
   "source": [
    "# Coincidences over time\n",
    "\n",
    "Heatmap of coincidence factors at specified timestamps, initially at time = 0s (left), before injury (middle), and post-injury (right)."
   ]
  },
  {
   "cell_type": "code",
   "execution_count": null,
   "metadata": {},
   "outputs": [],
   "source": []
  },
  {
   "cell_type": "markdown",
   "metadata": {},
   "source": [
    "# Statistics"
   ]
  },
  {
   "cell_type": "markdown",
   "metadata": {},
   "source": [
    "## Display parameters"
   ]
  },
  {
   "cell_type": "markdown",
   "metadata": {},
   "source": [
    "### Table 1: Main parameters"
   ]
  },
  {
   "cell_type": "code",
   "execution_count": 6,
   "metadata": {},
   "outputs": [
    {
     "data": {
      "text/html": [
       "<style  type=\"text/css\" >\n",
       "</style>  \n",
       "<table id=\"T_aa8eaf58_fb7c_11eb_b981_001a7dda7115\" > \n",
       "<thead>    <tr> \n",
       "        <th class=\"blank level0\" ></th> \n",
       "        <th class=\"col_heading level0 col0\" >Variable</th> \n",
       "        <th class=\"col_heading level0 col1\" >Value</th> \n",
       "    </tr></thead> \n",
       "<tbody>    <tr> \n",
       "        <th id=\"T_aa8eaf58_fb7c_11eb_b981_001a7dda7115level0_row0\" class=\"row_heading level0 row0\" >0</th> \n",
       "        <td id=\"T_aa8eaf58_fb7c_11eb_b981_001a7dda7115row0_col0\" class=\"data row0 col0\" >N</td> \n",
       "        <td id=\"T_aa8eaf58_fb7c_11eb_b981_001a7dda7115row0_col1\" class=\"data row0 col1\" >68</td> \n",
       "    </tr>    <tr> \n",
       "        <th id=\"T_aa8eaf58_fb7c_11eb_b981_001a7dda7115level0_row1\" class=\"row_heading level0 row1\" >1</th> \n",
       "        <td id=\"T_aa8eaf58_fb7c_11eb_b981_001a7dda7115row1_col0\" class=\"data row1 col0\" >Initial velocity $v_0$</td> \n",
       "        <td id=\"T_aa8eaf58_fb7c_11eb_b981_001a7dda7115row1_col1\" class=\"data row1 col1\" >1</td> \n",
       "    </tr>    <tr> \n",
       "        <th id=\"T_aa8eaf58_fb7c_11eb_b981_001a7dda7115level0_row2\" class=\"row_heading level0 row2\" >2</th> \n",
       "        <td id=\"T_aa8eaf58_fb7c_11eb_b981_001a7dda7115row2_col0\" class=\"data row2 col0\" >Scaling factor $\\kappa$</td> \n",
       "        <td id=\"T_aa8eaf58_fb7c_11eb_b981_001a7dda7115row2_col1\" class=\"data row2 col1\" >900</td> \n",
       "    </tr>    <tr> \n",
       "        <th id=\"T_aa8eaf58_fb7c_11eb_b981_001a7dda7115level0_row3\" class=\"row_heading level0 row3\" >3</th> \n",
       "        <td id=\"T_aa8eaf58_fb7c_11eb_b981_001a7dda7115row3_col0\" class=\"data row3 col0\" >Myelination rate $\\eta$</td> \n",
       "        <td id=\"T_aa8eaf58_fb7c_11eb_b981_001a7dda7115row3_col1\" class=\"data row3 col1\" >100</td> \n",
       "    </tr>    <tr> \n",
       "        <th id=\"T_aa8eaf58_fb7c_11eb_b981_001a7dda7115level0_row4\" class=\"row_heading level0 row4\" >4</th> \n",
       "        <td id=\"T_aa8eaf58_fb7c_11eb_b981_001a7dda7115row4_col0\" class=\"data row4 col0\" >Baseline firing rate $r_i^0$</td> \n",
       "        <td id=\"T_aa8eaf58_fb7c_11eb_b981_001a7dda7115row4_col1\" class=\"data row4 col1\" >0.1</td> \n",
       "    </tr>    <tr> \n",
       "        <th id=\"T_aa8eaf58_fb7c_11eb_b981_001a7dda7115level0_row5\" class=\"row_heading level0 row5\" >5</th> \n",
       "        <td id=\"T_aa8eaf58_fb7c_11eb_b981_001a7dda7115row5_col0\" class=\"data row5 col0\" >Coincidence normalizer $\\gamma$</td> \n",
       "        <td id=\"T_aa8eaf58_fb7c_11eb_b981_001a7dda7115row5_col1\" class=\"data row5 col1\" >1</td> \n",
       "    </tr></tbody> \n",
       "</table> "
      ],
      "text/plain": [
       "<pandas.io.formats.style.Styler at 0x2c0120caa58>"
      ]
     },
     "execution_count": 6,
     "metadata": {},
     "output_type": "execute_result"
    }
   ],
   "source": [
    "var_name1 = ['N', r'Initial velocity $v_0$', \n",
    "            r'Scaling factor $\\kappa$', \n",
    "            r'Myelination rate $\\eta$', \n",
    "            r'Baseline firing rate $r_i^0$',\n",
    "            r'Coincidence normalizer $\\gamma$']\n",
    "\n",
    "var_value1 = [N, vel0, kappa, eta, r0[0], gamma0]\n",
    "\n",
    "var_name1 = np.array(var_name1)\n",
    "var_value1 = np.array(var_value1)\n",
    "\n",
    "table1 = pd.DataFrame({'Variable' : var_name1, 'Value': var_value1})\n",
    "\n",
    "# Display\n",
    "table1.style"
   ]
  },
  {
   "cell_type": "markdown",
   "metadata": {},
   "source": [
    "### Table 2: Injury parameters"
   ]
  },
  {
   "cell_type": "code",
   "execution_count": 7,
   "metadata": {},
   "outputs": [
    {
     "data": {
      "text/html": [
       "<style  type=\"text/css\" >\n",
       "</style>  \n",
       "<table id=\"T_aa911db4_fb7c_11eb_94f7_001a7dda7115\" > \n",
       "<thead>    <tr> \n",
       "        <th class=\"blank level0\" ></th> \n",
       "        <th class=\"col_heading level0 col0\" >Variable</th> \n",
       "        <th class=\"col_heading level0 col1\" >Value</th> \n",
       "    </tr></thead> \n",
       "<tbody>    <tr> \n",
       "        <th id=\"T_aa911db4_fb7c_11eb_94f7_001a7dda7115level0_row0\" class=\"row_heading level0 row0\" >0</th> \n",
       "        <td id=\"T_aa911db4_fb7c_11eb_94f7_001a7dda7115row0_col0\" class=\"data row0 col0\" >Total iterations</td> \n",
       "        <td id=\"T_aa911db4_fb7c_11eb_94f7_001a7dda7115row0_col1\" class=\"data row0 col1\" >300</td> \n",
       "    </tr>    <tr> \n",
       "        <th id=\"T_aa911db4_fb7c_11eb_94f7_001a7dda7115level0_row1\" class=\"row_heading level0 row1\" >1</th> \n",
       "        <td id=\"T_aa911db4_fb7c_11eb_94f7_001a7dda7115row1_col0\" class=\"data row1 col0\" >$v_0$ uniform sample range</td> \n",
       "        <td id=\"T_aa911db4_fb7c_11eb_94f7_001a7dda7115row1_col1\" class=\"data row1 col1\" >[0.5, 2.0]</td> \n",
       "    </tr>    <tr> \n",
       "        <th id=\"T_aa911db4_fb7c_11eb_94f7_001a7dda7115level0_row2\" class=\"row_heading level0 row2\" >2</th> \n",
       "        <td id=\"T_aa911db4_fb7c_11eb_94f7_001a7dda7115row2_col0\" class=\"data row2 col0\" >Rate of injury $\\beta$</td> \n",
       "        <td id=\"T_aa911db4_fb7c_11eb_94f7_001a7dda7115row2_col1\" class=\"data row2 col1\" >0.05</td> \n",
       "    </tr>    <tr> \n",
       "        <th id=\"T_aa911db4_fb7c_11eb_94f7_001a7dda7115level0_row3\" class=\"row_heading level0 row3\" >3</th> \n",
       "        <td id=\"T_aa911db4_fb7c_11eb_94f7_001a7dda7115row3_col0\" class=\"data row3 col0\" >Injury index</td> \n",
       "        <td id=\"T_aa911db4_fb7c_11eb_94f7_001a7dda7115row3_col1\" class=\"data row3 col1\" >0.1</td> \n",
       "    </tr>    <tr> \n",
       "        <th id=\"T_aa911db4_fb7c_11eb_94f7_001a7dda7115level0_row4\" class=\"row_heading level0 row4\" >4</th> \n",
       "        <td id=\"T_aa911db4_fb7c_11eb_94f7_001a7dda7115row4_col0\" class=\"data row4 col0\" >Injury time</td> \n",
       "        <td id=\"T_aa911db4_fb7c_11eb_94f7_001a7dda7115row4_col1\" class=\"data row4 col1\" >180</td> \n",
       "    </tr></tbody> \n",
       "</table> "
      ],
      "text/plain": [
       "<pandas.io.formats.style.Styler at 0x2c0125ad400>"
      ]
     },
     "execution_count": 7,
     "metadata": {},
     "output_type": "execute_result"
    }
   ],
   "source": [
    "var_name2 = [r'Total iterations',\n",
    "             r'$v_0$ uniform sample range',\n",
    "             r'Rate of injury $\\beta$',\n",
    "             r'Injury index',\n",
    "             r'Injury time']\n",
    "var_value2 = [numIters, vel_range, beta, injIndex, injTime*numIters]\n",
    "table2 = pd.DataFrame({'Variable' : var_name2, 'Value': var_value2})\n",
    "\n",
    "# Display\n",
    "table2.style"
   ]
  },
  {
   "cell_type": "markdown",
   "metadata": {},
   "source": [
    "### Table 3: Processed statistics"
   ]
  },
  {
   "cell_type": "code",
   "execution_count": null,
   "metadata": {},
   "outputs": [],
   "source": [
    "var_name3 = [r'Number of connections',\n",
    "             r'Total number of connections',\n",
    "             r'Mean active connectivity weight',\n",
    "             r'Maximum objective',\n",
    "             r'Rate of injury $\\beta$',\n",
    "             r'Injury index',\n",
    "             r'Injury time']\n",
    "var_value3 = [np.count_nonzero(W != 0.0), W.size, np.mean(W[W != 0]), np.max(gradObj), beta, injIndex, injTime*numIters]\n",
    "table3 = pd.DataFrame({'Stat' : var_name3, 'Value': var_value3})\n",
    "\n",
    "# Display\n",
    "table3.style"
   ]
  },
  {
   "cell_type": "markdown",
   "metadata": {},
   "source": [
    "### Set up arrays to plot"
   ]
  },
  {
   "cell_type": "code",
   "execution_count": 8,
   "metadata": {},
   "outputs": [],
   "source": [
    "# Sample sizes\n",
    "numTauInj = min(100, int(injIndex * N**2))\n",
    "numTauNonInj = min(100, int((1-injIndex) * N**2))\n",
    "\n",
    "# Sample indices to be plotted\n",
    "injInds = np.where((isInj == 1) * (W != 0))\n",
    "nonInjInds = np.where((isInj == 0) * (W != 0))\n",
    "\n",
    "injSample = np.random.choice(injInds[0].size, numTauInj)\n",
    "nonInjSample = np.random.choice(nonInjInds[0].size, numTauNonInj)\n",
    "\n",
    "injInds_i = injInds[0][injSample]\n",
    "injInds_j = injInds[1][injSample]\n",
    "nonInjInds_i = nonInjInds[0][nonInjSample]\n",
    "nonInjInds_j = nonInjInds[1][nonInjSample]"
   ]
  },
  {
   "cell_type": "markdown",
   "metadata": {},
   "source": []
  },
  {
   "cell_type": "markdown",
   "metadata": {},
   "source": [
    "### Statistics"
   ]
  },
  {
   "cell_type": "code",
   "execution_count": 13,
   "metadata": {},
   "outputs": [
    {
     "name": "stdout",
     "output_type": "stream",
     "text": [
      "Number of active connections: 3726 out of 4624\n"
     ]
    }
   ],
   "source": [
    "num_conns = np.count_nonzero(W != 0.0)\n",
    "print(f'Number of active connections: {num_conns} out of {W.size}')"
   ]
  },
  {
   "cell_type": "code",
   "execution_count": 14,
   "metadata": {},
   "outputs": [
    {
     "data": {
      "text/plain": [
       "(0.0035603749100393055, 0.03925114746600026, 0.4729467021539464)"
      ]
     },
     "execution_count": 14,
     "metadata": {},
     "output_type": "execute_result"
    }
   ],
   "source": [
    "np.max(gradObj), np.mean(W), np.mean(gamma)"
   ]
  },
  {
   "cell_type": "code",
   "execution_count": 15,
   "metadata": {},
   "outputs": [
    {
     "data": {
      "text/plain": [
       "(0.04871103217466055, 0.03925114746600026)"
      ]
     },
     "execution_count": 15,
     "metadata": {},
     "output_type": "execute_result"
    }
   ],
   "source": [
    "s = np.linalg.norm(W)\n",
    "t = np.max(W)\n",
    "s, t\n",
    "np.mean(W[W != 0]), np.mean(W) # Show statistics regarding mean connections + coincidence in the paper as a table.\n",
    "# Non-negative connections? Number of connections?"
   ]
  }
 ],
 "metadata": {
  "kernelspec": {
   "display_name": "Python 3",
   "language": "python",
   "name": "python3"
  },
  "language_info": {
   "codemirror_mode": {
    "name": "ipython",
    "version": 3
   },
   "file_extension": ".py",
   "mimetype": "text/x-python",
   "name": "python",
   "nbconvert_exporter": "python",
   "pygments_lexer": "ipython3",
   "version": "3.6.5"
  }
 },
 "nbformat": 4,
 "nbformat_minor": 2
}
