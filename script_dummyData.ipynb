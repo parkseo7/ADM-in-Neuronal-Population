{
 "cells": [
  {
   "cell_type": "markdown",
   "metadata": {},
   "source": [
    "# About\n",
    "\n",
    "Implement a machine learning algorithm with gradient descent on a neuronal population model with delays, in order to find an optimal matrix of delay distribution such that the objective function $L(r)$ is maximized."
   ]
  },
  {
   "cell_type": "code",
   "execution_count": 1,
   "metadata": {},
   "outputs": [],
   "source": [
    "from __future__ import division, print_function\n",
    "\n",
    "%matplotlib inline\n",
    "# Toggle on/off\n",
    "# %matplotlib notebook\n",
    "\n",
    "import os\n",
    "import numpy as np\n",
    "import scipy.io as sio\n",
    "from scipy import optimize\n",
    "import scipy.integrate as integrate\n",
    "from scipy import stats\n",
    "from scipy.spatial import distance\n",
    "import matplotlib.cm as cm\n",
    "import matplotlib.pyplot as plt\n",
    "import matplotlib.transforms as tsfm\n",
    "import matplotlib.colors as clr\n",
    "from tqdm.notebook import tqdm\n",
    "import math\n",
    "from math import pi\n",
    "\n",
    "\n",
    "from lib import *\n",
    "\n",
    "from IPython.display import clear_output"
   ]
  },
  {
   "cell_type": "markdown",
   "metadata": {},
   "source": [
    "# Dummy data"
   ]
  },
  {
   "cell_type": "code",
   "execution_count": 2,
   "metadata": {},
   "outputs": [],
   "source": [
    "# Dummy values\n",
    "N = 30\n",
    "r0 = np.ones(N) # Baseline firing rate\n",
    "\n",
    "# Connectivity matrix (positive normal)\n",
    "normalStd = 1.5\n",
    "W = np.random.normal(0,normalStd,(N,N))\n",
    "W = W*(W >= 0) # If W < 0, equate to zero.\n",
    "\n",
    "# Axonal lengths and initial delays\n",
    "gammashape = 3.0\n",
    "gammarate = 2.0\n",
    "dists = np.random.gamma(gammashape, gammarate, (N,N))\n",
    "vel0 = 3.0 # Initial velocity\n",
    "tau0 = dists / vel0 # Iniitial delays"
   ]
  },
  {
   "cell_type": "markdown",
   "metadata": {},
   "source": [
    "# Import data"
   ]
  },
  {
   "cell_type": "code",
   "execution_count": 3,
   "metadata": {},
   "outputs": [],
   "source": [
    "foldername = os.path.join(os.getcwd(), 'data', 'matrices', 'ICBM')\n",
    "filename_names = os.path.join(foldername, 'freesurfer_regions_68_sort_full.txt')\n",
    "filename_pos = os.path.join(foldername, 'fs_region_centers_68_sort.txt')\n",
    "filename_conn = os.path.join(foldername, 'icbm_fiber_mat.txt')"
   ]
  },
  {
   "cell_type": "code",
   "execution_count": 4,
   "metadata": {},
   "outputs": [],
   "source": [
    "vel0 = 3.0 # Initial velocity\n",
    "\n",
    "W = np.loadtxt(fname = filename_conn)\n",
    "pos = np.loadtxt(fname = filename_pos)\n",
    "\n",
    "dist = distance.cdist(pos,pos,'euclidean')\n",
    "tau0 = dist / vel0\n",
    "\n",
    "N = W.shape[0]\n",
    "r0 = np.ones(N) # Baseline firing rate\n",
    "\n",
    "W = W / np.max(W)"
   ]
  },
  {
   "cell_type": "markdown",
   "metadata": {},
   "source": [
    "# Parameters "
   ]
  },
  {
   "cell_type": "code",
   "execution_count": 5,
   "metadata": {},
   "outputs": [
    {
     "data": {
      "text/plain": [
       "array([[1.10573792e-03, 2.91221013e-01, 4.30656736e-01, ...,\n",
       "        4.66358081e-02, 8.75436138e-02, 9.00536175e-02],\n",
       "       [1.74294173e-01, 1.66257207e-03, 2.23348134e-01, ...,\n",
       "        4.26559462e-01, 4.39339676e-01, 4.40480172e-01],\n",
       "       [5.40431106e-01, 1.99257664e-01, 1.80953084e-03, ...,\n",
       "        1.05769760e-01, 1.81982419e-01, 3.22334127e-01],\n",
       "       ...,\n",
       "       [4.10084377e-02, 3.49845245e-01, 9.84894514e-02, ...,\n",
       "        9.87889383e-05, 1.68006971e-01, 3.79631662e-02],\n",
       "       [6.85870348e-02, 5.42852675e-01, 1.40036640e-01, ...,\n",
       "        6.15447020e-01, 3.54868937e-02, 2.25669007e-01],\n",
       "       [2.10569932e-02, 2.45832850e-01, 1.51775895e-01, ...,\n",
       "        4.69920267e-02, 7.22427235e-03, 5.31834900e-05]])"
      ]
     },
     "execution_count": 5,
     "metadata": {},
     "output_type": "execute_result"
    }
   ],
   "source": [
    "kappa = 0.0005\n",
    "# Test if initial gamma is correct (compare with MATLAB)\n",
    "gamma0 = FunLib.coincidenceFactor(kappa, W, tau0)\n",
    "gamma0"
   ]
  },
  {
   "cell_type": "markdown",
   "metadata": {},
   "source": [
    "# Employ learning model"
   ]
  },
  {
   "cell_type": "code",
   "execution_count": 9,
   "metadata": {},
   "outputs": [
    {
     "data": {
      "application/vnd.jupyter.widget-view+json": {
       "model_id": "3296dc3d2abf4c3987bff5b24e6aff2d",
       "version_major": 2,
       "version_minor": 0
      },
      "text/plain": [
       "  0%|          | 0/3000 [00:00<?, ?it/s]"
      ]
     },
     "metadata": {},
     "output_type": "display_data"
    }
   ],
   "source": [
    "# Learning parameters\n",
    "eta = 200\n",
    "numIters = 3000\n",
    "time = range(numIters)\n",
    "\n",
    "r_i = r0\n",
    "tau = tau0\n",
    "objective = np.zeros(numIters)\n",
    "\n",
    "for i in tqdm(time):\n",
    "    \n",
    "    # Determine the equilibrium solution using current delays\n",
    "    gamma = FunLib.coincidenceFactor(kappa, W, tau)\n",
    "    T = np.linalg.inv(np.identity(N) - W*gamma/N)\n",
    "    r_i = np.matmul(T,r0)\n",
    "    \n",
    "    # Store objective\n",
    "    objective[i] = FunLib.objectiveFun(r_i)\n",
    "    \n",
    "    # Modify delays\n",
    "    tau = tau - eta*kappa*r_i[:,np.newaxis]*r_i*W*gamma*FunLib.sumDiffs(W, tau)/N"
   ]
  },
  {
   "cell_type": "markdown",
   "metadata": {},
   "source": [
    "# Figures"
   ]
  },
  {
   "cell_type": "code",
   "execution_count": null,
   "metadata": {},
   "outputs": [],
   "source": [
    "fig, ax = plt.subplots(1, figsize=(12,4), dpi=80)\n",
    "iters = np.arange(1,numIters+1)\n",
    "ax.plot(iters, objective)"
   ]
  },
  {
   "cell_type": "code",
   "execution_count": null,
   "metadata": {},
   "outputs": [],
   "source": [
    "# Positions [left, bottom, width, height] \n",
    "bbox0 = [0.05, 0.1, 0.35, 0.80]\n",
    "bbox1 = [0.43, 0.1, 0.03, 0.80]\n",
    "bbox2 = [0.55, 0.1, 0.35, 0.80]\n",
    "bbox3 = [0.93, 0.1, 0.03, 0.80]\n",
    "\n",
    "fig, ax = plt.subplots(4, figsize=(14,6), dpi=80)\n",
    "\n",
    "ax[0].set_position(bbox0)\n",
    "ax[1].set_position(bbox1)\n",
    "ax[2].set_position(bbox2)\n",
    "ax[3].set_position(bbox3)\n",
    "\n",
    "cs1 = ax[0].imshow(W, cmap='Blues')\n",
    "cs2 = ax[2].imshow(tau0, cmap='Reds')\n",
    "\n",
    "# Colour bars\n",
    "ticks1 = np.arange(0, np.max(W), 0.5) # Connectivity strength\n",
    "ticks2 = np.arange(0, np.max(tau0), 0.5) # Delays\n",
    "\n",
    "fig.colorbar(cs1, cax=ax[1], ticks=ticks1)\n",
    "fig.colorbar(cs2, cax=ax[3], ticks=ticks2)"
   ]
  },
  {
   "cell_type": "code",
   "execution_count": null,
   "metadata": {},
   "outputs": [],
   "source": [
    "# Plot the connectivity matrix, axonal lengths, and histogram of velocity/delays before and after."
   ]
  },
  {
   "cell_type": "code",
   "execution_count": null,
   "metadata": {},
   "outputs": [],
   "source": []
  }
 ],
 "metadata": {
  "kernelspec": {
   "display_name": "Python 3",
   "language": "python",
   "name": "python3"
  },
  "language_info": {
   "codemirror_mode": {
    "name": "ipython",
    "version": 3
   },
   "file_extension": ".py",
   "mimetype": "text/x-python",
   "name": "python",
   "nbconvert_exporter": "python",
   "pygments_lexer": "ipython3",
   "version": "3.6.5"
  }
 },
 "nbformat": 4,
 "nbformat_minor": 2
}
