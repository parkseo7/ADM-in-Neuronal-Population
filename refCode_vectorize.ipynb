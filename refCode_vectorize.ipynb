{
 "cells": [
  {
   "cell_type": "markdown",
   "metadata": {},
   "source": [
    "# About\n",
    "\n",
    "Reference document with example code going over how to implement vectorized functions in Numpy"
   ]
  },
  {
   "cell_type": "code",
   "execution_count": 1,
   "metadata": {},
   "outputs": [],
   "source": [
    "from __future__ import division, print_function\n",
    "\n",
    "%matplotlib inline\n",
    "# Toggle on/off\n",
    "# %matplotlib notebook\n",
    "\n",
    "import os\n",
    "import numpy as np\n",
    "import pandas as pd\n",
    "import scipy.io as sio\n",
    "import time"
   ]
  },
  {
   "cell_type": "markdown",
   "metadata": {},
   "source": [
    "# Vectorization\n",
    "\n",
    "To process large data arrays, we should make it our goal to implement functions onto the arrays *as directly as possible*. This is in opposition to trying to apply the function onto each array entry one by one. Overall, try to **avoid loops**."
   ]
  },
  {
   "cell_type": "markdown",
   "metadata": {},
   "source": [
    "## Example 1: Boolean arrays\n",
    "\n",
    "As a simple example, suppose we have a random matrix **A**, and we want to return an array of the same shape with each entry **true** if $a_{ij} > 0$ and **false** otherwise. For comparison, we will also show how much time it takes to run each process. As you can observe, with large arrays, the looped method takes significantly longer to process."
   ]
  },
  {
   "cell_type": "code",
   "execution_count": 2,
   "metadata": {},
   "outputs": [],
   "source": [
    "N = 2500\n",
    "A = np.random.normal(size=(N,N))"
   ]
  },
  {
   "cell_type": "markdown",
   "metadata": {},
   "source": [
    "### Vectorized method:"
   ]
  },
  {
   "cell_type": "code",
   "execution_count": 3,
   "metadata": {},
   "outputs": [
    {
     "name": "stdout",
     "output_type": "stream",
     "text": [
      "Time taken = 0.003989458084106445\n"
     ]
    }
   ],
   "source": [
    "start = time.time()\n",
    "A_bool1 = (A > 0)\n",
    "end = time.time()\n",
    "print(f'Time taken = {end - start}')"
   ]
  },
  {
   "cell_type": "markdown",
   "metadata": {},
   "source": [
    "### Loop method:"
   ]
  },
  {
   "cell_type": "code",
   "execution_count": 4,
   "metadata": {},
   "outputs": [
    {
     "name": "stdout",
     "output_type": "stream",
     "text": [
      "Time taken = 2.6080269813537598\n"
     ]
    }
   ],
   "source": [
    "start = time.time()\n",
    "A_bool2 = np.ones(A.shape, dtype=bool)\n",
    "for i in range(A.shape[0]):\n",
    "    for j in range(A.shape[1]):\n",
    "        A_bool2[i,j] = (A[i,j] > 0)\n",
    "        \n",
    "end = time.time()\n",
    "print(f'Time taken = {end - start}')"
   ]
  },
  {
   "cell_type": "markdown",
   "metadata": {},
   "source": [
    "### Both methods produce the same Boolean array:"
   ]
  },
  {
   "cell_type": "code",
   "execution_count": 5,
   "metadata": {},
   "outputs": [
    {
     "name": "stdout",
     "output_type": "stream",
     "text": [
      "True\n"
     ]
    }
   ],
   "source": [
    "print(np.array_equal(A_bool1, A_bool2))"
   ]
  },
  {
   "cell_type": "markdown",
   "metadata": {},
   "source": [
    "## Example 2: Multiplying arrays\n",
    "\n",
    "Here, we go over how multiplying arrays work in Numpy. The $*$ operator is *elementwise multiplication*, meaning if $A$ has entries $a_{ij}$ and $B$ has entries $b_{ij}$ and are of the same shape, then $A*B$ will return an array with entries $a_{ij}b_{ij}$.\n",
    "\n",
    "This is different from MATLAB, where the $*$ operator is *matrix multiplication*. That is, $A*B$ will return an array with the $ij$th entry being $\\sum_{k=1}^N a_{ik}b_{kj}$, assuming that the number of columns in $A$ and the number of rows in $B$ are both $N$.\n",
    "\n",
    "In Numpy, if we want to multiply arrays $A$ and $B$ in the matrix sense (as in MATLAB), we use the function `numpy.matmul(A,B)`\n",
    "\n",
    "Implementing array multiplication in the vectorized sense is very obvious, as we show below:"
   ]
  },
  {
   "cell_type": "code",
   "execution_count": 6,
   "metadata": {},
   "outputs": [],
   "source": [
    "M, N = 2500, 1000\n",
    "A = np.random.randint(low=0, high=10, size=(M,N))\n",
    "B = np.random.randint(low=0, high=10, size=(M,N))"
   ]
  },
  {
   "cell_type": "markdown",
   "metadata": {},
   "source": [
    "### Vectorized method:"
   ]
  },
  {
   "cell_type": "code",
   "execution_count": 7,
   "metadata": {},
   "outputs": [
    {
     "name": "stdout",
     "output_type": "stream",
     "text": [
      "Time taken = 0.004018545150756836\n"
     ]
    }
   ],
   "source": [
    "start = time.time()\n",
    "C1 = A * B\n",
    "end = time.time()\n",
    "print(f'Time taken = {end - start}')"
   ]
  },
  {
   "cell_type": "markdown",
   "metadata": {},
   "source": [
    "### Looped method:"
   ]
  },
  {
   "cell_type": "code",
   "execution_count": 8,
   "metadata": {},
   "outputs": [
    {
     "name": "stdout",
     "output_type": "stream",
     "text": [
      "Time taken = 1.1000587940216064\n"
     ]
    }
   ],
   "source": [
    "start = time.time()\n",
    "C2 = np.zeros(A.shape)\n",
    "for i in range(C2.shape[0]):\n",
    "    for j in range(C2.shape[1]):\n",
    "        C2[i,j] = A[i,j] * B[i,j]\n",
    "end = time.time()\n",
    "print(f'Time taken = {end - start}')"
   ]
  },
  {
   "cell_type": "markdown",
   "metadata": {},
   "source": [
    "### Both methods produce the same product array:"
   ]
  },
  {
   "cell_type": "code",
   "execution_count": 9,
   "metadata": {},
   "outputs": [
    {
     "name": "stdout",
     "output_type": "stream",
     "text": [
      "True\n"
     ]
    }
   ],
   "source": [
    "print(np.array_equal(C1, C2))"
   ]
  },
  {
   "cell_type": "markdown",
   "metadata": {},
   "source": [
    "## Example 3: Take all differences of a vector\n",
    "\n",
    "Suppose we have a vector $\\vec{v}$ and we want to compute a square matrix $M$ with entries $M_{ij} = v_j - v_i$. We can use a simple trick to take differences in an efficient manner."
   ]
  },
  {
   "cell_type": "code",
   "execution_count": 10,
   "metadata": {},
   "outputs": [],
   "source": [
    "N = 60\n",
    "vecV = np.random.randint(low=1, high=10, size=(N,))"
   ]
  },
  {
   "cell_type": "markdown",
   "metadata": {},
   "source": [
    "### Vectorized method:"
   ]
  },
  {
   "cell_type": "code",
   "execution_count": 11,
   "metadata": {},
   "outputs": [
    {
     "name": "stdout",
     "output_type": "stream",
     "text": [
      "Time taken = 0.0\n"
     ]
    }
   ],
   "source": [
    "start = time.time()\n",
    "M1 = vecV[:,np.newaxis] - vecV\n",
    "end = time.time()\n",
    "print(f'Time taken = {end - start}')"
   ]
  },
  {
   "cell_type": "markdown",
   "metadata": {},
   "source": [
    "### Looped method:"
   ]
  },
  {
   "cell_type": "code",
   "execution_count": 12,
   "metadata": {},
   "outputs": [
    {
     "name": "stdout",
     "output_type": "stream",
     "text": [
      "Time taken = 0.0009920597076416016\n"
     ]
    }
   ],
   "source": [
    "start = time.time()\n",
    "M2 = np.zeros((N,N))\n",
    "for i in range(N):\n",
    "    for j in range(N):\n",
    "        M2[i,j] = vecV[j] - vecV[i]\n",
    "end = time.time()\n",
    "print(f'Time taken = {end - start}')"
   ]
  },
  {
   "cell_type": "markdown",
   "metadata": {},
   "source": [
    "### Both methods produce the same matrix:"
   ]
  },
  {
   "cell_type": "code",
   "execution_count": 13,
   "metadata": {},
   "outputs": [
    {
     "name": "stdout",
     "output_type": "stream",
     "text": [
      "False\n"
     ]
    }
   ],
   "source": [
    "print(np.array_equal(M1,M2))"
   ]
  },
  {
   "cell_type": "markdown",
   "metadata": {},
   "source": [
    "# Useful functions\n",
    "\n",
    "Here, we list some useful functions in Numpy that can be applied to array processing in a vectorized manner."
   ]
  },
  {
   "cell_type": "markdown",
   "metadata": {},
   "source": [
    "## Reshape arrays\n",
    "\n",
    "The function `numpy.reshape(A, size)` returns a copy of array `A` with an altered shape `size`. If `size` is set to `-1`, then a 1-dimensional array of `A` is returned."
   ]
  },
  {
   "cell_type": "code",
   "execution_count": 14,
   "metadata": {},
   "outputs": [
    {
     "name": "stdout",
     "output_type": "stream",
     "text": [
      "Number of dimensions of a_vec: 1\n"
     ]
    }
   ],
   "source": [
    "A = np.random.random(size=(2,4))\n",
    "a_vec = np.reshape(A, -1)\n",
    "print(f'Number of dimensions of a_vec: {a_vec.ndim}')"
   ]
  },
  {
   "cell_type": "markdown",
   "metadata": {},
   "source": [
    "## Transposing arrays\n",
    "\n",
    "Given an array `A`, taking `A.T` gives the transpose of `A`. However, this will not work if `A` is a 1-dimensional array. In that case, we can write `A[:,numpy.newaxis]` to obtain a 2-dimensional column array of `A`."
   ]
  },
  {
   "cell_type": "code",
   "execution_count": 15,
   "metadata": {},
   "outputs": [
    {
     "name": "stdout",
     "output_type": "stream",
     "text": [
      "(rows, columns) of a_trans: (10, 1)\n"
     ]
    }
   ],
   "source": [
    "A = np.random.random(size=(10,))\n",
    "a_trans = A[:,np.newaxis]\n",
    "print(f'(rows, columns) of a_trans: {a_trans.shape}')"
   ]
  },
  {
   "cell_type": "code",
   "execution_count": null,
   "metadata": {},
   "outputs": [],
   "source": []
  },
  {
   "cell_type": "markdown",
   "metadata": {},
   "source": [
    "# TEST"
   ]
  },
  {
   "cell_type": "code",
   "execution_count": 28,
   "metadata": {},
   "outputs": [],
   "source": [
    "w = np.random.randint(low=1,high=5,size=(5,))\n",
    "X = w * np.ones((5,5))\n",
    "# Y = np.zeros((5,))\n",
    "# np.fill_diagonal(X, Y)]"
   ]
  },
  {
   "cell_type": "code",
   "execution_count": 27,
   "metadata": {},
   "outputs": [
    {
     "name": "stdout",
     "output_type": "stream",
     "text": [
      "Time taken = 0.508638858795166\n"
     ]
    },
    {
     "data": {
      "text/plain": [
       "2351.9460830688477"
      ]
     },
     "execution_count": 27,
     "metadata": {},
     "output_type": "execute_result"
    }
   ],
   "source": [
    "N = 68\n",
    "num_trials = N**2\n",
    "start = time.time()\n",
    "for i in range(num_trials):\n",
    "    X = np.random.random(size=(N,N))\n",
    "    v = np.random.random(size=(N,))\n",
    "    sol = np.linalg.solve(X,v)\n",
    "end = time.time()\n",
    "print(f'Time taken = {end - start}')"
   ]
  },
  {
   "cell_type": "code",
   "execution_count": null,
   "metadata": {},
   "outputs": [],
   "source": []
  }
 ],
 "metadata": {
  "kernelspec": {
   "display_name": "Python 3",
   "language": "python",
   "name": "python3"
  },
  "language_info": {
   "codemirror_mode": {
    "name": "ipython",
    "version": 3
   },
   "file_extension": ".py",
   "mimetype": "text/x-python",
   "name": "python",
   "nbconvert_exporter": "python",
   "pygments_lexer": "ipython3",
   "version": "3.6.5"
  }
 },
 "nbformat": 4,
 "nbformat_minor": 2
}
