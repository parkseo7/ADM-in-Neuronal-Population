{
 "cells": [
  {
   "cell_type": "markdown",
   "metadata": {},
   "source": [
    "# About\n",
    "\n",
    "Implement a machine learning algorithm with gradient descent on a neuronal population model with delays, in order to find an optimal matrix of delay distribution such that the objective function $L(r)$ is maximized. This script implements the learning algorithm on a 3-dimensional setting, with equidistant nodes and randomized initial delays / velocities. We check to see if the delays converge to the same value, in order to maximize coincidence."
   ]
  },
  {
   "cell_type": "code",
   "execution_count": 1,
   "metadata": {},
   "outputs": [],
   "source": [
    "from __future__ import division, print_function\n",
    "\n",
    "%matplotlib inline\n",
    "# Toggle on/off\n",
    "# %matplotlib notebook\n",
    "\n",
    "import os\n",
    "import numpy as np\n",
    "import scipy.io as sio\n",
    "from scipy import optimize\n",
    "import scipy.integrate as integrate\n",
    "from scipy import stats\n",
    "from scipy.spatial import distance\n",
    "import matplotlib.cm as cm\n",
    "import matplotlib.pyplot as plt\n",
    "import matplotlib.transforms as tsfm\n",
    "import matplotlib.colors as clr\n",
    "import pandas as pd\n",
    "from tqdm.notebook import tqdm\n",
    "import math\n",
    "from math import pi\n",
    "\n",
    "\n",
    "from lib import *\n",
    "\n",
    "from IPython.display import clear_output"
   ]
  },
  {
   "cell_type": "markdown",
   "metadata": {},
   "source": [
    "# Dummy data"
   ]
  },
  {
   "cell_type": "code",
   "execution_count": 2,
   "metadata": {},
   "outputs": [],
   "source": [
    "# Dummy values\n",
    "N = 8\n",
    "r0 = 0.1*np.ones(N) # Baseline firing rate (in mHz)\n",
    "\n",
    "# Connectivity matrix (positive normal)\n",
    "W = np.random.uniform(low=0, high=1, size=(N,N))\n",
    "uppT_inds = np.triu_indices(N)\n",
    "W[uppT_inds[1], uppT_inds[0]] = W[uppT_inds[0], uppT_inds[1]] # Make W symmetric\n",
    "np.fill_diagonal(W, 0) # No feedback\n",
    "\n",
    "W_norm = FunLib.normalizeW(W)\n",
    "\n",
    "# Axonal lengths and initial delays\n",
    "radius = 110\n",
    "pos = radius * np.exp(2*pi*1j*np.arange(N)/N)\n",
    "pos2D = np.array([[pos[k].real, pos[k].imag] for k in range(pos.shape[0])])\n",
    "dist = distance.cdist(pos2D,pos2D,'euclidean')\n",
    "# dist = dist / 1000 # Convert to meters\n",
    "vel0 = np.random.uniform(low=0.5, high=2.0, size=(N,N)) # Initial velocity\n",
    "tau0 = dist / vel0 # Iniitial delays"
   ]
  },
  {
   "cell_type": "markdown",
   "metadata": {},
   "source": [
    "# Parameters"
   ]
  },
  {
   "cell_type": "code",
   "execution_count": 3,
   "metadata": {},
   "outputs": [],
   "source": [
    "eta = 0.5\n",
    "numIters = 1000\n",
    "kappa = 5**2 # ms delay window"
   ]
  },
  {
   "cell_type": "markdown",
   "metadata": {},
   "source": [
    "# Employ learning model"
   ]
  },
  {
   "cell_type": "code",
   "execution_count": 4,
   "metadata": {},
   "outputs": [
    {
     "data": {
      "application/vnd.jupyter.widget-view+json": {
       "model_id": "d54cef08dab142b4804795e125e1a983",
       "version_major": 2,
       "version_minor": 0
      },
      "text/plain": [
       "  0%|          | 0/1000 [00:00<?, ?it/s]"
      ]
     },
     "metadata": {},
     "output_type": "display_data"
    }
   ],
   "source": [
    "time = range(numIters)\n",
    "\n",
    "# Set up arrays\n",
    "obj_arr = np.zeros(numIters+1)\n",
    "stab_arr = np.zeros(numIters+1)\n",
    "tau_arr = np.zeros((numIters+1, N**2))\n",
    "vel_arr = np.zeros((numIters+1, N**2))\n",
    "grad_arr = np.zeros((numIters, N**2))\n",
    "\n",
    "# Initialize\n",
    "r_i = r0\n",
    "tau = tau0\n",
    "vel = vel0\n",
    "\n",
    "tau_arr[0] = np.reshape(tau0, -1)\n",
    "vel_arr[0] = np.reshape(vel0, -1)\n",
    "obj_arr[0] = FunLib.objectiveFun(r0)\n",
    "\n",
    "# Non-zero connections\n",
    "W_inds = np.where(W != 0)\n",
    "\n",
    "# MAIN LOOP\n",
    "for i in tqdm(time):\n",
    "    \n",
    "    gamma = FunLib.coincidenceFactor(kappa, W_norm, tau)\n",
    "    \n",
    "    # Determine the equilibrium solution using current delays\n",
    "    r_i = np.linalg.solve(np.identity(N) - W*gamma/N, r0)\n",
    "    \n",
    "    # Stability\n",
    "    eigs = np.linalg.eig(W*gamma/N - np.eye(N))\n",
    "    \n",
    "    # Obtain gradient:\n",
    "    gradL = np.zeros((N,N))\n",
    "    for k in range(W_inds[0].size):\n",
    "        ind = (W_inds[0][k], W_inds[1][k])\n",
    "        gradL[ind[0], ind[1]] = FunLib.derivObjectiveTau(W, W_norm, tau, kappa, gamma, r_i, ind)\n",
    "    \n",
    "    # Apply gradient onto velocities:\n",
    "    gradL_vel = gradL * (-dist / vel**2)\n",
    "    vel = vel + eta * gradL_vel * np.linalg.norm(gradL_vel)\n",
    "    tau = dist / vel\n",
    "    \n",
    "    # Store functions\n",
    "    obj_arr[i+1] = FunLib.objectiveFun(r_i)\n",
    "    vel_arr[i+1] = np.reshape(vel, -1)\n",
    "    tau_arr[i+1] = np.reshape(tau, -1)\n",
    "    grad_arr[i] = np.reshape(gradL_vel, -1)\n",
    "    stab_arr[i] = np.max(np.real(eigs[0]))"
   ]
  },
  {
   "cell_type": "markdown",
   "metadata": {},
   "source": [
    "# Figures"
   ]
  },
  {
   "cell_type": "markdown",
   "metadata": {},
   "source": [
    "## Objective over iterations"
   ]
  },
  {
   "cell_type": "code",
   "execution_count": 5,
   "metadata": {},
   "outputs": [
    {
     "data": {
      "text/plain": [
       "(0, 1000)"
      ]
     },
     "execution_count": 5,
     "metadata": {},
     "output_type": "execute_result"
    },
    {
     "data": {
      "image/png": "[encoded data removed]",
      "text/plain": [
       "<Figure size 960x320 with 1 Axes>"
      ]
     },
     "metadata": {},
     "output_type": "display_data"
    }
   ],
   "source": [
    "# Maximal objective:\n",
    "r_iMax = np.linalg.solve(np.identity(N) - W*np.ones(W.shape)/N, r0)\n",
    "objMax = FunLib.objectiveFun(r_iMax)\n",
    "\n",
    "fig, ax = plt.subplots(1, figsize=(12,4), dpi=80)\n",
    "iters = np.arange(numIters+1)\n",
    "ax.plot(iters, obj_arr)\n",
    "ax.axhline(objMax, color='black')\n",
    "ax.set_xlim(left=0, right=numIters)"
   ]
  },
  {
   "cell_type": "markdown",
   "metadata": {},
   "source": [
    "## Delays, velocities over time"
   ]
  },
  {
   "cell_type": "code",
   "execution_count": 6,
   "metadata": {},
   "outputs": [
    {
     "data": {
      "image/png": "[encoded data removed]",
      "text/plain": [
       "<Figure size 1080x720 with 2 Axes>"
      ]
     },
     "metadata": {},
     "output_type": "display_data"
    }
   ],
   "source": [
    "# Options\n",
    "lw1 = 0.8\n",
    "alp1 = 0.5\n",
    "\n",
    "fig, axs = plt.subplots(2, figsize=(15,10))\n",
    "axs[0].plot(iters, tau_arr, linewidth=lw1, alpha=alp1, color='blue')\n",
    "axs[1].plot(iters, vel_arr, linewidth=lw1, alpha=alp1, color='green')\n",
    "\n",
    "for i in range(len(axs)):\n",
    "    axs[i].set_xlim(left=0, right=numIters)"
   ]
  },
  {
   "cell_type": "markdown",
   "metadata": {},
   "source": [
    "## Gradient over time"
   ]
  },
  {
   "cell_type": "code",
   "execution_count": 7,
   "metadata": {},
   "outputs": [
    {
     "data": {
      "text/plain": [
       "<matplotlib.lines.Line2D at 0x286dbce8550>"
      ]
     },
     "execution_count": 7,
     "metadata": {},
     "output_type": "execute_result"
    },
    {
     "data": {
      "image/png": "[encoded data removed]",
      "text/plain": [
       "<Figure size 960x320 with 1 Axes>"
      ]
     },
     "metadata": {},
     "output_type": "display_data"
    }
   ],
   "source": [
    "fig, ax = plt.subplots(1, figsize=(12,4), dpi=80)\n",
    "iters = np.arange(numIters)\n",
    "ax.plot(iters, grad_arr * np.reshape(W != 0, -1), linewidth=lw1, alpha=alp1, color='purple')\n",
    "ax.set_xlim(left=0, right=numIters)\n",
    "ax.axhline(y=0, color='black', linewidth=2.0, zorder=1)"
   ]
  },
  {
   "cell_type": "markdown",
   "metadata": {},
   "source": [
    "## Connections"
   ]
  },
  {
   "cell_type": "code",
   "execution_count": 8,
   "metadata": {},
   "outputs": [
    {
     "data": {
      "text/plain": [
       "<matplotlib.collections.PathCollection at 0x286dbf086a0>"
      ]
     },
     "execution_count": 8,
     "metadata": {},
     "output_type": "execute_result"
    },
    {
     "data": {
      "image/png": "[encoded data removed]",
      "text/plain": [
       "<Figure size 432x288 with 1 Axes>"
      ]
     },
     "metadata": {},
     "output_type": "display_data"
    }
   ],
   "source": [
    "fig, ax = plt.subplots()\n",
    "ax.scatter(pos2D[:,0], pos2D[:,1])"
   ]
  },
  {
   "cell_type": "code",
   "execution_count": 9,
   "metadata": {},
   "outputs": [
    {
     "data": {
      "text/plain": [
       "<matplotlib.colorbar.Colorbar at 0x286dbe67eb8>"
      ]
     },
     "execution_count": 9,
     "metadata": {},
     "output_type": "execute_result"
    },
    {
     "data": {
      "image/png": "[encoded data removed]",
      "text/plain": [
       "<Figure size 1120x480 with 4 Axes>"
      ]
     },
     "metadata": {},
     "output_type": "display_data"
    }
   ],
   "source": [
    "# Positions [left, bottom, width, height] \n",
    "bbox0 = [0.05, 0.1, 0.35, 0.80]\n",
    "bbox1 = [0.43, 0.1, 0.03, 0.80]\n",
    "bbox2 = [0.55, 0.1, 0.35, 0.80]\n",
    "bbox3 = [0.93, 0.1, 0.03, 0.80]\n",
    "\n",
    "fig, ax = plt.subplots(4, figsize=(14,6), dpi=80)\n",
    "\n",
    "ax[0].set_position(bbox0)\n",
    "ax[1].set_position(bbox1)\n",
    "ax[2].set_position(bbox2)\n",
    "ax[3].set_position(bbox3)\n",
    "\n",
    "cs1 = ax[0].imshow(W, cmap='Blues')\n",
    "cs2 = ax[2].imshow(tau0, cmap='Reds')\n",
    "\n",
    "# Colour bars\n",
    "ticks1 = np.arange(0, np.max(W), 0.5) # Connectivity strength\n",
    "ticks2 = np.arange(0, np.max(tau0), 0.5) # Delays\n",
    "\n",
    "fig.colorbar(cs1, cax=ax[1], ticks=ticks1)\n",
    "fig.colorbar(cs2, cax=ax[3], ticks=ticks2)"
   ]
  },
  {
   "cell_type": "markdown",
   "metadata": {},
   "source": [
    "# Statistics"
   ]
  },
  {
   "cell_type": "markdown",
   "metadata": {},
   "source": [
    "## Parameters"
   ]
  },
  {
   "cell_type": "code",
   "execution_count": 10,
   "metadata": {},
   "outputs": [
    {
     "data": {
      "text/html": [
       "<style  type=\"text/css\" >\n",
       "</style>  \n",
       "<table id=\"T_b020ea28_01e1_11ec_ae76_001a7dda7115\" > \n",
       "<thead>    <tr> \n",
       "        <th class=\"blank level0\" ></th> \n",
       "        <th class=\"col_heading level0 col0\" >Variable</th> \n",
       "        <th class=\"col_heading level0 col1\" >Value</th> \n",
       "    </tr></thead> \n",
       "<tbody>    <tr> \n",
       "        <th id=\"T_b020ea28_01e1_11ec_ae76_001a7dda7115level0_row0\" class=\"row_heading level0 row0\" >0</th> \n",
       "        <td id=\"T_b020ea28_01e1_11ec_ae76_001a7dda7115row0_col0\" class=\"data row0 col0\" >N</td> \n",
       "        <td id=\"T_b020ea28_01e1_11ec_ae76_001a7dda7115row0_col1\" class=\"data row0 col1\" >3</td> \n",
       "    </tr>    <tr> \n",
       "        <th id=\"T_b020ea28_01e1_11ec_ae76_001a7dda7115level0_row1\" class=\"row_heading level0 row1\" >1</th> \n",
       "        <td id=\"T_b020ea28_01e1_11ec_ae76_001a7dda7115row1_col0\" class=\"data row1 col0\" >Scaling factor $\\kappa$</td> \n",
       "        <td id=\"T_b020ea28_01e1_11ec_ae76_001a7dda7115row1_col1\" class=\"data row1 col1\" >25</td> \n",
       "    </tr>    <tr> \n",
       "        <th id=\"T_b020ea28_01e1_11ec_ae76_001a7dda7115level0_row2\" class=\"row_heading level0 row2\" >2</th> \n",
       "        <td id=\"T_b020ea28_01e1_11ec_ae76_001a7dda7115row2_col0\" class=\"data row2 col0\" >Myelination rate $\\eta$</td> \n",
       "        <td id=\"T_b020ea28_01e1_11ec_ae76_001a7dda7115row2_col1\" class=\"data row2 col1\" >0.5</td> \n",
       "    </tr>    <tr> \n",
       "        <th id=\"T_b020ea28_01e1_11ec_ae76_001a7dda7115level0_row3\" class=\"row_heading level0 row3\" >3</th> \n",
       "        <td id=\"T_b020ea28_01e1_11ec_ae76_001a7dda7115row3_col0\" class=\"data row3 col0\" >Baseline firing rate $r_i^0$</td> \n",
       "        <td id=\"T_b020ea28_01e1_11ec_ae76_001a7dda7115row3_col1\" class=\"data row3 col1\" >0.1</td> \n",
       "    </tr>    <tr> \n",
       "        <th id=\"T_b020ea28_01e1_11ec_ae76_001a7dda7115level0_row4\" class=\"row_heading level0 row4\" >4</th> \n",
       "        <td id=\"T_b020ea28_01e1_11ec_ae76_001a7dda7115row4_col0\" class=\"data row4 col0\" >Distance $\\ell$</td> \n",
       "        <td id=\"T_b020ea28_01e1_11ec_ae76_001a7dda7115row4_col1\" class=\"data row4 col1\" >0.11</td> \n",
       "    </tr></tbody> \n",
       "</table> "
      ],
      "text/plain": [
       "<pandas.io.formats.style.Styler at 0x286dd9cfcc0>"
      ]
     },
     "execution_count": 10,
     "metadata": {},
     "output_type": "execute_result"
    }
   ],
   "source": [
    "var_name1 = ['N', \n",
    "            r'Scaling factor $\\kappa$', \n",
    "            r'Myelination rate $\\eta$', \n",
    "            r'Baseline firing rate $r_i^0$',\n",
    "            r'Distance $\\ell$'\n",
    "            ]\n",
    "\n",
    "var_value1 = [3, kappa, eta, r0[0], radius/1000]\n",
    "\n",
    "var_name1 = np.array(var_name1)\n",
    "var_value1 = np.array(var_value1)\n",
    "\n",
    "table1 = pd.DataFrame({'Variable' : var_name1, 'Value': var_value1})\n",
    "\n",
    "# Display\n",
    "table1.style"
   ]
  },
  {
   "cell_type": "markdown",
   "metadata": {},
   "source": [
    "## Processed data"
   ]
  },
  {
   "cell_type": "code",
   "execution_count": null,
   "metadata": {},
   "outputs": [],
   "source": []
  },
  {
   "cell_type": "markdown",
   "metadata": {},
   "source": [
    "## Connection weights"
   ]
  },
  {
   "cell_type": "code",
   "execution_count": 11,
   "metadata": {},
   "outputs": [
    {
     "data": {
      "text/html": [
       "<div>\n",
       "<style scoped>\n",
       "    .dataframe tbody tr th:only-of-type {\n",
       "        vertical-align: middle;\n",
       "    }\n",
       "\n",
       "    .dataframe tbody tr th {\n",
       "        vertical-align: top;\n",
       "    }\n",
       "\n",
       "    .dataframe thead th {\n",
       "        text-align: right;\n",
       "    }\n",
       "</style>\n",
       "<table border=\"1\" class=\"dataframe\">\n",
       "  <thead>\n",
       "    <tr style=\"text-align: right;\">\n",
       "      <th></th>\n",
       "      <th>0</th>\n",
       "      <th>1</th>\n",
       "      <th>2</th>\n",
       "      <th>3</th>\n",
       "      <th>4</th>\n",
       "      <th>5</th>\n",
       "      <th>6</th>\n",
       "      <th>7</th>\n",
       "    </tr>\n",
       "  </thead>\n",
       "  <tbody>\n",
       "    <tr>\n",
       "      <th>0</th>\n",
       "      <td>0.000000</td>\n",
       "      <td>0.514227</td>\n",
       "      <td>0.178490</td>\n",
       "      <td>0.135539</td>\n",
       "      <td>0.152663</td>\n",
       "      <td>0.362215</td>\n",
       "      <td>0.602248</td>\n",
       "      <td>0.186305</td>\n",
       "    </tr>\n",
       "    <tr>\n",
       "      <th>1</th>\n",
       "      <td>0.514227</td>\n",
       "      <td>0.000000</td>\n",
       "      <td>0.019018</td>\n",
       "      <td>0.929396</td>\n",
       "      <td>0.960960</td>\n",
       "      <td>0.003409</td>\n",
       "      <td>0.419042</td>\n",
       "      <td>0.342674</td>\n",
       "    </tr>\n",
       "    <tr>\n",
       "      <th>2</th>\n",
       "      <td>0.178490</td>\n",
       "      <td>0.019018</td>\n",
       "      <td>0.000000</td>\n",
       "      <td>0.067322</td>\n",
       "      <td>0.432055</td>\n",
       "      <td>0.683419</td>\n",
       "      <td>0.283352</td>\n",
       "      <td>0.600845</td>\n",
       "    </tr>\n",
       "    <tr>\n",
       "      <th>3</th>\n",
       "      <td>0.135539</td>\n",
       "      <td>0.929396</td>\n",
       "      <td>0.067322</td>\n",
       "      <td>0.000000</td>\n",
       "      <td>0.656583</td>\n",
       "      <td>0.166897</td>\n",
       "      <td>0.969933</td>\n",
       "      <td>0.611743</td>\n",
       "    </tr>\n",
       "    <tr>\n",
       "      <th>4</th>\n",
       "      <td>0.152663</td>\n",
       "      <td>0.960960</td>\n",
       "      <td>0.432055</td>\n",
       "      <td>0.656583</td>\n",
       "      <td>0.000000</td>\n",
       "      <td>0.638676</td>\n",
       "      <td>0.685645</td>\n",
       "      <td>0.093861</td>\n",
       "    </tr>\n",
       "    <tr>\n",
       "      <th>5</th>\n",
       "      <td>0.362215</td>\n",
       "      <td>0.003409</td>\n",
       "      <td>0.683419</td>\n",
       "      <td>0.166897</td>\n",
       "      <td>0.638676</td>\n",
       "      <td>0.000000</td>\n",
       "      <td>0.745906</td>\n",
       "      <td>0.279374</td>\n",
       "    </tr>\n",
       "    <tr>\n",
       "      <th>6</th>\n",
       "      <td>0.602248</td>\n",
       "      <td>0.419042</td>\n",
       "      <td>0.283352</td>\n",
       "      <td>0.969933</td>\n",
       "      <td>0.685645</td>\n",
       "      <td>0.745906</td>\n",
       "      <td>0.000000</td>\n",
       "      <td>0.518691</td>\n",
       "    </tr>\n",
       "    <tr>\n",
       "      <th>7</th>\n",
       "      <td>0.186305</td>\n",
       "      <td>0.342674</td>\n",
       "      <td>0.600845</td>\n",
       "      <td>0.611743</td>\n",
       "      <td>0.093861</td>\n",
       "      <td>0.279374</td>\n",
       "      <td>0.518691</td>\n",
       "      <td>0.000000</td>\n",
       "    </tr>\n",
       "  </tbody>\n",
       "</table>\n",
       "</div>"
      ],
      "text/plain": [
       "          0         1         2         3         4         5         6  \\\n",
       "0  0.000000  0.514227  0.178490  0.135539  0.152663  0.362215  0.602248   \n",
       "1  0.514227  0.000000  0.019018  0.929396  0.960960  0.003409  0.419042   \n",
       "2  0.178490  0.019018  0.000000  0.067322  0.432055  0.683419  0.283352   \n",
       "3  0.135539  0.929396  0.067322  0.000000  0.656583  0.166897  0.969933   \n",
       "4  0.152663  0.960960  0.432055  0.656583  0.000000  0.638676  0.685645   \n",
       "5  0.362215  0.003409  0.683419  0.166897  0.638676  0.000000  0.745906   \n",
       "6  0.602248  0.419042  0.283352  0.969933  0.685645  0.745906  0.000000   \n",
       "7  0.186305  0.342674  0.600845  0.611743  0.093861  0.279374  0.518691   \n",
       "\n",
       "          7  \n",
       "0  0.186305  \n",
       "1  0.342674  \n",
       "2  0.600845  \n",
       "3  0.611743  \n",
       "4  0.093861  \n",
       "5  0.279374  \n",
       "6  0.518691  \n",
       "7  0.000000  "
      ]
     },
     "execution_count": 11,
     "metadata": {},
     "output_type": "execute_result"
    }
   ],
   "source": [
    "pd.DataFrame(W,dtype='float64')"
   ]
  },
  {
   "cell_type": "markdown",
   "metadata": {},
   "source": [
    "## Initial delays"
   ]
  },
  {
   "cell_type": "code",
   "execution_count": 12,
   "metadata": {},
   "outputs": [
    {
     "data": {
      "text/html": [
       "<div>\n",
       "<style scoped>\n",
       "    .dataframe tbody tr th:only-of-type {\n",
       "        vertical-align: middle;\n",
       "    }\n",
       "\n",
       "    .dataframe tbody tr th {\n",
       "        vertical-align: top;\n",
       "    }\n",
       "\n",
       "    .dataframe thead th {\n",
       "        text-align: right;\n",
       "    }\n",
       "</style>\n",
       "<table border=\"1\" class=\"dataframe\">\n",
       "  <thead>\n",
       "    <tr style=\"text-align: right;\">\n",
       "      <th></th>\n",
       "      <th>0</th>\n",
       "      <th>1</th>\n",
       "      <th>2</th>\n",
       "      <th>3</th>\n",
       "      <th>4</th>\n",
       "      <th>5</th>\n",
       "      <th>6</th>\n",
       "      <th>7</th>\n",
       "    </tr>\n",
       "  </thead>\n",
       "  <tbody>\n",
       "    <tr>\n",
       "      <th>0</th>\n",
       "      <td>0.000000</td>\n",
       "      <td>116.564363</td>\n",
       "      <td>234.818415</td>\n",
       "      <td>256.006473</td>\n",
       "      <td>123.451126</td>\n",
       "      <td>247.529368</td>\n",
       "      <td>241.556576</td>\n",
       "      <td>68.228403</td>\n",
       "    </tr>\n",
       "    <tr>\n",
       "      <th>1</th>\n",
       "      <td>69.114460</td>\n",
       "      <td>0.000000</td>\n",
       "      <td>115.155954</td>\n",
       "      <td>287.704580</td>\n",
       "      <td>172.835012</td>\n",
       "      <td>272.870845</td>\n",
       "      <td>181.685657</td>\n",
       "      <td>138.667174</td>\n",
       "    </tr>\n",
       "    <tr>\n",
       "      <th>2</th>\n",
       "      <td>82.400981</td>\n",
       "      <td>45.658847</td>\n",
       "      <td>0.000000</td>\n",
       "      <td>46.234755</td>\n",
       "      <td>224.506416</td>\n",
       "      <td>193.847866</td>\n",
       "      <td>195.637510</td>\n",
       "      <td>363.605391</td>\n",
       "    </tr>\n",
       "    <tr>\n",
       "      <th>3</th>\n",
       "      <td>140.984132</td>\n",
       "      <td>114.733690</td>\n",
       "      <td>42.239705</td>\n",
       "      <td>0.000000</td>\n",
       "      <td>51.207219</td>\n",
       "      <td>78.301786</td>\n",
       "      <td>130.165995</td>\n",
       "      <td>226.098117</td>\n",
       "    </tr>\n",
       "    <tr>\n",
       "      <th>4</th>\n",
       "      <td>262.806932</td>\n",
       "      <td>146.938885</td>\n",
       "      <td>82.338463</td>\n",
       "      <td>93.069334</td>\n",
       "      <td>0.000000</td>\n",
       "      <td>81.755573</td>\n",
       "      <td>82.904919</td>\n",
       "      <td>196.848915</td>\n",
       "    </tr>\n",
       "    <tr>\n",
       "      <th>5</th>\n",
       "      <td>165.111439</td>\n",
       "      <td>220.826736</td>\n",
       "      <td>270.456003</td>\n",
       "      <td>116.477743</td>\n",
       "      <td>103.685365</td>\n",
       "      <td>0.000000</td>\n",
       "      <td>68.812936</td>\n",
       "      <td>82.694396</td>\n",
       "    </tr>\n",
       "    <tr>\n",
       "      <th>6</th>\n",
       "      <td>185.863406</td>\n",
       "      <td>178.620641</td>\n",
       "      <td>171.455449</td>\n",
       "      <td>119.291475</td>\n",
       "      <td>98.240663</td>\n",
       "      <td>82.664315</td>\n",
       "      <td>0.000000</td>\n",
       "      <td>51.845633</td>\n",
       "    </tr>\n",
       "    <tr>\n",
       "      <th>7</th>\n",
       "      <td>42.417546</td>\n",
       "      <td>86.447320</td>\n",
       "      <td>143.946872</td>\n",
       "      <td>139.476512</td>\n",
       "      <td>111.717276</td>\n",
       "      <td>271.354771</td>\n",
       "      <td>149.881450</td>\n",
       "      <td>0.000000</td>\n",
       "    </tr>\n",
       "  </tbody>\n",
       "</table>\n",
       "</div>"
      ],
      "text/plain": [
       "            0           1           2           3           4           5  \\\n",
       "0    0.000000  116.564363  234.818415  256.006473  123.451126  247.529368   \n",
       "1   69.114460    0.000000  115.155954  287.704580  172.835012  272.870845   \n",
       "2   82.400981   45.658847    0.000000   46.234755  224.506416  193.847866   \n",
       "3  140.984132  114.733690   42.239705    0.000000   51.207219   78.301786   \n",
       "4  262.806932  146.938885   82.338463   93.069334    0.000000   81.755573   \n",
       "5  165.111439  220.826736  270.456003  116.477743  103.685365    0.000000   \n",
       "6  185.863406  178.620641  171.455449  119.291475   98.240663   82.664315   \n",
       "7   42.417546   86.447320  143.946872  139.476512  111.717276  271.354771   \n",
       "\n",
       "            6           7  \n",
       "0  241.556576   68.228403  \n",
       "1  181.685657  138.667174  \n",
       "2  195.637510  363.605391  \n",
       "3  130.165995  226.098117  \n",
       "4   82.904919  196.848915  \n",
       "5   68.812936   82.694396  \n",
       "6    0.000000   51.845633  \n",
       "7  149.881450    0.000000  "
      ]
     },
     "execution_count": 12,
     "metadata": {},
     "output_type": "execute_result"
    }
   ],
   "source": [
    "pd.DataFrame(tau0,dtype='float64')"
   ]
  },
  {
   "cell_type": "markdown",
   "metadata": {},
   "source": [
    "## Final delays"
   ]
  },
  {
   "cell_type": "code",
   "execution_count": 13,
   "metadata": {},
   "outputs": [
    {
     "data": {
      "text/html": [
       "<div>\n",
       "<style scoped>\n",
       "    .dataframe tbody tr th:only-of-type {\n",
       "        vertical-align: middle;\n",
       "    }\n",
       "\n",
       "    .dataframe tbody tr th {\n",
       "        vertical-align: top;\n",
       "    }\n",
       "\n",
       "    .dataframe thead th {\n",
       "        text-align: right;\n",
       "    }\n",
       "</style>\n",
       "<table border=\"1\" class=\"dataframe\">\n",
       "  <thead>\n",
       "    <tr style=\"text-align: right;\">\n",
       "      <th></th>\n",
       "      <th>0</th>\n",
       "      <th>1</th>\n",
       "      <th>2</th>\n",
       "      <th>3</th>\n",
       "      <th>4</th>\n",
       "      <th>5</th>\n",
       "      <th>6</th>\n",
       "      <th>7</th>\n",
       "    </tr>\n",
       "  </thead>\n",
       "  <tbody>\n",
       "    <tr>\n",
       "      <th>0</th>\n",
       "      <td>0.000000</td>\n",
       "      <td>122.965117</td>\n",
       "      <td>248.106937</td>\n",
       "      <td>248.106937</td>\n",
       "      <td>122.965166</td>\n",
       "      <td>248.106937</td>\n",
       "      <td>248.106937</td>\n",
       "      <td>68.228403</td>\n",
       "    </tr>\n",
       "    <tr>\n",
       "      <th>1</th>\n",
       "      <td>69.114460</td>\n",
       "      <td>0.000000</td>\n",
       "      <td>115.156560</td>\n",
       "      <td>273.278690</td>\n",
       "      <td>178.888970</td>\n",
       "      <td>273.278690</td>\n",
       "      <td>178.888970</td>\n",
       "      <td>138.666247</td>\n",
       "    </tr>\n",
       "    <tr>\n",
       "      <th>2</th>\n",
       "      <td>82.400981</td>\n",
       "      <td>45.666960</td>\n",
       "      <td>0.000000</td>\n",
       "      <td>46.219507</td>\n",
       "      <td>224.506334</td>\n",
       "      <td>195.195016</td>\n",
       "      <td>195.195016</td>\n",
       "      <td>363.605391</td>\n",
       "    </tr>\n",
       "    <tr>\n",
       "      <th>3</th>\n",
       "      <td>136.121515</td>\n",
       "      <td>115.073396</td>\n",
       "      <td>42.358494</td>\n",
       "      <td>0.000000</td>\n",
       "      <td>50.559054</td>\n",
       "      <td>78.301783</td>\n",
       "      <td>135.650399</td>\n",
       "      <td>226.098117</td>\n",
       "    </tr>\n",
       "    <tr>\n",
       "      <th>4</th>\n",
       "      <td>262.806932</td>\n",
       "      <td>146.938885</td>\n",
       "      <td>83.385911</td>\n",
       "      <td>83.439509</td>\n",
       "      <td>0.000000</td>\n",
       "      <td>83.437473</td>\n",
       "      <td>83.455749</td>\n",
       "      <td>196.848915</td>\n",
       "    </tr>\n",
       "    <tr>\n",
       "      <th>5</th>\n",
       "      <td>165.111439</td>\n",
       "      <td>220.826736</td>\n",
       "      <td>270.456003</td>\n",
       "      <td>114.808471</td>\n",
       "      <td>114.767687</td>\n",
       "      <td>0.000000</td>\n",
       "      <td>69.260866</td>\n",
       "      <td>82.473804</td>\n",
       "    </tr>\n",
       "    <tr>\n",
       "      <th>6</th>\n",
       "      <td>175.589747</td>\n",
       "      <td>175.589779</td>\n",
       "      <td>175.589676</td>\n",
       "      <td>119.280536</td>\n",
       "      <td>97.891734</td>\n",
       "      <td>83.388410</td>\n",
       "      <td>0.000000</td>\n",
       "      <td>51.845633</td>\n",
       "    </tr>\n",
       "    <tr>\n",
       "      <th>7</th>\n",
       "      <td>42.417546</td>\n",
       "      <td>86.447362</td>\n",
       "      <td>142.035711</td>\n",
       "      <td>142.035604</td>\n",
       "      <td>111.717246</td>\n",
       "      <td>271.354771</td>\n",
       "      <td>142.035645</td>\n",
       "      <td>0.000000</td>\n",
       "    </tr>\n",
       "  </tbody>\n",
       "</table>\n",
       "</div>"
      ],
      "text/plain": [
       "            0           1           2           3           4           5  \\\n",
       "0    0.000000  122.965117  248.106937  248.106937  122.965166  248.106937   \n",
       "1   69.114460    0.000000  115.156560  273.278690  178.888970  273.278690   \n",
       "2   82.400981   45.666960    0.000000   46.219507  224.506334  195.195016   \n",
       "3  136.121515  115.073396   42.358494    0.000000   50.559054   78.301783   \n",
       "4  262.806932  146.938885   83.385911   83.439509    0.000000   83.437473   \n",
       "5  165.111439  220.826736  270.456003  114.808471  114.767687    0.000000   \n",
       "6  175.589747  175.589779  175.589676  119.280536   97.891734   83.388410   \n",
       "7   42.417546   86.447362  142.035711  142.035604  111.717246  271.354771   \n",
       "\n",
       "            6           7  \n",
       "0  248.106937   68.228403  \n",
       "1  178.888970  138.666247  \n",
       "2  195.195016  363.605391  \n",
       "3  135.650399  226.098117  \n",
       "4   83.455749  196.848915  \n",
       "5   69.260866   82.473804  \n",
       "6    0.000000   51.845633  \n",
       "7  142.035645    0.000000  "
      ]
     },
     "execution_count": 13,
     "metadata": {},
     "output_type": "execute_result"
    }
   ],
   "source": [
    "pd.DataFrame(tau,dtype='float64')"
   ]
  },
  {
   "cell_type": "markdown",
   "metadata": {},
   "source": [
    "## Final velocities"
   ]
  },
  {
   "cell_type": "code",
   "execution_count": 14,
   "metadata": {},
   "outputs": [
    {
     "data": {
      "text/html": [
       "<div>\n",
       "<style scoped>\n",
       "    .dataframe tbody tr th:only-of-type {\n",
       "        vertical-align: middle;\n",
       "    }\n",
       "\n",
       "    .dataframe tbody tr th {\n",
       "        vertical-align: top;\n",
       "    }\n",
       "\n",
       "    .dataframe thead th {\n",
       "        text-align: right;\n",
       "    }\n",
       "</style>\n",
       "<table border=\"1\" class=\"dataframe\">\n",
       "  <thead>\n",
       "    <tr style=\"text-align: right;\">\n",
       "      <th></th>\n",
       "      <th>0</th>\n",
       "      <th>1</th>\n",
       "      <th>2</th>\n",
       "      <th>3</th>\n",
       "      <th>4</th>\n",
       "      <th>5</th>\n",
       "      <th>6</th>\n",
       "      <th>7</th>\n",
       "    </tr>\n",
       "  </thead>\n",
       "  <tbody>\n",
       "    <tr>\n",
       "      <th>0</th>\n",
       "      <td>1.290958</td>\n",
       "      <td>0.684669</td>\n",
       "      <td>0.627002</td>\n",
       "      <td>0.819217</td>\n",
       "      <td>1.789125</td>\n",
       "      <td>0.819217</td>\n",
       "      <td>0.627002</td>\n",
       "      <td>1.233949</td>\n",
       "    </tr>\n",
       "    <tr>\n",
       "      <th>1</th>\n",
       "      <td>1.218129</td>\n",
       "      <td>0.978409</td>\n",
       "      <td>0.731095</td>\n",
       "      <td>0.569249</td>\n",
       "      <td>1.136199</td>\n",
       "      <td>0.805039</td>\n",
       "      <td>1.136199</td>\n",
       "      <td>1.121855</td>\n",
       "    </tr>\n",
       "    <tr>\n",
       "      <th>2</th>\n",
       "      <td>1.887884</td>\n",
       "      <td>1.843573</td>\n",
       "      <td>1.227026</td>\n",
       "      <td>1.821533</td>\n",
       "      <td>0.692914</td>\n",
       "      <td>1.041284</td>\n",
       "      <td>1.127078</td>\n",
       "      <td>0.558995</td>\n",
       "    </tr>\n",
       "    <tr>\n",
       "      <th>3</th>\n",
       "      <td>1.493177</td>\n",
       "      <td>1.351863</td>\n",
       "      <td>1.987567</td>\n",
       "      <td>0.939354</td>\n",
       "      <td>1.665188</td>\n",
       "      <td>1.986717</td>\n",
       "      <td>1.498363</td>\n",
       "      <td>0.973029</td>\n",
       "    </tr>\n",
       "    <tr>\n",
       "      <th>4</th>\n",
       "      <td>0.837116</td>\n",
       "      <td>1.383252</td>\n",
       "      <td>1.865585</td>\n",
       "      <td>1.008999</td>\n",
       "      <td>1.966966</td>\n",
       "      <td>1.009023</td>\n",
       "      <td>1.864024</td>\n",
       "      <td>1.032536</td>\n",
       "    </tr>\n",
       "    <tr>\n",
       "      <th>5</th>\n",
       "      <td>1.231008</td>\n",
       "      <td>0.996256</td>\n",
       "      <td>0.751521</td>\n",
       "      <td>1.354983</td>\n",
       "      <td>0.733572</td>\n",
       "      <td>1.734804</td>\n",
       "      <td>1.215554</td>\n",
       "      <td>1.886217</td>\n",
       "    </tr>\n",
       "    <tr>\n",
       "      <th>6</th>\n",
       "      <td>0.885949</td>\n",
       "      <td>1.157547</td>\n",
       "      <td>1.252921</td>\n",
       "      <td>1.703996</td>\n",
       "      <td>1.589138</td>\n",
       "      <td>1.009617</td>\n",
       "      <td>1.092024</td>\n",
       "      <td>1.623866</td>\n",
       "    </tr>\n",
       "    <tr>\n",
       "      <th>7</th>\n",
       "      <td>1.984800</td>\n",
       "      <td>1.799517</td>\n",
       "      <td>1.431003</td>\n",
       "      <td>1.548907</td>\n",
       "      <td>1.819356</td>\n",
       "      <td>0.573285</td>\n",
       "      <td>0.592741</td>\n",
       "      <td>1.129086</td>\n",
       "    </tr>\n",
       "  </tbody>\n",
       "</table>\n",
       "</div>"
      ],
      "text/plain": [
       "          0         1         2         3         4         5         6  \\\n",
       "0  1.290958  0.684669  0.627002  0.819217  1.789125  0.819217  0.627002   \n",
       "1  1.218129  0.978409  0.731095  0.569249  1.136199  0.805039  1.136199   \n",
       "2  1.887884  1.843573  1.227026  1.821533  0.692914  1.041284  1.127078   \n",
       "3  1.493177  1.351863  1.987567  0.939354  1.665188  1.986717  1.498363   \n",
       "4  0.837116  1.383252  1.865585  1.008999  1.966966  1.009023  1.864024   \n",
       "5  1.231008  0.996256  0.751521  1.354983  0.733572  1.734804  1.215554   \n",
       "6  0.885949  1.157547  1.252921  1.703996  1.589138  1.009617  1.092024   \n",
       "7  1.984800  1.799517  1.431003  1.548907  1.819356  0.573285  0.592741   \n",
       "\n",
       "          7  \n",
       "0  1.233949  \n",
       "1  1.121855  \n",
       "2  0.558995  \n",
       "3  0.973029  \n",
       "4  1.032536  \n",
       "5  1.886217  \n",
       "6  1.623866  \n",
       "7  1.129086  "
      ]
     },
     "execution_count": 14,
     "metadata": {},
     "output_type": "execute_result"
    }
   ],
   "source": [
    "pd.DataFrame(vel,dtype='float64')"
   ]
  }
 ],
 "metadata": {
  "kernelspec": {
   "display_name": "Python 3",
   "language": "python",
   "name": "python3"
  },
  "language_info": {
   "codemirror_mode": {
    "name": "ipython",
    "version": 3
   },
   "file_extension": ".py",
   "mimetype": "text/x-python",
   "name": "python",
   "nbconvert_exporter": "python",
   "pygments_lexer": "ipython3",
   "version": "3.6.5"
  }
 },
 "nbformat": 4,
 "nbformat_minor": 2
}
