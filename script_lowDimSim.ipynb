{
 "cells": [
  {
   "cell_type": "markdown",
   "metadata": {},
   "source": [
    "# About\n",
    "\n",
    "Implement a machine learning algorithm with gradient descent on a neuronal population model with delays, in order to find an optimal matrix of delay distribution such that the objective function $L(r)$ is maximized. This script implements the learning algorithm on a 3-dimensional setting, with equidistant nodes and randomized initial delays / velocities. We check to see if the delays converge to the same value, in order to maximize coincidence."
   ]
  },
  {
   "cell_type": "code",
   "execution_count": 1,
   "metadata": {},
   "outputs": [],
   "source": [
    "from __future__ import division, print_function\n",
    "\n",
    "%matplotlib inline\n",
    "# Toggle on/off\n",
    "# %matplotlib notebook\n",
    "\n",
    "import os\n",
    "import numpy as np\n",
    "import scipy.io as sio\n",
    "from scipy import optimize\n",
    "import scipy.integrate as integrate\n",
    "from scipy import stats\n",
    "from scipy.spatial import distance\n",
    "import matplotlib.cm as cm\n",
    "import matplotlib.pyplot as plt\n",
    "import matplotlib.transforms as tsfm\n",
    "import matplotlib.colors as clr\n",
    "import pandas as pd\n",
    "from tqdm.notebook import tqdm\n",
    "import math\n",
    "from math import pi\n",
    "\n",
    "\n",
    "from lib import *\n",
    "\n",
    "from IPython.display import clear_output"
   ]
  },
  {
   "cell_type": "markdown",
   "metadata": {},
   "source": [
    "# Dummy data"
   ]
  },
  {
   "cell_type": "code",
   "execution_count": 2,
   "metadata": {},
   "outputs": [],
   "source": [
    "# Dummy values\n",
    "N = 8\n",
    "r0 = 0.1*np.ones(N) # Baseline firing rate (in mHz)\n",
    "\n",
    "# Connectivity matrix (positive normal)\n",
    "W = np.random.uniform(low=0, high=1, size=(N,N))\n",
    "uppT_inds = np.triu_indices(N)\n",
    "W[uppT_inds[1], uppT_inds[0]] = W[uppT_inds[0], uppT_inds[1]] # Make W symmetric\n",
    "np.fill_diagonal(W, 0) # No feedback\n",
    "\n",
    "W_sum = np.sum(W, 0)\n",
    "W_norm = W / W_sum[:,np.newaxis]\n",
    "\n",
    "# Axonal lengths and initial delays\n",
    "radius = 110\n",
    "pos = radius * np.exp(2*pi*1j*np.arange(N)/N)\n",
    "pos2D = np.array([[pos[k].real, pos[k].imag] for k in range(pos.shape[0])])\n",
    "dist = distance.cdist(pos2D,pos2D,'euclidean')\n",
    "# dist = dist / 1000 # Convert to meters\n",
    "vel0 = np.random.uniform(low=0.5, high=2.0, size=(N,N)) # Initial velocity\n",
    "tau0 = dist / vel0 # Iniitial delays"
   ]
  },
  {
   "cell_type": "markdown",
   "metadata": {},
   "source": [
    "# Parameters"
   ]
  },
  {
   "cell_type": "code",
   "execution_count": 3,
   "metadata": {},
   "outputs": [],
   "source": [
    "eta = 2.0\n",
    "numIters = 5000\n",
    "kappa = 5**2 # ms delay window"
   ]
  },
  {
   "cell_type": "markdown",
   "metadata": {},
   "source": [
    "# Employ learning model"
   ]
  },
  {
   "cell_type": "code",
   "execution_count": 4,
   "metadata": {},
   "outputs": [
    {
     "data": {
      "application/vnd.jupyter.widget-view+json": {
       "model_id": "aea9442aa48841069063a4a55aea66a1",
       "version_major": 2,
       "version_minor": 0
      },
      "text/plain": [
       "  0%|          | 0/5000 [00:00<?, ?it/s]"
      ]
     },
     "metadata": {},
     "output_type": "display_data"
    }
   ],
   "source": [
    "time = range(numIters)\n",
    "\n",
    "# Set up arrays\n",
    "obj_arr = np.zeros(numIters+1)\n",
    "stab_arr = np.zeros(numIters+1)\n",
    "tau_arr = np.zeros((numIters+1, N**2))\n",
    "vel_arr = np.zeros((numIters+1, N**2))\n",
    "grad_arr = np.zeros((numIters, N**2))\n",
    "\n",
    "# Initialize\n",
    "r_i = r0\n",
    "tau = tau0\n",
    "vel = vel0\n",
    "\n",
    "tau_arr[0] = np.reshape(tau0, -1)\n",
    "vel_arr[0] = np.reshape(vel0, -1)\n",
    "obj_arr[0] = FunLib.objectiveFun(r0)\n",
    "\n",
    "# Non-zero connections\n",
    "W_inds = np.where(W != 0)\n",
    "\n",
    "# MAIN LOOP\n",
    "for i in tqdm(time):\n",
    "    \n",
    "    gamma = FunLib.coincidenceFactor(kappa, W_norm, tau)\n",
    "    \n",
    "    # Determine the equilibrium solution using current delays\n",
    "    r_i = np.linalg.solve(np.identity(N) - W*gamma/N, r0)\n",
    "    \n",
    "    # Stability\n",
    "    eigs = np.linalg.eig(W*gamma/N - np.eye(N))\n",
    "    \n",
    "    # Obtain gradient:\n",
    "    gradL = np.zeros((N,N))\n",
    "    for k in range(W_inds[0].size):\n",
    "        ind = (W_inds[0][k], W_inds[1][k])\n",
    "        gradL[ind[0], ind[1]] = FunLib.derivObjectiveTau(W, W_norm, tau, kappa, gamma, r_i, ind)\n",
    "    \n",
    "    # Apply gradient onto velocities:\n",
    "    gradL_vel = gradL * (-dist / vel**2)\n",
    "    vel = vel + eta * gradL_vel\n",
    "    tau = dist / vel\n",
    "    \n",
    "    # Store functions\n",
    "    obj_arr[i+1] = FunLib.objectiveFun(r_i)\n",
    "    vel_arr[i+1] = np.reshape(vel, -1)\n",
    "    tau_arr[i+1] = np.reshape(tau, -1)\n",
    "    grad_arr[i] = np.reshape(gradL_vel, -1)\n",
    "    stab_arr[i] = np.max(np.real(eigs[0]))"
   ]
  },
  {
   "cell_type": "markdown",
   "metadata": {},
   "source": [
    "# Figures"
   ]
  },
  {
   "cell_type": "markdown",
   "metadata": {},
   "source": [
    "## Objective over iterations"
   ]
  },
  {
   "cell_type": "code",
   "execution_count": 5,
   "metadata": {},
   "outputs": [
    {
     "data": {
      "text/plain": [
       "(0, 5000)"
      ]
     },
     "execution_count": 5,
     "metadata": {},
     "output_type": "execute_result"
    },
    {
     "data": {
      "image/png": "[encoded data removed]",
      "text/plain": [
       "<Figure size 960x320 with 1 Axes>"
      ]
     },
     "metadata": {},
     "output_type": "display_data"
    }
   ],
   "source": [
    "# Maximal objective:\n",
    "r_iMax = np.linalg.solve(np.identity(N) - W*np.ones(W.shape)/N, r0)\n",
    "objMax = FunLib.objectiveFun(r_iMax)\n",
    "\n",
    "fig, ax = plt.subplots(1, figsize=(12,4), dpi=80)\n",
    "iters = np.arange(numIters+1)\n",
    "ax.plot(iters, obj_arr)\n",
    "ax.axhline(objMax, color='black')\n",
    "ax.set_xlim(left=0, right=numIters)"
   ]
  },
  {
   "cell_type": "markdown",
   "metadata": {},
   "source": [
    "## Delays, velocities over time"
   ]
  },
  {
   "cell_type": "code",
   "execution_count": 6,
   "metadata": {},
   "outputs": [
    {
     "data": {
      "image/png": "[encoded data removed]",
      "text/plain": [
       "<Figure size 1080x720 with 2 Axes>"
      ]
     },
     "metadata": {},
     "output_type": "display_data"
    }
   ],
   "source": [
    "# Options\n",
    "lw1 = 0.8\n",
    "alp1 = 0.5\n",
    "\n",
    "fig, axs = plt.subplots(2, figsize=(15,10))\n",
    "axs[0].plot(iters, tau_arr, linewidth=lw1, alpha=alp1, color='blue')\n",
    "axs[1].plot(iters, vel_arr, linewidth=lw1, alpha=alp1, color='green')\n",
    "\n",
    "for i in range(len(axs)):\n",
    "    axs[i].set_xlim(left=0, right=numIters)"
   ]
  },
  {
   "cell_type": "markdown",
   "metadata": {},
   "source": [
    "## Gradient over time"
   ]
  },
  {
   "cell_type": "code",
   "execution_count": 7,
   "metadata": {},
   "outputs": [
    {
     "data": {
      "text/plain": [
       "<matplotlib.lines.Line2D at 0x2d5743d9b38>"
      ]
     },
     "execution_count": 7,
     "metadata": {},
     "output_type": "execute_result"
    },
    {
     "data": {
      "image/png": "[encoded data removed]",
      "text/plain": [
       "<Figure size 960x320 with 1 Axes>"
      ]
     },
     "metadata": {},
     "output_type": "display_data"
    }
   ],
   "source": [
    "fig, ax = plt.subplots(1, figsize=(12,4), dpi=80)\n",
    "iters = np.arange(numIters)\n",
    "ax.plot(iters, grad_arr * np.reshape(W != 0, -1), linewidth=lw1, alpha=alp1, color='purple')\n",
    "ax.set_xlim(left=0, right=numIters)\n",
    "ax.axhline(y=0, color='black', linewidth=2.0, zorder=1)"
   ]
  },
  {
   "cell_type": "markdown",
   "metadata": {},
   "source": [
    "## Connections"
   ]
  },
  {
   "cell_type": "code",
   "execution_count": 8,
   "metadata": {},
   "outputs": [
    {
     "data": {
      "text/plain": [
       "<matplotlib.collections.PathCollection at 0x2d5759b8e80>"
      ]
     },
     "execution_count": 8,
     "metadata": {},
     "output_type": "execute_result"
    },
    {
     "data": {
      "image/png": "[encoded data removed]",
      "text/plain": [
       "<Figure size 432x288 with 1 Axes>"
      ]
     },
     "metadata": {},
     "output_type": "display_data"
    }
   ],
   "source": [
    "fig, ax = plt.subplots()\n",
    "ax.scatter(pos2D[:,0], pos2D[:,1])"
   ]
  },
  {
   "cell_type": "code",
   "execution_count": 9,
   "metadata": {},
   "outputs": [
    {
     "data": {
      "text/plain": [
       "<matplotlib.colorbar.Colorbar at 0x2d575a9c748>"
      ]
     },
     "execution_count": 9,
     "metadata": {},
     "output_type": "execute_result"
    },
    {
     "data": {
      "image/png": "[encoded data removed]",
      "text/plain": [
       "<Figure size 1120x480 with 4 Axes>"
      ]
     },
     "metadata": {},
     "output_type": "display_data"
    }
   ],
   "source": [
    "# Positions [left, bottom, width, height] \n",
    "bbox0 = [0.05, 0.1, 0.35, 0.80]\n",
    "bbox1 = [0.43, 0.1, 0.03, 0.80]\n",
    "bbox2 = [0.55, 0.1, 0.35, 0.80]\n",
    "bbox3 = [0.93, 0.1, 0.03, 0.80]\n",
    "\n",
    "fig, ax = plt.subplots(4, figsize=(14,6), dpi=80)\n",
    "\n",
    "ax[0].set_position(bbox0)\n",
    "ax[1].set_position(bbox1)\n",
    "ax[2].set_position(bbox2)\n",
    "ax[3].set_position(bbox3)\n",
    "\n",
    "cs1 = ax[0].imshow(W, cmap='Blues')\n",
    "cs2 = ax[2].imshow(tau0, cmap='Reds')\n",
    "\n",
    "# Colour bars\n",
    "ticks1 = np.arange(0, np.max(W), 0.5) # Connectivity strength\n",
    "ticks2 = np.arange(0, np.max(tau0), 0.5) # Delays\n",
    "\n",
    "fig.colorbar(cs1, cax=ax[1], ticks=ticks1)\n",
    "fig.colorbar(cs2, cax=ax[3], ticks=ticks2)"
   ]
  },
  {
   "cell_type": "markdown",
   "metadata": {},
   "source": [
    "# Statistics"
   ]
  },
  {
   "cell_type": "markdown",
   "metadata": {},
   "source": [
    "## Parameters"
   ]
  },
  {
   "cell_type": "code",
   "execution_count": 10,
   "metadata": {},
   "outputs": [
    {
     "data": {
      "text/html": [
       "<style  type=\"text/css\" >\n",
       "</style>  \n",
       "<table id=\"T_bdd95da8_01e0_11ec_97b9_001a7dda7115\" > \n",
       "<thead>    <tr> \n",
       "        <th class=\"blank level0\" ></th> \n",
       "        <th class=\"col_heading level0 col0\" >Variable</th> \n",
       "        <th class=\"col_heading level0 col1\" >Value</th> \n",
       "    </tr></thead> \n",
       "<tbody>    <tr> \n",
       "        <th id=\"T_bdd95da8_01e0_11ec_97b9_001a7dda7115level0_row0\" class=\"row_heading level0 row0\" >0</th> \n",
       "        <td id=\"T_bdd95da8_01e0_11ec_97b9_001a7dda7115row0_col0\" class=\"data row0 col0\" >N</td> \n",
       "        <td id=\"T_bdd95da8_01e0_11ec_97b9_001a7dda7115row0_col1\" class=\"data row0 col1\" >3</td> \n",
       "    </tr>    <tr> \n",
       "        <th id=\"T_bdd95da8_01e0_11ec_97b9_001a7dda7115level0_row1\" class=\"row_heading level0 row1\" >1</th> \n",
       "        <td id=\"T_bdd95da8_01e0_11ec_97b9_001a7dda7115row1_col0\" class=\"data row1 col0\" >Scaling factor $\\kappa$</td> \n",
       "        <td id=\"T_bdd95da8_01e0_11ec_97b9_001a7dda7115row1_col1\" class=\"data row1 col1\" >25</td> \n",
       "    </tr>    <tr> \n",
       "        <th id=\"T_bdd95da8_01e0_11ec_97b9_001a7dda7115level0_row2\" class=\"row_heading level0 row2\" >2</th> \n",
       "        <td id=\"T_bdd95da8_01e0_11ec_97b9_001a7dda7115row2_col0\" class=\"data row2 col0\" >Myelination rate $\\eta$</td> \n",
       "        <td id=\"T_bdd95da8_01e0_11ec_97b9_001a7dda7115row2_col1\" class=\"data row2 col1\" >2</td> \n",
       "    </tr>    <tr> \n",
       "        <th id=\"T_bdd95da8_01e0_11ec_97b9_001a7dda7115level0_row3\" class=\"row_heading level0 row3\" >3</th> \n",
       "        <td id=\"T_bdd95da8_01e0_11ec_97b9_001a7dda7115row3_col0\" class=\"data row3 col0\" >Baseline firing rate $r_i^0$</td> \n",
       "        <td id=\"T_bdd95da8_01e0_11ec_97b9_001a7dda7115row3_col1\" class=\"data row3 col1\" >0.1</td> \n",
       "    </tr>    <tr> \n",
       "        <th id=\"T_bdd95da8_01e0_11ec_97b9_001a7dda7115level0_row4\" class=\"row_heading level0 row4\" >4</th> \n",
       "        <td id=\"T_bdd95da8_01e0_11ec_97b9_001a7dda7115row4_col0\" class=\"data row4 col0\" >Distance $\\ell$</td> \n",
       "        <td id=\"T_bdd95da8_01e0_11ec_97b9_001a7dda7115row4_col1\" class=\"data row4 col1\" >0.11</td> \n",
       "    </tr></tbody> \n",
       "</table> "
      ],
      "text/plain": [
       "<pandas.io.formats.style.Styler at 0x2d5759df940>"
      ]
     },
     "execution_count": 10,
     "metadata": {},
     "output_type": "execute_result"
    }
   ],
   "source": [
    "var_name1 = ['N', \n",
    "            r'Scaling factor $\\kappa$', \n",
    "            r'Myelination rate $\\eta$', \n",
    "            r'Baseline firing rate $r_i^0$',\n",
    "            r'Distance $\\ell$'\n",
    "            ]\n",
    "\n",
    "var_value1 = [3, kappa, eta, r0[0], radius/1000]\n",
    "\n",
    "var_name1 = np.array(var_name1)\n",
    "var_value1 = np.array(var_value1)\n",
    "\n",
    "table1 = pd.DataFrame({'Variable' : var_name1, 'Value': var_value1})\n",
    "\n",
    "# Display\n",
    "table1.style"
   ]
  },
  {
   "cell_type": "markdown",
   "metadata": {},
   "source": [
    "## Processed data"
   ]
  },
  {
   "cell_type": "code",
   "execution_count": null,
   "metadata": {},
   "outputs": [],
   "source": []
  },
  {
   "cell_type": "markdown",
   "metadata": {},
   "source": [
    "## Connection weights"
   ]
  },
  {
   "cell_type": "code",
   "execution_count": 11,
   "metadata": {},
   "outputs": [
    {
     "data": {
      "text/html": [
       "<div>\n",
       "<style scoped>\n",
       "    .dataframe tbody tr th:only-of-type {\n",
       "        vertical-align: middle;\n",
       "    }\n",
       "\n",
       "    .dataframe tbody tr th {\n",
       "        vertical-align: top;\n",
       "    }\n",
       "\n",
       "    .dataframe thead th {\n",
       "        text-align: right;\n",
       "    }\n",
       "</style>\n",
       "<table border=\"1\" class=\"dataframe\">\n",
       "  <thead>\n",
       "    <tr style=\"text-align: right;\">\n",
       "      <th></th>\n",
       "      <th>0</th>\n",
       "      <th>1</th>\n",
       "      <th>2</th>\n",
       "      <th>3</th>\n",
       "      <th>4</th>\n",
       "      <th>5</th>\n",
       "      <th>6</th>\n",
       "      <th>7</th>\n",
       "    </tr>\n",
       "  </thead>\n",
       "  <tbody>\n",
       "    <tr>\n",
       "      <th>0</th>\n",
       "      <td>0.000000</td>\n",
       "      <td>0.903987</td>\n",
       "      <td>0.272744</td>\n",
       "      <td>0.953082</td>\n",
       "      <td>0.543429</td>\n",
       "      <td>0.149374</td>\n",
       "      <td>0.037465</td>\n",
       "      <td>0.983612</td>\n",
       "    </tr>\n",
       "    <tr>\n",
       "      <th>1</th>\n",
       "      <td>0.903987</td>\n",
       "      <td>0.000000</td>\n",
       "      <td>0.741470</td>\n",
       "      <td>0.877470</td>\n",
       "      <td>0.253362</td>\n",
       "      <td>0.177384</td>\n",
       "      <td>0.003359</td>\n",
       "      <td>0.980989</td>\n",
       "    </tr>\n",
       "    <tr>\n",
       "      <th>2</th>\n",
       "      <td>0.272744</td>\n",
       "      <td>0.741470</td>\n",
       "      <td>0.000000</td>\n",
       "      <td>0.129978</td>\n",
       "      <td>0.901092</td>\n",
       "      <td>0.995335</td>\n",
       "      <td>0.455397</td>\n",
       "      <td>0.234509</td>\n",
       "    </tr>\n",
       "    <tr>\n",
       "      <th>3</th>\n",
       "      <td>0.953082</td>\n",
       "      <td>0.877470</td>\n",
       "      <td>0.129978</td>\n",
       "      <td>0.000000</td>\n",
       "      <td>0.202092</td>\n",
       "      <td>0.647615</td>\n",
       "      <td>0.762460</td>\n",
       "      <td>0.045011</td>\n",
       "    </tr>\n",
       "    <tr>\n",
       "      <th>4</th>\n",
       "      <td>0.543429</td>\n",
       "      <td>0.253362</td>\n",
       "      <td>0.901092</td>\n",
       "      <td>0.202092</td>\n",
       "      <td>0.000000</td>\n",
       "      <td>0.175146</td>\n",
       "      <td>0.654574</td>\n",
       "      <td>0.106279</td>\n",
       "    </tr>\n",
       "    <tr>\n",
       "      <th>5</th>\n",
       "      <td>0.149374</td>\n",
       "      <td>0.177384</td>\n",
       "      <td>0.995335</td>\n",
       "      <td>0.647615</td>\n",
       "      <td>0.175146</td>\n",
       "      <td>0.000000</td>\n",
       "      <td>0.010915</td>\n",
       "      <td>0.947741</td>\n",
       "    </tr>\n",
       "    <tr>\n",
       "      <th>6</th>\n",
       "      <td>0.037465</td>\n",
       "      <td>0.003359</td>\n",
       "      <td>0.455397</td>\n",
       "      <td>0.762460</td>\n",
       "      <td>0.654574</td>\n",
       "      <td>0.010915</td>\n",
       "      <td>0.000000</td>\n",
       "      <td>0.200889</td>\n",
       "    </tr>\n",
       "    <tr>\n",
       "      <th>7</th>\n",
       "      <td>0.983612</td>\n",
       "      <td>0.980989</td>\n",
       "      <td>0.234509</td>\n",
       "      <td>0.045011</td>\n",
       "      <td>0.106279</td>\n",
       "      <td>0.947741</td>\n",
       "      <td>0.200889</td>\n",
       "      <td>0.000000</td>\n",
       "    </tr>\n",
       "  </tbody>\n",
       "</table>\n",
       "</div>"
      ],
      "text/plain": [
       "          0         1         2         3         4         5         6  \\\n",
       "0  0.000000  0.903987  0.272744  0.953082  0.543429  0.149374  0.037465   \n",
       "1  0.903987  0.000000  0.741470  0.877470  0.253362  0.177384  0.003359   \n",
       "2  0.272744  0.741470  0.000000  0.129978  0.901092  0.995335  0.455397   \n",
       "3  0.953082  0.877470  0.129978  0.000000  0.202092  0.647615  0.762460   \n",
       "4  0.543429  0.253362  0.901092  0.202092  0.000000  0.175146  0.654574   \n",
       "5  0.149374  0.177384  0.995335  0.647615  0.175146  0.000000  0.010915   \n",
       "6  0.037465  0.003359  0.455397  0.762460  0.654574  0.010915  0.000000   \n",
       "7  0.983612  0.980989  0.234509  0.045011  0.106279  0.947741  0.200889   \n",
       "\n",
       "          7  \n",
       "0  0.983612  \n",
       "1  0.980989  \n",
       "2  0.234509  \n",
       "3  0.045011  \n",
       "4  0.106279  \n",
       "5  0.947741  \n",
       "6  0.200889  \n",
       "7  0.000000  "
      ]
     },
     "execution_count": 11,
     "metadata": {},
     "output_type": "execute_result"
    }
   ],
   "source": [
    "pd.DataFrame(W,dtype='float64')"
   ]
  },
  {
   "cell_type": "markdown",
   "metadata": {},
   "source": [
    "## Initial delays"
   ]
  },
  {
   "cell_type": "code",
   "execution_count": 12,
   "metadata": {},
   "outputs": [
    {
     "data": {
      "text/html": [
       "<div>\n",
       "<style scoped>\n",
       "    .dataframe tbody tr th:only-of-type {\n",
       "        vertical-align: middle;\n",
       "    }\n",
       "\n",
       "    .dataframe tbody tr th {\n",
       "        vertical-align: top;\n",
       "    }\n",
       "\n",
       "    .dataframe thead th {\n",
       "        text-align: right;\n",
       "    }\n",
       "</style>\n",
       "<table border=\"1\" class=\"dataframe\">\n",
       "  <thead>\n",
       "    <tr style=\"text-align: right;\">\n",
       "      <th></th>\n",
       "      <th>0</th>\n",
       "      <th>1</th>\n",
       "      <th>2</th>\n",
       "      <th>3</th>\n",
       "      <th>4</th>\n",
       "      <th>5</th>\n",
       "      <th>6</th>\n",
       "      <th>7</th>\n",
       "    </tr>\n",
       "  </thead>\n",
       "  <tbody>\n",
       "    <tr>\n",
       "      <th>0</th>\n",
       "      <td>0.000000</td>\n",
       "      <td>135.364488</td>\n",
       "      <td>119.435254</td>\n",
       "      <td>299.441364</td>\n",
       "      <td>280.639490</td>\n",
       "      <td>134.786804</td>\n",
       "      <td>86.938887</td>\n",
       "      <td>116.296971</td>\n",
       "    </tr>\n",
       "    <tr>\n",
       "      <th>1</th>\n",
       "      <td>51.232154</td>\n",
       "      <td>0.000000</td>\n",
       "      <td>49.877632</td>\n",
       "      <td>306.762068</td>\n",
       "      <td>101.927665</td>\n",
       "      <td>219.011060</td>\n",
       "      <td>159.360874</td>\n",
       "      <td>122.201613</td>\n",
       "    </tr>\n",
       "    <tr>\n",
       "      <th>2</th>\n",
       "      <td>141.109991</td>\n",
       "      <td>43.651120</td>\n",
       "      <td>0.000000</td>\n",
       "      <td>51.231781</td>\n",
       "      <td>95.091549</td>\n",
       "      <td>188.941063</td>\n",
       "      <td>152.313074</td>\n",
       "      <td>104.202517</td>\n",
       "    </tr>\n",
       "    <tr>\n",
       "      <th>3</th>\n",
       "      <td>168.366625</td>\n",
       "      <td>199.968921</td>\n",
       "      <td>45.245465</td>\n",
       "      <td>0.000000</td>\n",
       "      <td>45.234177</td>\n",
       "      <td>127.659016</td>\n",
       "      <td>154.293757</td>\n",
       "      <td>232.064390</td>\n",
       "    </tr>\n",
       "    <tr>\n",
       "      <th>4</th>\n",
       "      <td>120.068097</td>\n",
       "      <td>164.594904</td>\n",
       "      <td>182.405674</td>\n",
       "      <td>88.399391</td>\n",
       "      <td>0.000000</td>\n",
       "      <td>64.293058</td>\n",
       "      <td>185.158218</td>\n",
       "      <td>159.183252</td>\n",
       "    </tr>\n",
       "    <tr>\n",
       "      <th>5</th>\n",
       "      <td>260.871595</td>\n",
       "      <td>420.606253</td>\n",
       "      <td>111.662678</td>\n",
       "      <td>129.142852</td>\n",
       "      <td>128.129329</td>\n",
       "      <td>0.000000</td>\n",
       "      <td>103.282894</td>\n",
       "      <td>177.327813</td>\n",
       "    </tr>\n",
       "    <tr>\n",
       "      <th>6</th>\n",
       "      <td>84.835498</td>\n",
       "      <td>170.496463</td>\n",
       "      <td>169.971071</td>\n",
       "      <td>160.275358</td>\n",
       "      <td>153.990115</td>\n",
       "      <td>104.219994</td>\n",
       "      <td>0.000000</td>\n",
       "      <td>131.263940</td>\n",
       "    </tr>\n",
       "    <tr>\n",
       "      <th>7</th>\n",
       "      <td>53.011338</td>\n",
       "      <td>184.564249</td>\n",
       "      <td>184.871430</td>\n",
       "      <td>155.174199</td>\n",
       "      <td>238.132265</td>\n",
       "      <td>165.533770</td>\n",
       "      <td>42.692481</td>\n",
       "      <td>0.000000</td>\n",
       "    </tr>\n",
       "  </tbody>\n",
       "</table>\n",
       "</div>"
      ],
      "text/plain": [
       "            0           1           2           3           4           5  \\\n",
       "0    0.000000  135.364488  119.435254  299.441364  280.639490  134.786804   \n",
       "1   51.232154    0.000000   49.877632  306.762068  101.927665  219.011060   \n",
       "2  141.109991   43.651120    0.000000   51.231781   95.091549  188.941063   \n",
       "3  168.366625  199.968921   45.245465    0.000000   45.234177  127.659016   \n",
       "4  120.068097  164.594904  182.405674   88.399391    0.000000   64.293058   \n",
       "5  260.871595  420.606253  111.662678  129.142852  128.129329    0.000000   \n",
       "6   84.835498  170.496463  169.971071  160.275358  153.990115  104.219994   \n",
       "7   53.011338  184.564249  184.871430  155.174199  238.132265  165.533770   \n",
       "\n",
       "            6           7  \n",
       "0   86.938887  116.296971  \n",
       "1  159.360874  122.201613  \n",
       "2  152.313074  104.202517  \n",
       "3  154.293757  232.064390  \n",
       "4  185.158218  159.183252  \n",
       "5  103.282894  177.327813  \n",
       "6    0.000000  131.263940  \n",
       "7   42.692481    0.000000  "
      ]
     },
     "execution_count": 12,
     "metadata": {},
     "output_type": "execute_result"
    }
   ],
   "source": [
    "pd.DataFrame(tau0,dtype='float64')"
   ]
  },
  {
   "cell_type": "markdown",
   "metadata": {},
   "source": [
    "## Final delays"
   ]
  },
  {
   "cell_type": "code",
   "execution_count": 13,
   "metadata": {},
   "outputs": [
    {
     "data": {
      "text/html": [
       "<div>\n",
       "<style scoped>\n",
       "    .dataframe tbody tr th:only-of-type {\n",
       "        vertical-align: middle;\n",
       "    }\n",
       "\n",
       "    .dataframe tbody tr th {\n",
       "        vertical-align: top;\n",
       "    }\n",
       "\n",
       "    .dataframe thead th {\n",
       "        text-align: right;\n",
       "    }\n",
       "</style>\n",
       "<table border=\"1\" class=\"dataframe\">\n",
       "  <thead>\n",
       "    <tr style=\"text-align: right;\">\n",
       "      <th></th>\n",
       "      <th>0</th>\n",
       "      <th>1</th>\n",
       "      <th>2</th>\n",
       "      <th>3</th>\n",
       "      <th>4</th>\n",
       "      <th>5</th>\n",
       "      <th>6</th>\n",
       "      <th>7</th>\n",
       "    </tr>\n",
       "  </thead>\n",
       "  <tbody>\n",
       "    <tr>\n",
       "      <th>0</th>\n",
       "      <td>0.000000</td>\n",
       "      <td>71.294656</td>\n",
       "      <td>129.461667</td>\n",
       "      <td>393.705618</td>\n",
       "      <td>241.902051</td>\n",
       "      <td>129.461667</td>\n",
       "      <td>71.303291</td>\n",
       "      <td>71.313337</td>\n",
       "    </tr>\n",
       "    <tr>\n",
       "      <th>1</th>\n",
       "      <td>50.440037</td>\n",
       "      <td>0.000000</td>\n",
       "      <td>50.440037</td>\n",
       "      <td>306.762068</td>\n",
       "      <td>104.271007</td>\n",
       "      <td>219.011060</td>\n",
       "      <td>159.360874</td>\n",
       "      <td>104.271007</td>\n",
       "    </tr>\n",
       "    <tr>\n",
       "      <th>2</th>\n",
       "      <td>145.216463</td>\n",
       "      <td>48.694939</td>\n",
       "      <td>0.000000</td>\n",
       "      <td>48.694939</td>\n",
       "      <td>102.748492</td>\n",
       "      <td>188.941063</td>\n",
       "      <td>145.216463</td>\n",
       "      <td>102.748492</td>\n",
       "    </tr>\n",
       "    <tr>\n",
       "      <th>3</th>\n",
       "      <td>112.173189</td>\n",
       "      <td>199.970863</td>\n",
       "      <td>45.241289</td>\n",
       "      <td>0.000000</td>\n",
       "      <td>45.241289</td>\n",
       "      <td>112.167719</td>\n",
       "      <td>112.171724</td>\n",
       "      <td>232.063816</td>\n",
       "    </tr>\n",
       "    <tr>\n",
       "      <th>4</th>\n",
       "      <td>90.223541</td>\n",
       "      <td>90.222795</td>\n",
       "      <td>191.842250</td>\n",
       "      <td>90.201499</td>\n",
       "      <td>0.000000</td>\n",
       "      <td>64.363428</td>\n",
       "      <td>90.231520</td>\n",
       "      <td>90.222213</td>\n",
       "    </tr>\n",
       "    <tr>\n",
       "      <th>5</th>\n",
       "      <td>260.871595</td>\n",
       "      <td>420.606253</td>\n",
       "      <td>95.142603</td>\n",
       "      <td>95.142094</td>\n",
       "      <td>95.146700</td>\n",
       "      <td>0.000000</td>\n",
       "      <td>95.143607</td>\n",
       "      <td>177.327813</td>\n",
       "    </tr>\n",
       "    <tr>\n",
       "      <th>6</th>\n",
       "      <td>92.212666</td>\n",
       "      <td>92.212530</td>\n",
       "      <td>92.214268</td>\n",
       "      <td>92.222450</td>\n",
       "      <td>190.267711</td>\n",
       "      <td>92.212952</td>\n",
       "      <td>0.000000</td>\n",
       "      <td>92.178786</td>\n",
       "    </tr>\n",
       "    <tr>\n",
       "      <th>7</th>\n",
       "      <td>44.712433</td>\n",
       "      <td>122.661654</td>\n",
       "      <td>177.245687</td>\n",
       "      <td>122.652604</td>\n",
       "      <td>238.130762</td>\n",
       "      <td>205.991707</td>\n",
       "      <td>44.712433</td>\n",
       "      <td>0.000000</td>\n",
       "    </tr>\n",
       "  </tbody>\n",
       "</table>\n",
       "</div>"
      ],
      "text/plain": [
       "            0           1           2           3           4           5  \\\n",
       "0    0.000000   71.294656  129.461667  393.705618  241.902051  129.461667   \n",
       "1   50.440037    0.000000   50.440037  306.762068  104.271007  219.011060   \n",
       "2  145.216463   48.694939    0.000000   48.694939  102.748492  188.941063   \n",
       "3  112.173189  199.970863   45.241289    0.000000   45.241289  112.167719   \n",
       "4   90.223541   90.222795  191.842250   90.201499    0.000000   64.363428   \n",
       "5  260.871595  420.606253   95.142603   95.142094   95.146700    0.000000   \n",
       "6   92.212666   92.212530   92.214268   92.222450  190.267711   92.212952   \n",
       "7   44.712433  122.661654  177.245687  122.652604  238.130762  205.991707   \n",
       "\n",
       "            6           7  \n",
       "0   71.303291   71.313337  \n",
       "1  159.360874  104.271007  \n",
       "2  145.216463  102.748492  \n",
       "3  112.171724  232.063816  \n",
       "4   90.231520   90.222213  \n",
       "5   95.143607  177.327813  \n",
       "6    0.000000   92.178786  \n",
       "7   44.712433    0.000000  "
      ]
     },
     "execution_count": 13,
     "metadata": {},
     "output_type": "execute_result"
    }
   ],
   "source": [
    "pd.DataFrame(tau,dtype='float64')"
   ]
  },
  {
   "cell_type": "markdown",
   "metadata": {},
   "source": [
    "## Final velocities"
   ]
  },
  {
   "cell_type": "code",
   "execution_count": 14,
   "metadata": {},
   "outputs": [
    {
     "data": {
      "text/html": [
       "<div>\n",
       "<style scoped>\n",
       "    .dataframe tbody tr th:only-of-type {\n",
       "        vertical-align: middle;\n",
       "    }\n",
       "\n",
       "    .dataframe tbody tr th {\n",
       "        vertical-align: top;\n",
       "    }\n",
       "\n",
       "    .dataframe thead th {\n",
       "        text-align: right;\n",
       "    }\n",
       "</style>\n",
       "<table border=\"1\" class=\"dataframe\">\n",
       "  <thead>\n",
       "    <tr style=\"text-align: right;\">\n",
       "      <th></th>\n",
       "      <th>0</th>\n",
       "      <th>1</th>\n",
       "      <th>2</th>\n",
       "      <th>3</th>\n",
       "      <th>4</th>\n",
       "      <th>5</th>\n",
       "      <th>6</th>\n",
       "      <th>7</th>\n",
       "    </tr>\n",
       "  </thead>\n",
       "  <tbody>\n",
       "    <tr>\n",
       "      <th>0</th>\n",
       "      <td>0.612800</td>\n",
       "      <td>1.180879</td>\n",
       "      <td>1.201618</td>\n",
       "      <td>0.516258</td>\n",
       "      <td>0.909459</td>\n",
       "      <td>1.569990</td>\n",
       "      <td>2.181715</td>\n",
       "      <td>1.180570</td>\n",
       "    </tr>\n",
       "    <tr>\n",
       "      <th>1</th>\n",
       "      <td>1.669118</td>\n",
       "      <td>1.263931</td>\n",
       "      <td>1.669118</td>\n",
       "      <td>0.507114</td>\n",
       "      <td>1.949281</td>\n",
       "      <td>1.004515</td>\n",
       "      <td>1.275429</td>\n",
       "      <td>1.491915</td>\n",
       "    </tr>\n",
       "    <tr>\n",
       "      <th>2</th>\n",
       "      <td>1.071252</td>\n",
       "      <td>1.728934</td>\n",
       "      <td>1.774470</td>\n",
       "      <td>1.728934</td>\n",
       "      <td>1.514022</td>\n",
       "      <td>1.075751</td>\n",
       "      <td>1.514980</td>\n",
       "      <td>1.978165</td>\n",
       "    </tr>\n",
       "    <tr>\n",
       "      <th>3</th>\n",
       "      <td>1.811961</td>\n",
       "      <td>0.777931</td>\n",
       "      <td>1.860919</td>\n",
       "      <td>1.631402</td>\n",
       "      <td>1.860919</td>\n",
       "      <td>1.386883</td>\n",
       "      <td>1.811985</td>\n",
       "      <td>0.948015</td>\n",
       "    </tr>\n",
       "    <tr>\n",
       "      <th>4</th>\n",
       "      <td>2.438388</td>\n",
       "      <td>2.252795</td>\n",
       "      <td>0.810893</td>\n",
       "      <td>0.933359</td>\n",
       "      <td>1.491772</td>\n",
       "      <td>1.308046</td>\n",
       "      <td>1.724048</td>\n",
       "      <td>2.252810</td>\n",
       "    </tr>\n",
       "    <tr>\n",
       "      <th>5</th>\n",
       "      <td>0.779132</td>\n",
       "      <td>0.523055</td>\n",
       "      <td>2.136304</td>\n",
       "      <td>1.635065</td>\n",
       "      <td>0.884848</td>\n",
       "      <td>1.504311</td>\n",
       "      <td>0.884877</td>\n",
       "      <td>0.877265</td>\n",
       "    </tr>\n",
       "    <tr>\n",
       "      <th>6</th>\n",
       "      <td>1.687008</td>\n",
       "      <td>2.204185</td>\n",
       "      <td>2.385748</td>\n",
       "      <td>2.203948</td>\n",
       "      <td>0.817603</td>\n",
       "      <td>0.912999</td>\n",
       "      <td>1.796911</td>\n",
       "      <td>0.913338</td>\n",
       "    </tr>\n",
       "    <tr>\n",
       "      <th>7</th>\n",
       "      <td>1.882929</td>\n",
       "      <td>1.268232</td>\n",
       "      <td>1.146733</td>\n",
       "      <td>1.793684</td>\n",
       "      <td>0.853537</td>\n",
       "      <td>0.755193</td>\n",
       "      <td>1.882929</td>\n",
       "      <td>0.705046</td>\n",
       "    </tr>\n",
       "  </tbody>\n",
       "</table>\n",
       "</div>"
      ],
      "text/plain": [
       "          0         1         2         3         4         5         6  \\\n",
       "0  0.612800  1.180879  1.201618  0.516258  0.909459  1.569990  2.181715   \n",
       "1  1.669118  1.263931  1.669118  0.507114  1.949281  1.004515  1.275429   \n",
       "2  1.071252  1.728934  1.774470  1.728934  1.514022  1.075751  1.514980   \n",
       "3  1.811961  0.777931  1.860919  1.631402  1.860919  1.386883  1.811985   \n",
       "4  2.438388  2.252795  0.810893  0.933359  1.491772  1.308046  1.724048   \n",
       "5  0.779132  0.523055  2.136304  1.635065  0.884848  1.504311  0.884877   \n",
       "6  1.687008  2.204185  2.385748  2.203948  0.817603  0.912999  1.796911   \n",
       "7  1.882929  1.268232  1.146733  1.793684  0.853537  0.755193  1.882929   \n",
       "\n",
       "          7  \n",
       "0  1.180570  \n",
       "1  1.491915  \n",
       "2  1.978165  \n",
       "3  0.948015  \n",
       "4  2.252810  \n",
       "5  0.877265  \n",
       "6  0.913338  \n",
       "7  0.705046  "
      ]
     },
     "execution_count": 14,
     "metadata": {},
     "output_type": "execute_result"
    }
   ],
   "source": [
    "pd.DataFrame(vel,dtype='float64')"
   ]
  }
 ],
 "metadata": {
  "kernelspec": {
   "display_name": "Python 3",
   "language": "python",
   "name": "python3"
  },
  "language_info": {
   "codemirror_mode": {
    "name": "ipython",
    "version": 3
   },
   "file_extension": ".py",
   "mimetype": "text/x-python",
   "name": "python",
   "nbconvert_exporter": "python",
   "pygments_lexer": "ipython3",
   "version": "3.6.5"
  }
 },
 "nbformat": 4,
 "nbformat_minor": 2
}
